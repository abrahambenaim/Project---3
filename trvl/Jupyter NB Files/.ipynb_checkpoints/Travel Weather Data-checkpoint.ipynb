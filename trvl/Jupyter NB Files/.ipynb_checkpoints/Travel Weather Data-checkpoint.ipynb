{
 "cells": [
  {
   "cell_type": "code",
   "execution_count": 1,
   "metadata": {},
   "outputs": [],
   "source": [
    "# !pip install dateparser\n",
    "# !pip install geopy\n",
    "# !pip install geonamescache\n",
    "import numpy as np\n",
    "import pandas as pd\n",
    "from flask import Flask, jsonify\n",
    "import requests\n",
    "import pprint as pp\n",
    "import time\n",
    "\n",
    "from dateparser.search import search_dates\n",
    "import datetime as dt\n",
    "\n",
    "# Weather API\n",
    "import openweathermapy.core as owm\n",
    "from api_keys import api_key\n",
    "\n",
    "# Incorporated citipy to determine city based on latitude and longitude\n",
    "from geopy import geocoders  \n",
    "gn = geocoders.GeoNames(username='moalarcon')\n",
    "import geonamescache\n",
    "from geonamescache.mappers import country\n",
    "\n",
    "# Python SQL toolkit and Object Relational Mapper\n",
    "import sqlalchemy\n",
    "from sqlalchemy.ext.automap import automap_base\n",
    "from sqlalchemy.orm import Session\n",
    "from sqlalchemy import create_engine, func, inspect"
   ]
  },
  {
   "cell_type": "markdown",
   "metadata": {},
   "source": [
    "# CHAMPS Travel Routes API call"
   ]
  },
  {
   "cell_type": "markdown",
   "metadata": {},
   "source": [
    "# API call to GLOBE.gov for historical global weather"
   ]
  },
  {
   "cell_type": "markdown",
   "metadata": {},
   "source": [
    "## Format Kayak response for GLOBE API call parameters"
   ]
  },
  {
   "cell_type": "markdown",
   "metadata": {},
   "source": [
    "##### NOTE: CODE DOESNT WORK\n",
    "Need to debug how to parse the string response from Kayak Scraping because the format of output messes up the parsing command. For the purposes of moving on, ignoring next cell and hard coding Kayak response.\n"
   ]
  },
  {
   "cell_type": "code",
   "execution_count": null,
   "metadata": {},
   "outputs": [],
   "source": [
    "# #### SAMPLE RESPONSE FROM KAYAK: string type\n",
    "# answer = 'Start from MiamiTue Mar 3,\\xa04:45 PM10h 35mMadridStay 3 nightsSat Mar 7,\\xa06:05 PM2h 05mParisStay 5 nightsThu Mar 12,\\xa06:05 PM8h 25mNew YorkStay 4 nightsMon Mar 16,\\xa03:37 PM3h 21mEnd in Miami'\n",
    "\n",
    "# ## from kayak output parse: start, 3 destinations and end (includes city and dates)\n",
    "# ans_parse = answer.split(\",\")\n",
    "# ans_parse\n",
    "\n",
    "# start = ans_parse[0]\n",
    "# dest1 = ans_parse[1]\n",
    "# dest2 = ans_parse[2]\n",
    "# dest3 = ans_parse[3]\n",
    "# end = ans_parse[4]\n",
    "\n",
    "# start, dest1, dest2, dest3, end\n",
    "\n",
    "# ## from variables above, parse city and dates into their own variables \n",
    "# ## (e.g., issue: non-standard formatting; see dest3)\n",
    "\n",
    "# start_city = f\"{start[2]}\"\n",
    "# start_date = f\"{start[3]} {start[4]}\"\n",
    "# start_city\n",
    "# start_date\n",
    "\n",
    "# dest1 = dest1.split()\n",
    "# dest1_city= f\"{dest1[2]}\" \n",
    "# dest1_date= f\"{dest1[5]} {dest1[6]}\"\n",
    "\n",
    "\n",
    "# dest2 = dest2.split()\n",
    "# dest2_city= f\"{dest2[2]}\" \n",
    "# dest2_date= f\"{dest2[5]} {dest2[6]}\"\n",
    "\n",
    "# dest3 = dest3.split()\n",
    "# dest3_city= f\"{dest3[2]} {dest3[3]}\" \n",
    "# dest3_date= f\"{dest3[6]} {dest3[7]}\"\n"
   ]
  },
  {
   "cell_type": "markdown",
   "metadata": {},
   "source": [
    "NOTE: (amongst other things) would need to convert dates from Kayak scraping of dates from strings to datetime object to get format \"MM-DD\"\n",
    "    e.g.: start_date = \"Mar 3\" to \"03-03\" AND end_date = \"Mar 16\" to \"03-16\"\n",
    "Code runs into error \"ValueError: time data 'Mar 3' does not match format '%b-%d'\" because day is not zero-padded\n",
    "    startdate = datetime.strptime(start_date,'%m-%d')\n",
    "    enddate = datetime.strptime(end_date,'%m-%d')\n"
   ]
  },
  {
   "cell_type": "markdown",
   "metadata": {},
   "source": [
    "### Set up API call parameters"
   ]
  },
  {
   "cell_type": "markdown",
   "metadata": {},
   "source": [
    "NOTE: Using manual input parameters because parsing kayak response isn't working"
   ]
  },
  {
   "cell_type": "code",
   "execution_count": 2,
   "metadata": {},
   "outputs": [],
   "source": [
    "## Combine CITIES and DATES for start, end and destinations into nested dictionary\n",
    "\n",
    "weather_params = {\"travel_details\" : \n",
    "                  {1: {\"city\": \"Madrid\", \"traveldates_start\": \"03-03\", \"traveldates_end\": \"03-06\"}, \n",
    "                  2: {\"city\": \"Paris\", \"traveldates_start\": \"03-07\", \"traveldates_end\": \"03-11\"}, \n",
    "                  3: {\"city\": \"New York City\", \"traveldates_start\": \"03-12\", \"traveldates_end\": \"03-15\"}}}\n",
    "\n",
    "cities = [\"Madrid\", \"Paris\", \"New York City\"]"
   ]
  },
  {
   "cell_type": "code",
   "execution_count": null,
   "metadata": {},
   "outputs": [],
   "source": [
    "baseURL = \"https://api.globe.gov/search/v1/measurement/protocol/measureddate/point/distance/?protocols=air_temp_dailies&protocols=humidity_noons&protocols=precipitations&protocols=sky_conditions\"\n",
    "\n",
    "for j in range(1,4):\n",
    "    travel_start = weather_params[\"travel_details\"][j][\"traveldates_start\"]\n",
    "    travel_end = weather_params[\"travel_details\"][j][\"traveldates_end\"]  \n",
    "    start_date = f\"2018-{travel_start}\"   ##format for query\n",
    "    end_date = f\"2018-{travel_end}\"   ##format for query\n",
    "    city = weather_params[\"travel_details\"][j][\"city\"]\n",
    "    location = gn.geocode(city) \n",
    "    time.sleep(5)\n",
    "    lat = location.latitude\n",
    "    lon = location.longitude\n",
    "#     print(city, travel_start, travel_end, lat, lon)\n",
    "    query = f\"{baseURL}&startdate={start_date}&enddate={end_date}&lat={lat}&lon={lon}&distanceinkm=75&geojson=FALSE&sample=FALSE\"\n",
    "    response = requests.get(f'{query}').json()\n",
    "    JSON_ = response[\"results\"]   ##LIST of dicts\n",
    "    j = j+1\n",
    "    \n",
    "    print(f\"---------------{city}---------------\")\n",
    "    print(city, travel_start, travel_end, lat, lon, query, response)"
   ]
  },
  {
   "cell_type": "code",
   "execution_count": null,
   "metadata": {},
   "outputs": [],
   "source": [
    "# gc = geonamescache.GeonamesCache()\n",
    "# countries = gc.get_countries()\n",
    "# mapper = country(from_key='name', to_key='iso3')\n",
    "\n",
    "\n",
    "\n",
    "# for city in cities:\n",
    "#     city.geocode(city, exactly_one=True, timeout=DEFAULT_SENTINEL, country=None, country_bias=None)\n",
    "#     gc.get_cities(city)\n",
    "#     gc.get_countries(city)\n",
    "#     print(city, travel_start, travel_end, lat, lon)\n"
   ]
  },
  {
   "cell_type": "markdown",
   "metadata": {},
   "source": [
    "Eventually need to define function that  iterate through weather_params dict, pull values for query and run query\n"
   ]
  },
  {
   "cell_type": "code",
   "execution_count": 3,
   "metadata": {},
   "outputs": [
    {
     "name": "stdout",
     "output_type": "stream",
     "text": [
      "Madrid 03-03 03-06 40.4165 -3.70256 https://api.globe.gov/search/v1/measurement/protocol/measureddate/point/distance/?protocols=air_temp_dailies&protocols=humidity_noons&protocols=precipitations&protocols=sky_conditions&startdate=2018-03-03&enddate=2018-03-06&lat=40.4165&lon=-3.70256&distanceinkm=100&geojson=FALSE&sample=FALSE\n",
      "Paris 03-07 03-11 48.85341 2.3488 https://api.globe.gov/search/v1/measurement/protocol/measureddate/point/distance/?protocols=air_temp_dailies&protocols=humidity_noons&protocols=precipitations&protocols=sky_conditions&startdate=2018-03-07&enddate=2018-03-11&lat=48.85341&lon=2.3488&distanceinkm=100&geojson=FALSE&sample=FALSE\n",
      "New York City 03-12 03-15 40.71427 -74.00597 https://api.globe.gov/search/v1/measurement/protocol/measureddate/point/distance/?protocols=air_temp_dailies&protocols=humidity_noons&protocols=precipitations&protocols=sky_conditions&startdate=2018-03-12&enddate=2018-03-15&lat=40.71427&lon=-74.00597&distanceinkm=100&geojson=FALSE&sample=FALSE\n"
     ]
    }
   ],
   "source": [
    "# Initialize list for output of API call;\n",
    "\n",
    "baseURL = \"https://api.globe.gov/search/v1/measurement/protocol/measureddate/point/distance/?protocols=air_temp_dailies&protocols=humidity_noons&protocols=precipitations&protocols=sky_conditions\"\n",
    "\n",
    "#initialize empty lists to append necessary weather data\n",
    "date = []\n",
    "max_temp = []\n",
    "min_temp = []\n",
    "precip = []\n",
    "humidity = []\n",
    "latitude = []\n",
    "longitude= []\n",
    "JSON_list = []\n",
    "\n",
    "i=0\n",
    "\n",
    "## iterrate through weather_params dict to pull out query parameters\n",
    "for j in range(1,4):\n",
    "    travel_start = weather_params[\"travel_details\"][j][\"traveldates_start\"]\n",
    "    travel_end = weather_params[\"travel_details\"][j][\"traveldates_end\"]  \n",
    "    start_date = f\"2018-{travel_start}\"\n",
    "    end_date = f\"2018-{travel_end}\"\n",
    "    city = weather_params[\"travel_details\"][j][\"city\"]\n",
    "    location = gn.geocode(city) \n",
    "    time.sleep(5)\n",
    "    lat = location.latitude\n",
    "    lon = location.longitude\n",
    "    #API query URL\n",
    "    query = f\"{baseURL}&startdate={start_date}&enddate={end_date}&lat={lat}&lon={lon}&distanceinkm=100&geojson=FALSE&sample=FALSE\"\n",
    "    response = requests.get(f'{query}').json()\n",
    "    JSON_ = response[\"results\"]   ##LIST of dicts\n",
    "    #     print(JSON_)\n",
    "\n",
    "    for i in range(len(JSON_)): ## iterate through JSON_ list for each item[i], which are dicts\n",
    "\n",
    "        ## create conditional to pull data from response    \n",
    "        if JSON_[i]['protocol'] == 'air_temp_dailies':\n",
    "                    ### Append JSON response values to lists for each output variable\n",
    "            date.append(JSON_[i]['measuredDate'])\n",
    "            max_temp.append(JSON_[i]['data']['airtempdailiesMaximumTemp'])\n",
    "            min_temp.append(JSON_[i]['data']['airtempdailiesMinimumTemp'])\n",
    "            latitude.append(JSON_[i]['latitude'])\n",
    "            longitude.append(JSON_[i]['longitude'])\n",
    "        elif JSON_[i]['protocol'] == 'humidity_noons':\n",
    "            humidity.append(JSON_[i]['data']['humiditynoonsRelativeHumidityPercent'])\n",
    "#             j=j+1\n",
    "            i=i+1\n",
    "        elif JSON_[i]['protocol'] == 'precipitations':\n",
    "            precip.append(JSON_[i]['data']['precipitationsOccurrenceType'])\n",
    "#             j=j+1\n",
    "            i=i+1\n",
    "        else: \n",
    "            date.append(np.nan)\n",
    "            max_temp.append(np.nan)\n",
    "            min_temp.append(np.nan)            \n",
    "            latitude.append(np.nan)\n",
    "            longitude.append(np.nan)\n",
    "            humidity.append(np.nan)            \n",
    "            precip.append(np.nan)\n",
    "            i=i+1\n",
    "    del JSON_\n",
    "        \n",
    "    print(city, travel_start, travel_end, lat, lon, query)"
   ]
  },
  {
   "cell_type": "code",
   "execution_count": 4,
   "metadata": {},
   "outputs": [
    {
     "name": "stdout",
     "output_type": "stream",
     "text": [
      "45 45 45 45 52\n",
      "date['2018-03-03', '2018-03-04', '2018-03-05', '2018-03-06', nan, nan, nan, '2018-03-12', '2018-03-13', '2018-03-14', '2018-03-15', nan, nan, nan, nan, '2018-03-12', '2018-03-13', '2018-03-14', '2018-03-15', '2018-03-12', '2018-03-13', '2018-03-14', '2018-03-15', nan, '2018-03-12', '2018-03-13', '2018-03-14', '2018-03-15', '2018-03-12', '2018-03-13', '2018-03-14', '2018-03-15', nan, nan, nan, nan, nan, nan, nan, nan, nan, nan, nan, nan, nan]\n",
      "max_temp[8.3, 9.3, 10.4, 6.3, nan, nan, nan, 5.9, 4.9, 1.9, 3.1, nan, nan, nan, nan, 6.9, 6.5, 4.5, 6, 8.1, 6.1, 4.6, 6, nan, 7.4, 5.3, 5.2, 7.9, 5.3, 3.9, 2.1, 3.4, nan, nan, nan, nan, nan, nan, nan, nan, nan, nan, nan, nan, nan]\n",
      "min_temp[3, 2.7, 1.9, 0.9, nan, nan, nan, -3.4, -1.4, -2.7, -3.2, nan, nan, nan, nan, -0.8, 0.4, -0.5, 0, -1.3, 0.1, -1, -0.8, nan, -0.9, -2.2, -1.1, -0.8, -3.6, -1.1, -3.2, -2.2, nan, nan, nan, nan, nan, nan, nan, nan, nan, nan, nan, nan, nan]\n",
      "precip['rain', 'rain', 'rain', 'rain', nan, nan, nan, 'no occurrence', 'no occurrence', 'no occurrence', 'no occurrence', nan, nan, nan, nan, 'no occurrence', 'rain', 'rain', 'no occurrence', 'no occurrence', 'rain', 'rain', 'no occurrence', nan, 'no occurrence', 'rain', 'no occurrence', 'no occurrence', 'no occurrence', 'rain', 'no occurrence', 'no occurrence', nan, nan, nan, nan, nan, nan, nan, nan, nan, nan, nan, nan, nan]\n",
      "humidity[100, 81, 100, 100, nan, nan, nan, 56.9, 100, 62.9, 49.1, 58, nan, 49, nan, 58, nan, nan, 59.4, 100, 51.4, 38.6, 64.9, 100, 51.9, 41.7, nan, 70, 63, 53, 42, 62.1, 78.8, 60.7, 44.6, nan, 71, 53, 58, 67, nan, nan, nan, nan, nan, nan, nan, nan, nan, nan, nan, nan]\n",
      "latitude[40.5836, 40.5836, 40.5836, 40.5836, nan, nan, nan, 41.36518, 41.36518, 41.36518, 41.36518, nan, nan, nan, nan, 40.71407, 40.71407, 40.71407, 40.71407, 40.7712, 40.7712, 40.7712, 40.7712, nan, 40.7808, 40.7808, 40.7808, 40.7808, 40.803491, 40.803491, 40.803491, 40.803491, nan, nan, nan, nan, nan, nan, nan, nan, nan, nan, nan, nan, nan]\n",
      "longitude[-4.0085, -4.0085, -4.0085, -4.0085, nan, nan, nan, -73.75677, -73.75677, -73.75677, -73.75677, nan, nan, nan, nan, -73.06673, -73.06673, -73.06673, -73.06673, -73.7045, -73.7045, -73.7045, -73.7045, nan, -74.602264, -74.602264, -74.602264, -74.602264, -74.449542, -74.449542, -74.449542, -74.449542, nan, nan, nan, nan, nan, nan, nan, nan, nan, nan, nan, nan, nan]\n"
     ]
    }
   ],
   "source": [
    "print(len(date),len(max_temp),len(min_temp),len(precip),len(humidity))\n",
    "# print(len(max_temp))\n",
    "# print(len(min_temp))\n",
    "# print(len(precip))\n",
    "# print(len(humidity))\n",
    "print(f\"date{date}\")\n",
    "print(f\"max_temp{max_temp}\")\n",
    "print(f\"min_temp{min_temp}\")\n",
    "print(f\"precip{precip}\")\n",
    "print(f\"humidity{humidity}\")\n",
    "print(f\"latitude{latitude}\")\n",
    "print(f\"longitude{longitude}\")"
   ]
  },
  {
   "cell_type": "code",
   "execution_count": null,
   "metadata": {},
   "outputs": [],
   "source": [
    "# print(len(JSON_list))\n",
    "# print(type(JSON_list[0]))\n",
    "# pp.pprint(JSON_list[0])\n",
    "pp.pprint(JSON_list)\n",
    "\n",
    "## Figure out length of list holding list of JSON response\n",
    "print(len(JSON_list))   ## length should be number of destinations\n",
    "print(f\"JSON LIST: {type(JSON_list)}\")\n",
    "print(f\"JSON LIST FIRST ITEM: {type(JSON_list[0])}\")\n",
    "\n",
    "## figure out length of list holding dicts of API response weather protocols; weather protocols =3 so ##days*3\n",
    "print(len(JSON_list[0]))     ## length will change according to # days for each city\n",
    "##each protocol response is in its own dict, so 1 day = 3 weather dict items\n",
    "print(f\"JSON LIST ITEM ONE, FIRST DICT: {type(JSON_list[0][0])}\")\n",
    "# pp.pprint(JSON_list[2])"
   ]
  },
  {
   "cell_type": "markdown",
   "metadata": {},
   "source": [
    "NOTE: code to test how to extract values from JSON response"
   ]
  },
  {
   "cell_type": "code",
   "execution_count": null,
   "metadata": {},
   "outputs": [],
   "source": [
    "# ## create a variable to hold JSON_list items (i.e, list of each city's historical weather for the date range)\n",
    "# madrid_list = JSON_list[0]\n",
    "# # city_list\n",
    "\n",
    "# ## create variables to hold each day's first 3 weather results (humidity, precip, airtemp)\n",
    "# madridw_1= madrid_list[0]    ### or JSON_list[0][0]\n",
    "# madridw_2 = madrid_list[1]\n",
    "# madridw_3 = madrid_list[2]\n",
    "\n",
    "# ### create variables to hold each day's second 3 weather results (humidity, precip, airtemp)\n",
    "# madridw_4= madrid_list[0]\n",
    "# madridw_5 = madrid_list[1]\n",
    "# madridw_6 = madrid_list[2] \n",
    "\n",
    "# ###etc. etc. over each day in the date range\n",
    "\n",
    "# # pp.pprint(madridw_1)\n",
    "# # pp.pprint(JSON_list[0][0])\n",
    "# # print(madrid_list)\n",
    "# print(madrid_list[2])\n",
    "# print(len(madrid_list))\n"
   ]
  },
  {
   "cell_type": "code",
   "execution_count": null,
   "metadata": {},
   "outputs": [],
   "source": [
    "## initialize dict to hold all output\n",
    "weather={}\n",
    "\n",
    "\n",
    "#initialize empty lists to append necessary weather data\n",
    "date = []\n",
    "max_temp = []\n",
    "min_temp = []\n",
    "precip = []\n",
    "humidity = []\n",
    "lat = []\n",
    "lon= []\n",
    "\n",
    "\n",
    "## Iterate over madrid_list - first list item of JSON_list (i.e., city1)\n",
    "i = 0\n",
    "j = 0\n",
    "\n",
    "# cityweather_list = JSON_list[i]\n",
    "\n",
    "## iterate through JSON_list \n",
    "for i in range(len(JSON_list)):   ###LIST: len=3 for each city\n",
    "    cityweather_list = JSON_list[i]\n",
    "    \n",
    "    ##iterate through cityweather_list of dict\n",
    "    for j in range(len(cityweather_list)):     ###LIST: len=n for each day in date range\n",
    "        \n",
    "            ## create conditional to pull data from different protocol dicts of cityweather_list\n",
    "        if cityweather_list[j]['protocol'] == 'air_temp_dailies':\n",
    "                ### Append JSON response values to lists for each output variable\n",
    "            date.append(cityweather_list[j]['measuredDate'])\n",
    "            max_temp.append(cityweather_list[j]['data']['airtempdailiesMaximumTemp'])\n",
    "            min_temp.append(cityweather_list[j]['data']['airtempdailiesMinimumTemp'])\n",
    "            lat.append(cityweather_list[j]['latitude'])\n",
    "            lon.append(cityweather_list[j]['longitude'])\n",
    "            j=j+1\n",
    "        elif cityweather_list[j]['protocol'] == 'humidity_noons':\n",
    "            humidity.append(cityweather_list[j]['data']['humiditynoonsRelativeHumidityPercent'])\n",
    "            j=j+1\n",
    "        elif cityweather_list[j]['protocol'] == 'precipitations':\n",
    "            precip.append(cityweather_list[j]['data']['precipitationsOccurrenceType'])\n",
    "            j=j+1\n",
    "        else: \n",
    "            date.append(np.nan)\n",
    "            max_temp.append(np.nan)\n",
    "            min_temp.append(np.nan)            \n",
    "            lat.append(np.nan)\n",
    "            lon.append(np.nan)\n",
    "            humidity.append(np.nan)\n",
    "            precip.append(np.nan)\n",
    "        i=i+1\n",
    "    \n",
    "# # for i in range(len(JSON_list)):   ###LIST: len=3 for each city\n",
    "# cityweather_list = JSON_list[i]\n",
    "# for j in range(len(cityweather_list)):     ###LIST: len=n for each day in date range\n",
    "#         ## create conditional to pull data from different weather dicts of results\n",
    "#     if cityweather_list[j]['protocol'] == 'air_temp_dailies':\n",
    "#             ### Append JSON response values to lists for each output variable\n",
    "#         date.append(cityweather_list[j]['measuredDate'])\n",
    "#         max_temp.append(cityweather_list[j]['data']['airtempdailiesMaximumTemp'])\n",
    "#         min_temp.append(cityweather_list[j]['data']['airtempdailiesMinimumTemp'])\n",
    "#         lat.append(cityweather_list[j]['latitude'])\n",
    "#         lon.append(cityweather_list[j]['longitude'])\n",
    "#         j=j+1\n",
    "#     elif cityweather_list[j]['protocol'] == 'humidity_noons':\n",
    "#         humidity.append(cityweather_list[j]['data']['humiditynoonsRelativeHumidityPercent'])\n",
    "#         j=j+1\n",
    "#     elif cityweather_list[j]['protocol'] == 'precipitations':\n",
    "#         precip.append(cityweather_list[j]['data']['precipitationsOccurrenceType'])\n",
    "#         j=j+1\n",
    "#     else: \n",
    "#         date.append(np.nan)\n",
    "#         max_temp.append(np.nan)\n",
    "#         min_temp.append(np.nan)            \n",
    "#         lat.append(np.nan)\n",
    "#         lon.append(np.nan)\n",
    "#         humidity.append(np.nan)\n",
    "#         precip.append(np.nan)\n",
    "#         j=j+1\n",
    "# j=0\n",
    "# i=i+1\n",
    "    \n",
    "    \n",
    "    \n",
    "\n",
    "print(len(date))\n",
    "print(len(max_temp))\n",
    "print(len(min_temp))\n",
    "print(len(precip))\n",
    "print(len(humidity))\n",
    "print(date)\n",
    "print(max_temp)\n",
    "print(max_temp)\n",
    "print(min_temp)\n",
    "print(precip)\n",
    "print(humidity)\n",
    "print(lat)\n",
    "print(lon)\n"
   ]
  },
  {
   "cell_type": "code",
   "execution_count": null,
   "metadata": {},
   "outputs": [],
   "source": [
    "## Drop NaN values from lists\n",
    "test = [x for x in date if ~np.isnan(x)]\n",
    "# date = \n",
    "# max_temp = \n",
    "# min_temp = \n",
    "# precip =\n",
    "# humidity = \n",
    "# lat = \n",
    "# lon= \n",
    "\n"
   ]
  },
  {
   "cell_type": "code",
   "execution_count": null,
   "metadata": {},
   "outputs": [],
   "source": [
    "##Convert lists into dict (or DF) for output.. ideally append onto weather_params dict at beginning\n"
   ]
  },
  {
   "cell_type": "code",
   "execution_count": null,
   "metadata": {},
   "outputs": [],
   "source": []
  },
  {
   "cell_type": "code",
   "execution_count": null,
   "metadata": {},
   "outputs": [],
   "source": [
    "#convert data to DataFrame\n",
    "weather_dict = {\"City\": destinations,\n",
    "                           #\"Country\": country_codes,\n",
    "                           \"Latitude\": lats,\n",
    "                           \"Longitude\": lons,\n",
    "                           \"Dates\": date,\n",
    "                           \"Max Temp\": max_temp,\n",
    "                           \"Min Temp\": min_temp,\n",
    "                           \"Precipitation\": precip_type,\n",
    "                           \"Precipitation Amt\": precip,\n",
    "                           \"Humidity\": humidity\n",
    "               }\n",
    " "
   ]
  },
  {
   "cell_type": "code",
   "execution_count": null,
   "metadata": {},
   "outputs": [],
   "source": [
    "#### NOTES: could copy the WeatherPy hw and make annual graphs of weather trend for each city/destination\n",
    "#### line graph of Annual precipitation for Madrid, London, Paris; \n",
    "#### error bar graph (max, min, mean) with annual temperatures of Madrid London Paris;\n",
    "#### bar graph of Annual humidity for Madrid, London Paris"
   ]
  },
  {
   "cell_type": "code",
   "execution_count": null,
   "metadata": {},
   "outputs": [],
   "source": []
  }
 ],
 "metadata": {
  "kernelspec": {
   "display_name": "Python 3",
   "language": "python",
   "name": "python3"
  },
  "language_info": {
   "codemirror_mode": {
    "name": "ipython",
    "version": 3
   },
   "file_extension": ".py",
   "mimetype": "text/x-python",
   "name": "python",
   "nbconvert_exporter": "python",
   "pygments_lexer": "ipython3",
   "version": "3.7.3"
  }
 },
 "nbformat": 4,
 "nbformat_minor": 2
}
