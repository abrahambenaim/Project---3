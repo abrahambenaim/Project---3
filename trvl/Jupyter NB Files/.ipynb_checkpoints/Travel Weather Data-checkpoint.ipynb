{
 "cells": [
  {
   "cell_type": "code",
   "execution_count": 1,
   "metadata": {},
   "outputs": [],
   "source": [
    "# !pip install dateparser\n",
    "# !pip install geopy\n",
    "# !pip install geonamescache\n",
    "import numpy as np\n",
    "import pandas as pd\n",
    "from flask import Flask, jsonify\n",
    "import requests\n",
    "import pprint as pp\n",
    "import time\n",
    "\n",
    "from dateparser.search import search_dates\n",
    "import datetime as dt\n",
    "\n",
    "# Weather API\n",
    "import openweathermapy.core as owm\n",
    "from api_keys import api_key\n",
    "\n",
    "# Incorporated citipy to determine city based on latitude and longitude\n",
    "from geopy import geocoders  \n",
    "gn = geocoders.GeoNames(username='moalarcon')\n",
    "import geonamescache\n",
    "from geonamescache.mappers import country\n",
    "\n",
    "# Python SQL toolkit and Object Relational Mapper\n",
    "import sqlalchemy\n",
    "from sqlalchemy.ext.automap import automap_base\n",
    "from sqlalchemy.orm import Session\n",
    "from sqlalchemy import create_engine, func, inspect"
   ]
  },
  {
   "cell_type": "markdown",
   "metadata": {},
   "source": [
    "# CHAMPS Travel Routes API call"
   ]
  },
  {
   "cell_type": "markdown",
   "metadata": {},
   "source": [
    "# API call to GLOBE.gov for historical global weather"
   ]
  },
  {
   "cell_type": "markdown",
   "metadata": {},
   "source": [
    "## Format Kayak response for GLOBE API call parameters"
   ]
  },
  {
   "cell_type": "markdown",
   "metadata": {},
   "source": [
    "##### NOTE: CODE DOESNT WORK\n",
    "Need to debug how to parse the string response from Kayak Scraping because the format of output messes up the parsing command. For the purposes of moving on, ignoring next cell and hard coding Kayak response.\n"
   ]
  },
  {
   "cell_type": "code",
   "execution_count": null,
   "metadata": {},
   "outputs": [],
   "source": [
    "# #### SAMPLE RESPONSE FROM KAYAK: string type\n",
    "# answer = 'Start from MiamiTue Mar 3,\\xa04:45 PM10h 35mMadridStay 3 nightsSat Mar 7,\\xa06:05 PM2h 05mParisStay 5 nightsThu Mar 12,\\xa06:05 PM8h 25mNew YorkStay 4 nightsMon Mar 16,\\xa03:37 PM3h 21mEnd in Miami'\n",
    "\n",
    "# ## from kayak output parse: start, 3 destinations and end (includes city and dates)\n",
    "# ans_parse = answer.split(\",\")\n",
    "# ans_parse\n",
    "\n",
    "# start = ans_parse[0]\n",
    "# dest1 = ans_parse[1]\n",
    "# dest2 = ans_parse[2]\n",
    "# dest3 = ans_parse[3]\n",
    "# end = ans_parse[4]\n",
    "\n",
    "# start, dest1, dest2, dest3, end\n",
    "\n",
    "# ## from variables above, parse city and dates into their own variables \n",
    "# ## (e.g., issue: non-standard formatting; see dest3)\n",
    "\n",
    "# start_city = f\"{start[2]}\"\n",
    "# start_date = f\"{start[3]} {start[4]}\"\n",
    "# start_city\n",
    "# start_date\n",
    "\n",
    "# dest1 = dest1.split()\n",
    "# dest1_city= f\"{dest1[2]}\" \n",
    "# dest1_date= f\"{dest1[5]} {dest1[6]}\"\n",
    "\n",
    "\n",
    "# dest2 = dest2.split()\n",
    "# dest2_city= f\"{dest2[2]}\" \n",
    "# dest2_date= f\"{dest2[5]} {dest2[6]}\"\n",
    "\n",
    "# dest3 = dest3.split()\n",
    "# dest3_city= f\"{dest3[2]} {dest3[3]}\" \n",
    "# dest3_date= f\"{dest3[6]} {dest3[7]}\"\n"
   ]
  },
  {
   "cell_type": "markdown",
   "metadata": {},
   "source": [
    "NOTE: (amongst other things) would need to convert dates from Kayak scraping of dates from strings to datetime object to get format \"MM-DD\"\n",
    "    e.g.: start_date = \"Mar 3\" to \"03-03\" AND end_date = \"Mar 16\" to \"03-16\"\n",
    "Code runs into error \"ValueError: time data 'Mar 3' does not match format '%b-%d'\" because day is not zero-padded\n",
    "    startdate = datetime.strptime(start_date,'%m-%d')\n",
    "    enddate = datetime.strptime(end_date,'%m-%d')\n"
   ]
  },
  {
   "cell_type": "markdown",
   "metadata": {},
   "source": [
    "### Set up API call parameters"
   ]
  },
  {
   "cell_type": "markdown",
   "metadata": {},
   "source": [
    "NOTE: Using manual input parameters because parsing kayak response isn't working"
   ]
  },
  {
   "cell_type": "code",
   "execution_count": 2,
   "metadata": {},
   "outputs": [],
   "source": [
    "## Combine CITIES and DATES for start, end and destinations into nested dictionary\n",
    "## will eventually append histweather_info dict to weather_params dict\n",
    "\n",
    "weather_params = {\"travel_details\" : \n",
    "                  {1: {\"city\": \"Madrid\", \"traveldates_start\": \"03-03\", \"traveldates_end\": \"03-06\"}, \n",
    "                  2: {\"city\": \"Paris\", \"traveldates_start\": \"03-07\", \"traveldates_end\": \"03-11\"}, \n",
    "                  3: {\"city\": \"New York City\", \"traveldates_start\": \"03-12\", \"traveldates_end\": \"03-15\"}}}\n",
    "\n",
    "cities = [\"Madrid\", \"Paris\", \"New York City\"]"
   ]
  },
  {
   "cell_type": "code",
   "execution_count": 6,
   "metadata": {},
   "outputs": [
    {
     "name": "stdout",
     "output_type": "stream",
     "text": [
      "---------------Madrid---------------\n",
      "Madrid 03-03 03-06 40.4165 -3.70256 https://api.globe.gov/search/v1/measurement/protocol/measureddate/point/distance/?protocols=air_temp_dailies&protocols=humidity_noons&protocols=precipitations&protocols=sky_conditions&startdate=2018-03-03&enddate=2018-03-06&lat=40.4165&lon=-3.70256&distanceinkm=75&geojson=FALSE&sample=FALSE {'count': 12, 'message': 'success', 'results': [{'protocol': 'air_temp_dailies', 'measuredDate': '2018-03-03', 'createDate': '2020-01-23T15:59:43', 'updateDate': '2020-01-23T15:59:43', 'publishDate': '2020-02-03T18:59:33', 'organizationId': 312849, 'organizationName': 'IES Cañada Real', 'siteId': 3931, 'siteName': 'IES CAÑADA REAL:ATM-01', 'countryName': 'Spain', 'countryCode': 'ESP', 'latitude': 40.5836, 'longitude': -4.0085, 'elevation': 725.4, 'pid': 149447103, 'data': {'airtempdailiesSolarMeasuredAt': '2018-03-03T11:59:00', 'airtempdailiesSolarNoonAt': '2018-03-03T12:27:00', 'airtempdailiesCurrentTemp': 8.3, 'airtempdailiesMeasuredAt': '2018-03-03T12:30:00', 'airtempdailiesMaximumTemp': 8.3, 'airtempdailiesMinimumTemp': 3, 'airtempdailiesComments': 'air temp subday rollup', 'airtempdailiesUserid': 0}}, {'protocol': 'humidity_noons', 'measuredDate': '2018-03-03', 'createDate': '2020-01-23T07:16:10', 'updateDate': '2020-01-23T07:16:10', 'publishDate': '2020-01-23T07:16:14', 'organizationId': 312849, 'organizationName': 'IES Cañada Real', 'siteId': 3931, 'siteName': 'IES CAÑADA REAL:ATM-01', 'countryName': 'Spain', 'countryCode': 'ESP', 'latitude': 40.5836, 'longitude': -4.0085, 'elevation': 725.4, 'pid': 142344343, 'data': {'humiditynoonsMeasuredAt': '2018-03-03T12:30:00', 'humiditynoonsComments': '(Phase 4 Email Data Entry)', 'humiditynoonsUserid': 2899953, 'humiditynoonsDewpoint': 8.3, 'humiditynoonsHumidityMethod': 'digital hygrometer', 'humiditynoonsSolarNoonAt': '2018-03-03T12:27:00', 'humiditynoonsRelativeHumidityPercent': 100, 'humiditynoonsSolarMeasuredAt': '2018-03-03T11:59:00'}}, {'protocol': 'precipitations', 'measuredDate': '2018-03-03', 'createDate': '2020-01-23T09:48:45', 'updateDate': '2020-01-23T09:48:45', 'publishDate': '2020-02-03T23:51:39', 'organizationId': 312849, 'organizationName': 'IES Cañada Real', 'siteId': 3931, 'siteName': 'IES CAÑADA REAL:ATM-01', 'countryName': 'Spain', 'countryCode': 'ESP', 'latitude': 40.5836, 'longitude': -4.0085, 'elevation': 725.4, 'pid': 144484313, 'data': {'precipitationsSnowfallAccumulationFlag': None, 'precipitationsLiquidAccumulationFlag': None, 'precipitationsPhMethod': None, 'precipitationsVisSnowDepth': None, 'precipitationsSnowfallAccumulation': None, 'precipitationsPh': None, 'precipitationsMeasuredAt': '2018-03-03T12:27:00', 'precipitationsSolarMeasuredAt': '2018-03-03T11:56:00', 'precipitationsComments': 'precipitation rain sub day rollup', 'precipitationsDaysAccumulated': 1, 'precipitationsUserid': 2899953, 'precipitationsLiquidAccumulation': 9.89, 'precipitationsVisTotalLiquidEquivalent': 9.89, 'precipitationsOccurrenceType': 'rain', 'precipitationsVisRainDepth': 9.89, 'precipitationsSolarNoonAt': '2018-03-03T12:27:00'}}, {'protocol': 'air_temp_dailies', 'measuredDate': '2018-03-04', 'createDate': '2020-01-23T15:59:43', 'updateDate': '2020-01-23T15:59:43', 'publishDate': '2020-02-03T18:59:33', 'organizationId': 312849, 'organizationName': 'IES Cañada Real', 'siteId': 3931, 'siteName': 'IES CAÑADA REAL:ATM-01', 'countryName': 'Spain', 'countryCode': 'ESP', 'latitude': 40.5836, 'longitude': -4.0085, 'elevation': 725.4, 'pid': 149447104, 'data': {'airtempdailiesSolarMeasuredAt': '2018-03-04T12:00:00', 'airtempdailiesSolarNoonAt': '2018-03-04T12:27:00', 'airtempdailiesCurrentTemp': 9.8, 'airtempdailiesMeasuredAt': '2018-03-04T12:30:00', 'airtempdailiesMaximumTemp': 9.3, 'airtempdailiesMinimumTemp': 2.7, 'airtempdailiesComments': 'air temp subday rollup', 'airtempdailiesUserid': 0}}, {'protocol': 'humidity_noons', 'measuredDate': '2018-03-04', 'createDate': '2020-01-23T07:16:10', 'updateDate': '2020-01-23T07:16:10', 'publishDate': '2020-01-23T07:16:14', 'organizationId': 312849, 'organizationName': 'IES Cañada Real', 'siteId': 3931, 'siteName': 'IES CAÑADA REAL:ATM-01', 'countryName': 'Spain', 'countryCode': 'ESP', 'latitude': 40.5836, 'longitude': -4.0085, 'elevation': 725.4, 'pid': 142344344, 'data': {'humiditynoonsMeasuredAt': '2018-03-04T12:30:00', 'humiditynoonsComments': '(Phase 4 Email Data Entry)', 'humiditynoonsUserid': 2899953, 'humiditynoonsDewpoint': 6.7, 'humiditynoonsHumidityMethod': 'digital hygrometer', 'humiditynoonsSolarNoonAt': '2018-03-04T12:27:00', 'humiditynoonsRelativeHumidityPercent': 81, 'humiditynoonsSolarMeasuredAt': '2018-03-04T12:00:00'}}, {'protocol': 'precipitations', 'measuredDate': '2018-03-04', 'createDate': '2020-01-23T09:48:45', 'updateDate': '2020-01-23T09:48:45', 'publishDate': '2020-02-03T23:51:39', 'organizationId': 312849, 'organizationName': 'IES Cañada Real', 'siteId': 3931, 'siteName': 'IES CAÑADA REAL:ATM-01', 'countryName': 'Spain', 'countryCode': 'ESP', 'latitude': 40.5836, 'longitude': -4.0085, 'elevation': 725.4, 'pid': 144484314, 'data': {'precipitationsSnowfallAccumulationFlag': None, 'precipitationsLiquidAccumulationFlag': None, 'precipitationsPhMethod': None, 'precipitationsVisSnowDepth': None, 'precipitationsSnowfallAccumulation': None, 'precipitationsPh': None, 'precipitationsMeasuredAt': '2018-03-04T12:27:00', 'precipitationsSolarMeasuredAt': '2018-03-04T11:57:00', 'precipitationsComments': 'precipitation rain sub day rollup', 'precipitationsDaysAccumulated': 1, 'precipitationsUserid': 2899953, 'precipitationsLiquidAccumulation': 18, 'precipitationsVisTotalLiquidEquivalent': 18, 'precipitationsOccurrenceType': 'rain', 'precipitationsVisRainDepth': 18, 'precipitationsSolarNoonAt': '2018-03-04T12:27:00'}}, {'protocol': 'humidity_noons', 'measuredDate': '2018-03-05', 'createDate': '2020-01-23T07:16:10', 'updateDate': '2020-01-23T07:16:10', 'publishDate': '2020-01-23T07:16:14', 'organizationId': 312849, 'organizationName': 'IES Cañada Real', 'siteId': 3931, 'siteName': 'IES CAÑADA REAL:ATM-01', 'countryName': 'Spain', 'countryCode': 'ESP', 'latitude': 40.5836, 'longitude': -4.0085, 'elevation': 725.4, 'pid': 142344345, 'data': {'humiditynoonsMeasuredAt': '2018-03-05T12:30:00', 'humiditynoonsComments': '(Phase 4 Email Data Entry)', 'humiditynoonsUserid': 2899953, 'humiditynoonsDewpoint': 3.5, 'humiditynoonsHumidityMethod': 'digital hygrometer', 'humiditynoonsSolarNoonAt': '2018-03-05T12:27:00', 'humiditynoonsRelativeHumidityPercent': 100, 'humiditynoonsSolarMeasuredAt': '2018-03-05T12:00:00'}}, {'protocol': 'precipitations', 'measuredDate': '2018-03-05', 'createDate': '2020-01-23T09:48:45', 'updateDate': '2020-01-23T09:48:45', 'publishDate': '2020-02-03T23:51:39', 'organizationId': 312849, 'organizationName': 'IES Cañada Real', 'siteId': 3931, 'siteName': 'IES CAÑADA REAL:ATM-01', 'countryName': 'Spain', 'countryCode': 'ESP', 'latitude': 40.5836, 'longitude': -4.0085, 'elevation': 725.4, 'pid': 144484315, 'data': {'precipitationsSnowfallAccumulationFlag': None, 'precipitationsLiquidAccumulationFlag': None, 'precipitationsPhMethod': None, 'precipitationsVisSnowDepth': None, 'precipitationsSnowfallAccumulation': None, 'precipitationsPh': None, 'precipitationsMeasuredAt': '2018-03-05T12:27:00', 'precipitationsSolarMeasuredAt': '2018-03-05T11:57:00', 'precipitationsComments': 'precipitation rain sub day rollup', 'precipitationsDaysAccumulated': 1, 'precipitationsUserid': 2899953, 'precipitationsLiquidAccumulation': 12.4, 'precipitationsVisTotalLiquidEquivalent': 12.4, 'precipitationsOccurrenceType': 'rain', 'precipitationsVisRainDepth': 12.4, 'precipitationsSolarNoonAt': '2018-03-05T12:27:00'}}, {'protocol': 'air_temp_dailies', 'measuredDate': '2018-03-05', 'createDate': '2020-01-23T15:59:43', 'updateDate': '2020-01-23T15:59:43', 'publishDate': '2020-02-03T18:59:33', 'organizationId': 312849, 'organizationName': 'IES Cañada Real', 'siteId': 3931, 'siteName': 'IES CAÑADA REAL:ATM-01', 'countryName': 'Spain', 'countryCode': 'ESP', 'latitude': 40.5836, 'longitude': -4.0085, 'elevation': 725.4, 'pid': 149447105, 'data': {'airtempdailiesSolarMeasuredAt': '2018-03-05T12:00:00', 'airtempdailiesSolarNoonAt': '2018-03-05T12:27:00', 'airtempdailiesCurrentTemp': 3.5, 'airtempdailiesMeasuredAt': '2018-03-05T12:30:00', 'airtempdailiesMaximumTemp': 10.4, 'airtempdailiesMinimumTemp': 1.9, 'airtempdailiesComments': 'air temp subday rollup', 'airtempdailiesUserid': 0}}, {'protocol': 'air_temp_dailies', 'measuredDate': '2018-03-06', 'createDate': '2020-01-23T15:59:43', 'updateDate': '2020-01-23T15:59:43', 'publishDate': '2020-02-03T18:59:33', 'organizationId': 312849, 'organizationName': 'IES Cañada Real', 'siteId': 3931, 'siteName': 'IES CAÑADA REAL:ATM-01', 'countryName': 'Spain', 'countryCode': 'ESP', 'latitude': 40.5836, 'longitude': -4.0085, 'elevation': 725.4, 'pid': 149447106, 'data': {'airtempdailiesSolarMeasuredAt': '2018-03-06T12:00:00', 'airtempdailiesSolarNoonAt': '2018-03-06T12:27:00', 'airtempdailiesCurrentTemp': 5.5, 'airtempdailiesMeasuredAt': '2018-03-06T12:30:00', 'airtempdailiesMaximumTemp': 6.3, 'airtempdailiesMinimumTemp': 0.9, 'airtempdailiesComments': 'air temp subday rollup', 'airtempdailiesUserid': 0}}, {'protocol': 'precipitations', 'measuredDate': '2018-03-06', 'createDate': '2020-01-23T09:48:45', 'updateDate': '2020-01-23T09:48:45', 'publishDate': '2020-02-03T23:51:39', 'organizationId': 312849, 'organizationName': 'IES Cañada Real', 'siteId': 3931, 'siteName': 'IES CAÑADA REAL:ATM-01', 'countryName': 'Spain', 'countryCode': 'ESP', 'latitude': 40.5836, 'longitude': -4.0085, 'elevation': 725.4, 'pid': 144484316, 'data': {'precipitationsSnowfallAccumulationFlag': None, 'precipitationsLiquidAccumulationFlag': None, 'precipitationsPhMethod': None, 'precipitationsVisSnowDepth': None, 'precipitationsSnowfallAccumulation': None, 'precipitationsPh': None, 'precipitationsMeasuredAt': '2018-03-06T12:27:00', 'precipitationsSolarMeasuredAt': '2018-03-06T11:57:00', 'precipitationsComments': 'precipitation rain sub day rollup', 'precipitationsDaysAccumulated': 1, 'precipitationsUserid': 2899953, 'precipitationsLiquidAccumulation': 2.53, 'precipitationsVisTotalLiquidEquivalent': 2.53, 'precipitationsOccurrenceType': 'rain', 'precipitationsVisRainDepth': 2.53, 'precipitationsSolarNoonAt': '2018-03-06T12:27:00'}}, {'protocol': 'humidity_noons', 'measuredDate': '2018-03-06', 'createDate': '2020-01-23T07:16:10', 'updateDate': '2020-01-23T07:16:10', 'publishDate': '2020-01-23T07:16:14', 'organizationId': 312849, 'organizationName': 'IES Cañada Real', 'siteId': 3931, 'siteName': 'IES CAÑADA REAL:ATM-01', 'countryName': 'Spain', 'countryCode': 'ESP', 'latitude': 40.5836, 'longitude': -4.0085, 'elevation': 725.4, 'pid': 142344346, 'data': {'humiditynoonsMeasuredAt': '2018-03-06T12:30:00', 'humiditynoonsComments': '(Phase 4 Email Data Entry)', 'humiditynoonsUserid': 2899953, 'humiditynoonsDewpoint': 5.5, 'humiditynoonsHumidityMethod': 'digital hygrometer', 'humiditynoonsSolarNoonAt': '2018-03-06T12:27:00', 'humiditynoonsRelativeHumidityPercent': 100, 'humiditynoonsSolarMeasuredAt': '2018-03-06T12:00:00'}}]}\n"
     ]
    },
    {
     "name": "stdout",
     "output_type": "stream",
     "text": [
      "---------------Paris---------------\n",
      "Paris 03-07 03-11 48.85341 2.3488 https://api.globe.gov/search/v1/measurement/protocol/measureddate/point/distance/?protocols=air_temp_dailies&protocols=humidity_noons&protocols=precipitations&protocols=sky_conditions&startdate=2018-03-07&enddate=2018-03-11&lat=48.85341&lon=2.3488&distanceinkm=75&geojson=FALSE&sample=FALSE {'count': 0, 'message': 'success', 'results': []}\n",
      "---------------New York City---------------\n",
      "New York City 03-12 03-15 40.71427 -74.00597 https://api.globe.gov/search/v1/measurement/protocol/measureddate/point/distance/?protocols=air_temp_dailies&protocols=humidity_noons&protocols=precipitations&protocols=sky_conditions&startdate=2018-03-12&enddate=2018-03-15&lat=40.71427&lon=-74.00597&distanceinkm=75&geojson=FALSE&sample=FALSE {'count': 55, 'message': 'success', 'results': [{'protocol': 'sky_conditions', 'measuredDate': '2018-03-15', 'createDate': '2020-01-26T07:41:16', 'updateDate': '2020-01-26T07:41:16', 'publishDate': '2020-03-04T21:47:47', 'organizationId': 33366, 'organizationName': 'Jonas Salk Middle School', 'siteId': 26014, 'siteName': 'Salk School:ATM-02', 'countryName': 'United States', 'countryCode': 'USA', 'latitude': 40.385914, 'longitude': -74.365044, 'elevation': 39.0, 'pid': 162082147, 'data': {'skyconditionsSand': None, 'skyconditionsDownwardCaption': None, 'skyconditionsFog': None, 'skyconditionsNimbostratus': None, 'skyconditionsOpacityLow': 'opaque', 'skyconditionsCloudCoverHigh': 'clear', 'skyconditionsWestCaption': None, 'skyconditionsDownwardPhotoUrl': None, 'skyconditionsVolcanicAsh': None, 'skyconditionsLeavesOnTrees': False, 'skyconditionsMeasuredAt': '2018-03-15T10:26:00', 'skyconditionsCirrostratus': None, 'skyconditionsContrailCoverDeprecated': None, 'skyconditionsRainingSnowing': False, 'skyconditionsCirrocumulus': None, 'skyconditionsCumulus': True, 'skyconditionsCirrus': True, 'skyconditionsHaze': None, 'skyconditionsNorthCaption': None, 'skyconditionsCumulonimbus': None, 'skyconditionsSolarMeasuredAt': '2018-03-15T05:17:00', 'skyconditionsSkyClarity': None, 'skyconditionsMuddy': True, 'skyconditionsUpwardPhotoUrl': None, 'skyconditionsIsGlobeTrained': True, 'skyconditionsShortLivedContrails': None, 'skyconditionsSmoke': None, 'skyconditionsWestPhotoUrl': None, 'skyconditionsObservationId': '116-26014-3080451-201803151026', 'skyconditionsSouthCaption': None, 'skyconditionsCloudCoverMid': None, 'skyconditionsUserid': 3080451, 'skyconditionsStratocumulus': True, 'skyconditionsEastCaption': None, 'skyconditionsBlowingSnow': None, 'skyconditionsSouthPhotoUrl': None, 'skyconditionsIsCitizenScience': False, 'skyconditionsCloudCoverLow': 'broken', 'skyconditionsNorthPhotoUrl': None, 'skyconditionsSpreadingContrails': None, 'skyconditionsUpwardCaption': None, 'skyconditionsStratus': None, 'skyconditionsDust': None, 'skyconditionsComments': None, 'skyconditionsDataSource': 'GLOBE Data Entry Web Forms', 'skyconditionsSkyColor': None, 'skyconditionsOpacityHigh': 'translucent', 'skyconditionsSkyConditionId': 2997842, 'skyconditionsNonSpreadingContrails': None, 'skyconditionsDryGround': False, 'skyconditionsHeavySnow': None, 'skyconditionsCloudCover': 'broken', 'skyconditionsAltostratus': None, 'skyconditionsSnowIce': True, 'skyconditionsAltocumulus': None, 'skyconditionsOpacityMid': None, 'skyconditionsEastPhotoUrl': None, 'skyconditionsStandingWater': True, 'skyconditionsSpray': None, 'skyconditionsHeavyRain': None}}, {'protocol': 'sky_conditions', 'measuredDate': '2018-03-15', 'createDate': '2020-01-26T07:41:16', 'updateDate': '2020-01-26T07:41:16', 'publishDate': '2020-03-04T21:47:47', 'organizationId': 33366, 'organizationName': 'Jonas Salk Middle School', 'siteId': 26014, 'siteName': 'Salk School:ATM-02', 'countryName': 'United States', 'countryCode': 'USA', 'latitude': 40.385914, 'longitude': -74.365044, 'elevation': 39.0, 'pid': 162082147, 'data': {'skyconditionsSand': None, 'skyconditionsDownwardCaption': None, 'skyconditionsFog': None, 'skyconditionsNimbostratus': None, 'skyconditionsOpacityLow': 'opaque', 'skyconditionsCloudCoverHigh': None, 'skyconditionsWestCaption': None, 'skyconditionsDownwardPhotoUrl': None, 'skyconditionsVolcanicAsh': None, 'skyconditionsLeavesOnTrees': False, 'skyconditionsMeasuredAt': '2018-03-15T15:49:00', 'skyconditionsCirrostratus': None, 'skyconditionsContrailCoverDeprecated': None, 'skyconditionsRainingSnowing': False, 'skyconditionsCirrocumulus': None, 'skyconditionsCumulus': True, 'skyconditionsCirrus': None, 'skyconditionsHaze': None, 'skyconditionsNorthCaption': None, 'skyconditionsCumulonimbus': None, 'skyconditionsSolarMeasuredAt': '2018-03-15T10:40:00', 'skyconditionsSkyClarity': None, 'skyconditionsMuddy': True, 'skyconditionsUpwardPhotoUrl': None, 'skyconditionsIsGlobeTrained': True, 'skyconditionsShortLivedContrails': None, 'skyconditionsSmoke': None, 'skyconditionsWestPhotoUrl': None, 'skyconditionsObservationId': '116-26014-3080451-201803151549', 'skyconditionsSouthCaption': None, 'skyconditionsCloudCoverMid': 'broken', 'skyconditionsUserid': 3080451, 'skyconditionsStratocumulus': None, 'skyconditionsEastCaption': None, 'skyconditionsBlowingSnow': None, 'skyconditionsSouthPhotoUrl': None, 'skyconditionsIsCitizenScience': False, 'skyconditionsCloudCoverLow': 'broken', 'skyconditionsNorthPhotoUrl': None, 'skyconditionsSpreadingContrails': None, 'skyconditionsUpwardCaption': None, 'skyconditionsStratus': None, 'skyconditionsDust': None, 'skyconditionsComments': None, 'skyconditionsDataSource': 'GLOBE Data Entry Web Forms', 'skyconditionsSkyColor': None, 'skyconditionsOpacityHigh': None, 'skyconditionsSkyConditionId': 2997845, 'skyconditionsNonSpreadingContrails': None, 'skyconditionsDryGround': False, 'skyconditionsHeavySnow': None, 'skyconditionsCloudCover': 'broken', 'skyconditionsAltostratus': None, 'skyconditionsSnowIce': True, 'skyconditionsAltocumulus': True, 'skyconditionsOpacityMid': 'opaque', 'skyconditionsEastPhotoUrl': None, 'skyconditionsStandingWater': True, 'skyconditionsSpray': None, 'skyconditionsHeavyRain': None}}, {'protocol': 'sky_conditions', 'measuredDate': '2018-03-15', 'createDate': '2020-01-26T07:41:16', 'updateDate': '2020-01-26T07:41:16', 'publishDate': '2020-03-04T21:47:47', 'organizationId': 33366, 'organizationName': 'Jonas Salk Middle School', 'siteId': 26014, 'siteName': 'Salk School:ATM-02', 'countryName': 'United States', 'countryCode': 'USA', 'latitude': 40.385914, 'longitude': -74.365044, 'elevation': 39.0, 'pid': 162082147, 'data': {'skyconditionsSand': None, 'skyconditionsDownwardCaption': None, 'skyconditionsFog': None, 'skyconditionsNimbostratus': None, 'skyconditionsOpacityLow': 'opaque', 'skyconditionsCloudCoverHigh': None, 'skyconditionsWestCaption': None, 'skyconditionsDownwardPhotoUrl': None, 'skyconditionsVolcanicAsh': None, 'skyconditionsLeavesOnTrees': False, 'skyconditionsMeasuredAt': '2018-03-15T15:28:00', 'skyconditionsCirrostratus': None, 'skyconditionsContrailCoverDeprecated': None, 'skyconditionsRainingSnowing': False, 'skyconditionsCirrocumulus': None, 'skyconditionsCumulus': True, 'skyconditionsCirrus': None, 'skyconditionsHaze': None, 'skyconditionsNorthCaption': None, 'skyconditionsCumulonimbus': None, 'skyconditionsSolarMeasuredAt': '2018-03-15T10:19:00', 'skyconditionsSkyClarity': None, 'skyconditionsMuddy': True, 'skyconditionsUpwardPhotoUrl': None, 'skyconditionsIsGlobeTrained': True, 'skyconditionsShortLivedContrails': None, 'skyconditionsSmoke': None, 'skyconditionsWestPhotoUrl': None, 'skyconditionsObservationId': '116-26014-3080451-201803151528', 'skyconditionsSouthCaption': None, 'skyconditionsCloudCoverMid': 'scattered', 'skyconditionsUserid': 3080451, 'skyconditionsStratocumulus': None, 'skyconditionsEastCaption': None, 'skyconditionsBlowingSnow': None, 'skyconditionsSouthPhotoUrl': None, 'skyconditionsIsCitizenScience': False, 'skyconditionsCloudCoverLow': 'broken', 'skyconditionsNorthPhotoUrl': None, 'skyconditionsSpreadingContrails': None, 'skyconditionsUpwardCaption': None, 'skyconditionsStratus': None, 'skyconditionsDust': None, 'skyconditionsComments': None, 'skyconditionsDataSource': 'GLOBE Data Entry Web Forms', 'skyconditionsSkyColor': None, 'skyconditionsOpacityHigh': None, 'skyconditionsSkyConditionId': 2997843, 'skyconditionsNonSpreadingContrails': None, 'skyconditionsDryGround': False, 'skyconditionsHeavySnow': None, 'skyconditionsCloudCover': 'broken', 'skyconditionsAltostratus': None, 'skyconditionsSnowIce': True, 'skyconditionsAltocumulus': True, 'skyconditionsOpacityMid': 'opaque', 'skyconditionsEastPhotoUrl': None, 'skyconditionsStandingWater': False, 'skyconditionsSpray': None, 'skyconditionsHeavyRain': None}}, {'protocol': 'humidity_noons', 'measuredDate': '2018-03-12', 'createDate': '2020-01-23T07:16:10', 'updateDate': '2020-01-23T07:16:10', 'publishDate': '2020-01-23T07:16:14', 'organizationId': 261519, 'organizationName': 'North Shore Hebrew Academy High School', 'siteId': 26891, 'siteName': 'WeatherBug Station:ATM-01', 'countryName': 'United States', 'countryCode': 'USA', 'latitude': 40.7712, 'longitude': -73.7045, 'elevation': 91.1, 'pid': 142346567, 'data': {'humiditynoonsMeasuredAt': '2018-03-12T16:59:41', 'humiditynoonsComments': 'Weatherbug', 'humiditynoonsUserid': 8294323, 'humiditynoonsDewpoint': -0.2, 'humiditynoonsHumidityMethod': 'digital hygrometer', 'humiditynoonsSolarNoonAt': '2018-03-12T17:04:00', 'humiditynoonsRelativeHumidityPercent': 64.9, 'humiditynoonsSolarMeasuredAt': '2018-03-12T11:53:00'}}, {'protocol': 'precipitations', 'measuredDate': '2018-03-12', 'createDate': '2020-01-23T09:48:45', 'updateDate': '2020-01-23T09:48:45', 'publishDate': '2020-02-03T23:51:39', 'organizationId': 261519, 'organizationName': 'North Shore Hebrew Academy High School', 'siteId': 26891, 'siteName': 'WeatherBug Station:ATM-01', 'countryName': 'United States', 'countryCode': 'USA', 'latitude': 40.7712, 'longitude': -73.7045, 'elevation': 91.1, 'pid': 144483226, 'data': {'precipitationsSnowfallAccumulationFlag': None, 'precipitationsLiquidAccumulationFlag': None, 'precipitationsPhMethod': None, 'precipitationsVisSnowDepth': 0, 'precipitationsSnowfallAccumulation': 0, 'precipitationsPh': None, 'precipitationsMeasuredAt': '2018-03-12T17:04:00', 'precipitationsSolarMeasuredAt': '2018-03-12T11:57:00', 'precipitationsComments': 'precipitation rain sub day rollup', 'precipitationsDaysAccumulated': 1, 'precipitationsUserid': 8294323, 'precipitationsLiquidAccumulation': 0, 'precipitationsVisTotalLiquidEquivalent': 0, 'precipitationsOccurrenceType': 'no occurrence', 'precipitationsVisRainDepth': 0, 'precipitationsSolarNoonAt': '2018-03-12T17:04:00'}}, {'protocol': 'air_temp_dailies', 'measuredDate': '2018-03-12', 'createDate': '2020-01-23T15:59:43', 'updateDate': '2020-01-23T15:59:43', 'publishDate': '2020-02-03T18:59:33', 'organizationId': 261519, 'organizationName': 'North Shore Hebrew Academy High School', 'siteId': 26891, 'siteName': 'WeatherBug Station:ATM-01', 'countryName': 'United States', 'countryCode': 'USA', 'latitude': 40.7712, 'longitude': -73.7045, 'elevation': 91.1, 'pid': 149449530, 'data': {'airtempdailiesSolarMeasuredAt': '2018-03-12T11:53:00', 'airtempdailiesSolarNoonAt': '2018-03-12T17:04:00', 'airtempdailiesCurrentTemp': 5.9, 'airtempdailiesMeasuredAt': '2018-03-12T16:59:41', 'airtempdailiesMaximumTemp': 8.1, 'airtempdailiesMinimumTemp': -1.3, 'airtempdailiesComments': 'air temp subday rollup', 'airtempdailiesUserid': 0}}, {'protocol': 'humidity_noons', 'measuredDate': '2018-03-13', 'createDate': '2020-01-23T07:16:10', 'updateDate': '2020-01-23T07:16:10', 'publishDate': '2020-01-23T07:16:14', 'organizationId': 261519, 'organizationName': 'North Shore Hebrew Academy High School', 'siteId': 26891, 'siteName': 'WeatherBug Station:ATM-01', 'countryName': 'United States', 'countryCode': 'USA', 'latitude': 40.7712, 'longitude': -73.7045, 'elevation': 91.1, 'pid': 142346568, 'data': {'humiditynoonsMeasuredAt': '2018-03-13T16:59:53', 'humiditynoonsComments': 'Weatherbug', 'humiditynoonsUserid': 8294323, 'humiditynoonsDewpoint': 1.1, 'humiditynoonsHumidityMethod': 'digital hygrometer', 'humiditynoonsSolarNoonAt': '2018-03-13T17:04:00', 'humiditynoonsRelativeHumidityPercent': 100, 'humiditynoonsSolarMeasuredAt': '2018-03-13T11:53:00'}}, {'protocol': 'precipitations', 'measuredDate': '2018-03-13', 'createDate': '2020-01-23T09:48:45', 'updateDate': '2020-01-23T09:48:45', 'publishDate': '2020-02-03T23:51:39', 'organizationId': 261519, 'organizationName': 'North Shore Hebrew Academy High School', 'siteId': 26891, 'siteName': 'WeatherBug Station:ATM-01', 'countryName': 'United States', 'countryCode': 'USA', 'latitude': 40.7712, 'longitude': -73.7045, 'elevation': 91.1, 'pid': 144483227, 'data': {'precipitationsSnowfallAccumulationFlag': None, 'precipitationsLiquidAccumulationFlag': None, 'precipitationsPhMethod': None, 'precipitationsVisSnowDepth': None, 'precipitationsSnowfallAccumulation': None, 'precipitationsPh': None, 'precipitationsMeasuredAt': '2018-03-13T17:04:00', 'precipitationsSolarMeasuredAt': '2018-03-13T11:57:00', 'precipitationsComments': 'precipitation rain sub day rollup', 'precipitationsDaysAccumulated': 1, 'precipitationsUserid': 8294323, 'precipitationsLiquidAccumulation': 0.9, 'precipitationsVisTotalLiquidEquivalent': 0.9, 'precipitationsOccurrenceType': 'rain', 'precipitationsVisRainDepth': 0.9, 'precipitationsSolarNoonAt': '2018-03-13T17:04:00'}}, {'protocol': 'air_temp_dailies', 'measuredDate': '2018-03-13', 'createDate': '2020-01-23T15:59:43', 'updateDate': '2020-01-23T15:59:43', 'publishDate': '2020-02-03T18:59:33', 'organizationId': 261519, 'organizationName': 'North Shore Hebrew Academy High School', 'siteId': 26891, 'siteName': 'WeatherBug Station:ATM-01', 'countryName': 'United States', 'countryCode': 'USA', 'latitude': 40.7712, 'longitude': -73.7045, 'elevation': 91.1, 'pid': 149449531, 'data': {'airtempdailiesSolarMeasuredAt': '2018-03-13T11:53:00', 'airtempdailiesSolarNoonAt': '2018-03-13T17:04:00', 'airtempdailiesCurrentTemp': 1.1, 'airtempdailiesMeasuredAt': '2018-03-13T16:59:53', 'airtempdailiesMaximumTemp': 6.1, 'airtempdailiesMinimumTemp': 0.1, 'airtempdailiesComments': 'air temp subday rollup', 'airtempdailiesUserid': 0}}, {'protocol': 'humidity_noons', 'measuredDate': '2018-03-14', 'createDate': '2020-01-23T07:16:10', 'updateDate': '2020-01-23T07:16:10', 'publishDate': '2020-01-23T07:16:14', 'organizationId': 261519, 'organizationName': 'North Shore Hebrew Academy High School', 'siteId': 26891, 'siteName': 'WeatherBug Station:ATM-01', 'countryName': 'United States', 'countryCode': 'USA', 'latitude': 40.7712, 'longitude': -73.7045, 'elevation': 91.1, 'pid': 142346569, 'data': {'humiditynoonsMeasuredAt': '2018-03-14T16:59:54', 'humiditynoonsComments': 'Weatherbug', 'humiditynoonsUserid': 8294323, 'humiditynoonsDewpoint': -4.9, 'humiditynoonsHumidityMethod': 'digital hygrometer', 'humiditynoonsSolarNoonAt': '2018-03-14T17:04:00', 'humiditynoonsRelativeHumidityPercent': 51.9, 'humiditynoonsSolarMeasuredAt': '2018-03-14T11:54:00'}}, {'protocol': 'precipitations', 'measuredDate': '2018-03-14', 'createDate': '2020-01-23T09:48:45', 'updateDate': '2020-01-23T09:48:45', 'publishDate': '2020-02-03T23:51:39', 'organizationId': 261519, 'organizationName': 'North Shore Hebrew Academy High School', 'siteId': 26891, 'siteName': 'WeatherBug Station:ATM-01', 'countryName': 'United States', 'countryCode': 'USA', 'latitude': 40.7712, 'longitude': -73.7045, 'elevation': 91.1, 'pid': 144483228, 'data': {'precipitationsSnowfallAccumulationFlag': None, 'precipitationsLiquidAccumulationFlag': None, 'precipitationsPhMethod': None, 'precipitationsVisSnowDepth': None, 'precipitationsSnowfallAccumulation': None, 'precipitationsPh': None, 'precipitationsMeasuredAt': '2018-03-14T17:04:00', 'precipitationsSolarMeasuredAt': '2018-03-14T11:58:00', 'precipitationsComments': 'precipitation rain sub day rollup', 'precipitationsDaysAccumulated': 1, 'precipitationsUserid': 8294323, 'precipitationsLiquidAccumulation': 8.6, 'precipitationsVisTotalLiquidEquivalent': 8.6, 'precipitationsOccurrenceType': 'rain', 'precipitationsVisRainDepth': 8.6, 'precipitationsSolarNoonAt': '2018-03-14T17:04:00'}}, {'protocol': 'air_temp_dailies', 'measuredDate': '2018-03-14', 'createDate': '2020-01-23T15:59:43', 'updateDate': '2020-01-23T15:59:43', 'publishDate': '2020-02-03T18:59:33', 'organizationId': 261519, 'organizationName': 'North Shore Hebrew Academy High School', 'siteId': 26891, 'siteName': 'WeatherBug Station:ATM-01', 'countryName': 'United States', 'countryCode': 'USA', 'latitude': 40.7712, 'longitude': -73.7045, 'elevation': 91.1, 'pid': 149449532, 'data': {'airtempdailiesSolarMeasuredAt': '2018-03-14T11:54:00', 'airtempdailiesSolarNoonAt': '2018-03-14T17:04:00', 'airtempdailiesCurrentTemp': 4.1, 'airtempdailiesMeasuredAt': '2018-03-14T16:59:54', 'airtempdailiesMaximumTemp': 4.6, 'airtempdailiesMinimumTemp': -1, 'airtempdailiesComments': 'air temp subday rollup', 'airtempdailiesUserid': 0}}, {'protocol': 'humidity_noons', 'measuredDate': '2018-03-15', 'createDate': '2020-01-23T07:16:10', 'updateDate': '2020-01-23T07:16:10', 'publishDate': '2020-01-23T07:16:14', 'organizationId': 261519, 'organizationName': 'North Shore Hebrew Academy High School', 'siteId': 26891, 'siteName': 'WeatherBug Station:ATM-01', 'countryName': 'United States', 'countryCode': 'USA', 'latitude': 40.7712, 'longitude': -73.7045, 'elevation': 91.1, 'pid': 142346570, 'data': {'humiditynoonsMeasuredAt': '2018-03-15T16:59:40', 'humiditynoonsComments': 'Weatherbug', 'humiditynoonsUserid': 8294323, 'humiditynoonsDewpoint': -6.3, 'humiditynoonsHumidityMethod': 'digital hygrometer', 'humiditynoonsSolarNoonAt': '2018-03-15T17:03:00', 'humiditynoonsRelativeHumidityPercent': 41.7, 'humiditynoonsSolarMeasuredAt': '2018-03-15T11:54:00'}}, {'protocol': 'precipitations', 'measuredDate': '2018-03-15', 'createDate': '2020-01-23T09:48:45', 'updateDate': '2020-01-23T09:48:45', 'publishDate': '2020-02-03T23:51:39', 'organizationId': 261519, 'organizationName': 'North Shore Hebrew Academy High School', 'siteId': 26891, 'siteName': 'WeatherBug Station:ATM-01', 'countryName': 'United States', 'countryCode': 'USA', 'latitude': 40.7712, 'longitude': -73.7045, 'elevation': 91.1, 'pid': 144483229, 'data': {'precipitationsSnowfallAccumulationFlag': None, 'precipitationsLiquidAccumulationFlag': None, 'precipitationsPhMethod': None, 'precipitationsVisSnowDepth': 0, 'precipitationsSnowfallAccumulation': 0, 'precipitationsPh': None, 'precipitationsMeasuredAt': '2018-03-15T17:03:00', 'precipitationsSolarMeasuredAt': '2018-03-15T11:57:00', 'precipitationsComments': 'precipitation rain sub day rollup', 'precipitationsDaysAccumulated': 1, 'precipitationsUserid': 8294323, 'precipitationsLiquidAccumulation': 0, 'precipitationsVisTotalLiquidEquivalent': 0, 'precipitationsOccurrenceType': 'no occurrence', 'precipitationsVisRainDepth': 0, 'precipitationsSolarNoonAt': '2018-03-15T17:03:00'}}, {'protocol': 'air_temp_dailies', 'measuredDate': '2018-03-15', 'createDate': '2020-01-23T15:59:43', 'updateDate': '2020-01-23T15:59:43', 'publishDate': '2020-02-03T18:59:33', 'organizationId': 261519, 'organizationName': 'North Shore Hebrew Academy High School', 'siteId': 26891, 'siteName': 'WeatherBug Station:ATM-01', 'countryName': 'United States', 'countryCode': 'USA', 'latitude': 40.7712, 'longitude': -73.7045, 'elevation': 91.1, 'pid': 149449533, 'data': {'airtempdailiesSolarMeasuredAt': '2018-03-15T11:54:00', 'airtempdailiesSolarNoonAt': '2018-03-15T17:03:00', 'airtempdailiesCurrentTemp': 5.7, 'airtempdailiesMeasuredAt': '2018-03-15T16:59:40', 'airtempdailiesMaximumTemp': 6, 'airtempdailiesMinimumTemp': -0.8, 'airtempdailiesComments': 'air temp subday rollup', 'airtempdailiesUserid': 0}}, {'protocol': 'humidity_noons', 'measuredDate': '2018-03-12', 'createDate': '2020-01-23T07:16:10', 'updateDate': '2020-01-23T07:16:10', 'publishDate': '2020-01-23T07:16:14', 'organizationId': 175521, 'organizationName': 'American Museum Of Natural History', 'siteId': 33782, 'siteName': 'Exhibitions Rooftop', 'countryName': 'United States', 'countryCode': 'USA', 'latitude': 40.782065, 'longitude': -73.974326, 'elevation': 34.0, 'pid': 142344095, 'data': {'humiditynoonsMeasuredAt': '2018-03-12T17:15:00', 'humiditynoonsComments': '(Phase 4 Email Data Entry)', 'humiditynoonsUserid': 3556719, 'humiditynoonsDewpoint': 0.4, 'humiditynoonsHumidityMethod': 'digital hygrometer', 'humiditynoonsSolarNoonAt': '2018-03-12T17:05:00', 'humiditynoonsRelativeHumidityPercent': 70, 'humiditynoonsSolarMeasuredAt': '2018-03-12T12:07:00'}}, {'protocol': 'precipitations', 'measuredDate': '2018-03-12', 'createDate': '2020-01-23T09:48:45', 'updateDate': '2020-01-23T09:48:45', 'publishDate': '2020-02-03T23:51:39', 'organizationId': 175521, 'organizationName': 'American Museum Of Natural History', 'siteId': 33782, 'siteName': 'Exhibitions Rooftop', 'countryName': 'United States', 'countryCode': 'USA', 'latitude': 40.782065, 'longitude': -73.974326, 'elevation': 34.0, 'pid': 144484153, 'data': {'precipitationsSnowfallAccumulationFlag': None, 'precipitationsLiquidAccumulationFlag': None, 'precipitationsPhMethod': None, 'precipitationsVisSnowDepth': 0, 'precipitationsSnowfallAccumulation': 0, 'precipitationsPh': None, 'precipitationsMeasuredAt': '2018-03-12T17:05:00', 'precipitationsSolarMeasuredAt': '2018-03-12T11:57:00', 'precipitationsComments': 'precipitation rain sub day rollup', 'precipitationsDaysAccumulated': 1, 'precipitationsUserid': 3556719, 'precipitationsLiquidAccumulation': 0, 'precipitationsVisTotalLiquidEquivalent': 0, 'precipitationsOccurrenceType': 'no occurrence', 'precipitationsVisRainDepth': 0, 'precipitationsSolarNoonAt': '2018-03-12T17:05:00'}}, {'protocol': 'humidity_noons', 'measuredDate': '2018-03-13', 'createDate': '2020-01-23T07:16:10', 'updateDate': '2020-01-23T07:16:10', 'publishDate': '2020-01-23T07:16:14', 'organizationId': 175521, 'organizationName': 'American Museum Of Natural History', 'siteId': 33782, 'siteName': 'Exhibitions Rooftop', 'countryName': 'United States', 'countryCode': 'USA', 'latitude': 40.782065, 'longitude': -73.974326, 'elevation': 34.0, 'pid': 142344096, 'data': {'humiditynoonsMeasuredAt': '2018-03-13T17:15:00', 'humiditynoonsComments': '(Phase 4 Email Data Entry)', 'humiditynoonsUserid': 3556719, 'humiditynoonsDewpoint': -2.6, 'humiditynoonsHumidityMethod': 'digital hygrometer', 'humiditynoonsSolarNoonAt': '2018-03-13T17:05:00', 'humiditynoonsRelativeHumidityPercent': 63, 'humiditynoonsSolarMeasuredAt': '2018-03-13T12:07:00'}}, {'protocol': 'precipitations', 'measuredDate': '2018-03-13', 'createDate': '2020-01-23T09:48:45', 'updateDate': '2020-01-23T09:48:45', 'publishDate': '2020-02-03T23:51:39', 'organizationId': 175521, 'organizationName': 'American Museum Of Natural History', 'siteId': 33782, 'siteName': 'Exhibitions Rooftop', 'countryName': 'United States', 'countryCode': 'USA', 'latitude': 40.782065, 'longitude': -73.974326, 'elevation': 34.0, 'pid': 144484154, 'data': {'precipitationsSnowfallAccumulationFlag': None, 'precipitationsLiquidAccumulationFlag': None, 'precipitationsPhMethod': None, 'precipitationsVisSnowDepth': None, 'precipitationsSnowfallAccumulation': None, 'precipitationsPh': None, 'precipitationsMeasuredAt': '2018-03-13T17:05:00', 'precipitationsSolarMeasuredAt': '2018-03-13T11:57:00', 'precipitationsComments': 'precipitation rain sub day rollup', 'precipitationsDaysAccumulated': 1, 'precipitationsUserid': 3556719, 'precipitationsLiquidAccumulation': 5.2, 'precipitationsVisTotalLiquidEquivalent': 5.2, 'precipitationsOccurrenceType': 'rain', 'precipitationsVisRainDepth': 5.2, 'precipitationsSolarNoonAt': '2018-03-13T17:05:00'}}, {'protocol': 'humidity_noons', 'measuredDate': '2018-03-14', 'createDate': '2020-01-23T07:16:10', 'updateDate': '2020-01-23T07:16:10', 'publishDate': '2020-01-23T07:16:14', 'organizationId': 175521, 'organizationName': 'American Museum Of Natural History', 'siteId': 33782, 'siteName': 'Exhibitions Rooftop', 'countryName': 'United States', 'countryCode': 'USA', 'latitude': 40.782065, 'longitude': -73.974326, 'elevation': 34.0, 'pid': 142344097, 'data': {'humiditynoonsMeasuredAt': '2018-03-14T17:00:00', 'humiditynoonsComments': '(Phase 4 Email Data Entry)', 'humiditynoonsUserid': 3556719, 'humiditynoonsDewpoint': -4.4, 'humiditynoonsHumidityMethod': 'digital hygrometer', 'humiditynoonsSolarNoonAt': '2018-03-14T17:05:00', 'humiditynoonsRelativeHumidityPercent': 53, 'humiditynoonsSolarMeasuredAt': '2018-03-14T11:53:00'}}, {'protocol': 'precipitations', 'measuredDate': '2018-03-14', 'createDate': '2020-01-23T09:48:45', 'updateDate': '2020-01-23T09:48:45', 'publishDate': '2020-02-03T23:51:39', 'organizationId': 175521, 'organizationName': 'American Museum Of Natural History', 'siteId': 33782, 'siteName': 'Exhibitions Rooftop', 'countryName': 'United States', 'countryCode': 'USA', 'latitude': 40.782065, 'longitude': -73.974326, 'elevation': 34.0, 'pid': 144484155, 'data': {'precipitationsSnowfallAccumulationFlag': None, 'precipitationsLiquidAccumulationFlag': None, 'precipitationsPhMethod': None, 'precipitationsVisSnowDepth': 0, 'precipitationsSnowfallAccumulation': 0, 'precipitationsPh': None, 'precipitationsMeasuredAt': '2018-03-14T17:05:00', 'precipitationsSolarMeasuredAt': '2018-03-14T11:58:00', 'precipitationsComments': 'precipitation rain sub day rollup', 'precipitationsDaysAccumulated': 1, 'precipitationsUserid': 3556719, 'precipitationsLiquidAccumulation': 0, 'precipitationsVisTotalLiquidEquivalent': 0, 'precipitationsOccurrenceType': 'no occurrence', 'precipitationsVisRainDepth': 0, 'precipitationsSolarNoonAt': '2018-03-14T17:05:00'}}, {'protocol': 'humidity_noons', 'measuredDate': '2018-03-15', 'createDate': '2020-01-23T07:16:10', 'updateDate': '2020-01-23T07:16:10', 'publishDate': '2020-01-23T07:16:14', 'organizationId': 175521, 'organizationName': 'American Museum Of Natural History', 'siteId': 33782, 'siteName': 'Exhibitions Rooftop', 'countryName': 'United States', 'countryCode': 'USA', 'latitude': 40.782065, 'longitude': -73.974326, 'elevation': 34.0, 'pid': 142344098, 'data': {'humiditynoonsMeasuredAt': '2018-03-15T17:00:00', 'humiditynoonsComments': '(Phase 4 Email Data Entry)', 'humiditynoonsUserid': 3556719, 'humiditynoonsDewpoint': -4.7, 'humiditynoonsHumidityMethod': 'digital hygrometer', 'humiditynoonsSolarNoonAt': '2018-03-15T17:04:00', 'humiditynoonsRelativeHumidityPercent': 42, 'humiditynoonsSolarMeasuredAt': '2018-03-15T11:53:00'}}, {'protocol': 'precipitations', 'measuredDate': '2018-03-15', 'createDate': '2020-01-23T09:48:45', 'updateDate': '2020-01-23T09:48:45', 'publishDate': '2020-02-03T23:51:39', 'organizationId': 175521, 'organizationName': 'American Museum Of Natural History', 'siteId': 33782, 'siteName': 'Exhibitions Rooftop', 'countryName': 'United States', 'countryCode': 'USA', 'latitude': 40.782065, 'longitude': -73.974326, 'elevation': 34.0, 'pid': 144484156, 'data': {'precipitationsSnowfallAccumulationFlag': None, 'precipitationsLiquidAccumulationFlag': None, 'precipitationsPhMethod': None, 'precipitationsVisSnowDepth': 0, 'precipitationsSnowfallAccumulation': 0, 'precipitationsPh': None, 'precipitationsMeasuredAt': '2018-03-15T17:04:00', 'precipitationsSolarMeasuredAt': '2018-03-15T11:57:00', 'precipitationsComments': 'precipitation rain sub day rollup', 'precipitationsDaysAccumulated': 1, 'precipitationsUserid': 3556719, 'precipitationsLiquidAccumulation': 0, 'precipitationsVisTotalLiquidEquivalent': 0, 'precipitationsOccurrenceType': 'no occurrence', 'precipitationsVisRainDepth': 0, 'precipitationsSolarNoonAt': '2018-03-15T17:04:00'}}, {'protocol': 'air_temp_dailies', 'measuredDate': '2018-03-12', 'createDate': '2020-01-23T15:59:43', 'updateDate': '2020-01-23T15:59:43', 'publishDate': '2020-02-03T18:59:33', 'organizationId': 10323248, 'organizationName': 'Mountain View School (GLIDPXRW)', 'siteId': 35729, 'siteName': 'Grade 6 Atmosphere Site', 'countryName': 'United States', 'countryCode': 'USA', 'latitude': 40.7808, 'longitude': -74.602264, 'elevation': 183.0, 'pid': 149451330, 'data': {'airtempdailiesSolarMeasuredAt': '2018-03-12T11:54:00', 'airtempdailiesSolarNoonAt': '2018-03-12T17:08:00', 'airtempdailiesCurrentTemp': None, 'airtempdailiesMeasuredAt': '2018-03-12T17:05:00', 'airtempdailiesMaximumTemp': 7.4, 'airtempdailiesMinimumTemp': -0.9, 'airtempdailiesComments': None, 'airtempdailiesUserid': 10321815}}, {'protocol': 'air_temp_dailies', 'measuredDate': '2018-03-13', 'createDate': '2020-01-23T15:59:43', 'updateDate': '2020-01-23T15:59:43', 'publishDate': '2020-02-03T18:59:33', 'organizationId': 10323248, 'organizationName': 'Mountain View School (GLIDPXRW)', 'siteId': 35729, 'siteName': 'Grade 6 Atmosphere Site', 'countryName': 'United States', 'countryCode': 'USA', 'latitude': 40.7808, 'longitude': -74.602264, 'elevation': 183.0, 'pid': 149451331, 'data': {'airtempdailiesSolarMeasuredAt': '2018-03-13T11:55:00', 'airtempdailiesSolarNoonAt': '2018-03-13T17:07:00', 'airtempdailiesCurrentTemp': None, 'airtempdailiesMeasuredAt': '2018-03-13T17:05:00', 'airtempdailiesMaximumTemp': 5.3, 'airtempdailiesMinimumTemp': -2.2, 'airtempdailiesComments': None, 'airtempdailiesUserid': 10321815}}, {'protocol': 'air_temp_dailies', 'measuredDate': '2018-03-14', 'createDate': '2020-01-23T15:59:43', 'updateDate': '2020-01-23T15:59:43', 'publishDate': '2020-02-03T18:59:33', 'organizationId': 10323248, 'organizationName': 'Mountain View School (GLIDPXRW)', 'siteId': 35729, 'siteName': 'Grade 6 Atmosphere Site', 'countryName': 'United States', 'countryCode': 'USA', 'latitude': 40.7808, 'longitude': -74.602264, 'elevation': 183.0, 'pid': 149451332, 'data': {'airtempdailiesSolarMeasuredAt': '2018-03-14T11:55:00', 'airtempdailiesSolarNoonAt': '2018-03-14T17:07:00', 'airtempdailiesCurrentTemp': None, 'airtempdailiesMeasuredAt': '2018-03-14T17:05:00', 'airtempdailiesMaximumTemp': 5.2, 'airtempdailiesMinimumTemp': -1.1, 'airtempdailiesComments': None, 'airtempdailiesUserid': 10321815}}, {'protocol': 'air_temp_dailies', 'measuredDate': '2018-03-15', 'createDate': '2020-01-23T15:59:43', 'updateDate': '2020-01-23T15:59:43', 'publishDate': '2020-02-03T18:59:33', 'organizationId': 10323248, 'organizationName': 'Mountain View School (GLIDPXRW)', 'siteId': 35729, 'siteName': 'Grade 6 Atmosphere Site', 'countryName': 'United States', 'countryCode': 'USA', 'latitude': 40.7808, 'longitude': -74.602264, 'elevation': 183.0, 'pid': 149451333, 'data': {'airtempdailiesSolarMeasuredAt': '2018-03-15T11:55:00', 'airtempdailiesSolarNoonAt': '2018-03-15T17:07:00', 'airtempdailiesCurrentTemp': None, 'airtempdailiesMeasuredAt': '2018-03-15T17:05:00', 'airtempdailiesMaximumTemp': 7.9, 'airtempdailiesMinimumTemp': -0.8, 'airtempdailiesComments': None, 'airtempdailiesUserid': 10321815}}, {'protocol': 'air_temp_dailies', 'measuredDate': '2018-03-12', 'createDate': '2020-01-23T15:59:43', 'updateDate': '2020-01-23T15:59:43', 'publishDate': '2020-02-03T18:59:33', 'organizationId': 16292468, 'organizationName': 'Morristown-Beard School', 'siteId': 36139, 'siteName': 'MBS - Roof of Beard Hall', 'countryName': 'United States', 'countryCode': 'USA', 'latitude': 40.803491, 'longitude': -74.449542, 'elevation': 111.0, 'pid': 149451408, 'data': {'airtempdailiesSolarMeasuredAt': '2018-03-12T12:05:00', 'airtempdailiesSolarNoonAt': '2018-03-12T17:07:00', 'airtempdailiesCurrentTemp': 2.9, 'airtempdailiesMeasuredAt': '2018-03-12T17:15:02', 'airtempdailiesMaximumTemp': 5.3, 'airtempdailiesMinimumTemp': -3.6, 'airtempdailiesComments': 'air temp subday rollup', 'airtempdailiesUserid': 0}}, {'protocol': 'humidity_noons', 'measuredDate': '2018-03-12', 'createDate': '2020-01-23T07:16:10', 'updateDate': '2020-01-23T07:16:10', 'publishDate': '2020-01-23T07:16:14', 'organizationId': 16292468, 'organizationName': 'Morristown-Beard School', 'siteId': 36139, 'siteName': 'MBS - Roof of Beard Hall', 'countryName': 'United States', 'countryCode': 'USA', 'latitude': 40.803491, 'longitude': -74.449542, 'elevation': 111.0, 'pid': 142343474, 'data': {'humiditynoonsMeasuredAt': '2018-03-12T17:15:02', 'humiditynoonsComments': 'Weatherbug', 'humiditynoonsUserid': 8294323, 'humiditynoonsDewpoint': -3.6, 'humiditynoonsHumidityMethod': 'digital hygrometer', 'humiditynoonsSolarNoonAt': '2018-03-12T17:07:00', 'humiditynoonsRelativeHumidityPercent': 62.1, 'humiditynoonsSolarMeasuredAt': '2018-03-12T12:05:00'}}, {'protocol': 'precipitations', 'measuredDate': '2018-03-12', 'createDate': '2020-01-23T09:48:45', 'updateDate': '2020-01-23T09:48:45', 'publishDate': '2020-02-03T23:51:39', 'organizationId': 16292468, 'organizationName': 'Morristown-Beard School', 'siteId': 36139, 'siteName': 'MBS - Roof of Beard Hall', 'countryName': 'United States', 'countryCode': 'USA', 'latitude': 40.803491, 'longitude': -74.449542, 'elevation': 111.0, 'pid': 144483356, 'data': {'precipitationsSnowfallAccumulationFlag': None, 'precipitationsLiquidAccumulationFlag': None, 'precipitationsPhMethod': None, 'precipitationsVisSnowDepth': 0, 'precipitationsSnowfallAccumulation': 0, 'precipitationsPh': None, 'precipitationsMeasuredAt': '2018-03-12T17:07:00', 'precipitationsSolarMeasuredAt': '2018-03-12T11:57:00', 'precipitationsComments': 'precipitation rain sub day rollup', 'precipitationsDaysAccumulated': 1, 'precipitationsUserid': 8294323, 'precipitationsLiquidAccumulation': 0, 'precipitationsVisTotalLiquidEquivalent': 0, 'precipitationsOccurrenceType': 'no occurrence', 'precipitationsVisRainDepth': 0, 'precipitationsSolarNoonAt': '2018-03-12T17:07:00'}}, {'protocol': 'air_temp_dailies', 'measuredDate': '2018-03-13', 'createDate': '2020-01-23T15:59:43', 'updateDate': '2020-01-23T15:59:43', 'publishDate': '2020-02-03T18:59:33', 'organizationId': 16292468, 'organizationName': 'Morristown-Beard School', 'siteId': 36139, 'siteName': 'MBS - Roof of Beard Hall', 'countryName': 'United States', 'countryCode': 'USA', 'latitude': 40.803491, 'longitude': -74.449542, 'elevation': 111.0, 'pid': 149451409, 'data': {'airtempdailiesSolarMeasuredAt': '2018-03-13T12:06:00', 'airtempdailiesSolarNoonAt': '2018-03-13T17:07:00', 'airtempdailiesCurrentTemp': 1.2, 'airtempdailiesMeasuredAt': '2018-03-13T17:15:14', 'airtempdailiesMaximumTemp': 3.9, 'airtempdailiesMinimumTemp': -1.1, 'airtempdailiesComments': 'air temp subday rollup', 'airtempdailiesUserid': 0}}, {'protocol': 'humidity_noons', 'measuredDate': '2018-03-13', 'createDate': '2020-01-23T07:16:10', 'updateDate': '2020-01-23T07:16:10', 'publishDate': '2020-01-23T07:16:14', 'organizationId': 16292468, 'organizationName': 'Morristown-Beard School', 'siteId': 36139, 'siteName': 'MBS - Roof of Beard Hall', 'countryName': 'United States', 'countryCode': 'USA', 'latitude': 40.803491, 'longitude': -74.449542, 'elevation': 111.0, 'pid': 142343475, 'data': {'humiditynoonsMeasuredAt': '2018-03-13T17:15:14', 'humiditynoonsComments': 'Weatherbug', 'humiditynoonsUserid': 8294323, 'humiditynoonsDewpoint': -2.1, 'humiditynoonsHumidityMethod': 'digital hygrometer', 'humiditynoonsSolarNoonAt': '2018-03-13T17:07:00', 'humiditynoonsRelativeHumidityPercent': 78.8, 'humiditynoonsSolarMeasuredAt': '2018-03-13T12:06:00'}}, {'protocol': 'precipitations', 'measuredDate': '2018-03-13', 'createDate': '2020-01-23T09:48:45', 'updateDate': '2020-01-23T09:48:45', 'publishDate': '2020-02-03T23:51:39', 'organizationId': 16292468, 'organizationName': 'Morristown-Beard School', 'siteId': 36139, 'siteName': 'MBS - Roof of Beard Hall', 'countryName': 'United States', 'countryCode': 'USA', 'latitude': 40.803491, 'longitude': -74.449542, 'elevation': 111.0, 'pid': 144483357, 'data': {'precipitationsSnowfallAccumulationFlag': None, 'precipitationsLiquidAccumulationFlag': None, 'precipitationsPhMethod': None, 'precipitationsVisSnowDepth': None, 'precipitationsSnowfallAccumulation': None, 'precipitationsPh': None, 'precipitationsMeasuredAt': '2018-03-13T17:07:00', 'precipitationsSolarMeasuredAt': '2018-03-13T11:57:00', 'precipitationsComments': 'precipitation rain sub day rollup', 'precipitationsDaysAccumulated': 1, 'precipitationsUserid': 8294323, 'precipitationsLiquidAccumulation': 1.9, 'precipitationsVisTotalLiquidEquivalent': 1.9, 'precipitationsOccurrenceType': 'rain', 'precipitationsVisRainDepth': 1.9, 'precipitationsSolarNoonAt': '2018-03-13T17:07:00'}}, {'protocol': 'precipitations', 'measuredDate': '2018-03-14', 'createDate': '2020-01-23T09:48:45', 'updateDate': '2020-01-23T09:48:45', 'publishDate': '2020-02-03T23:51:39', 'organizationId': 16292468, 'organizationName': 'Morristown-Beard School', 'siteId': 36139, 'siteName': 'MBS - Roof of Beard Hall', 'countryName': 'United States', 'countryCode': 'USA', 'latitude': 40.803491, 'longitude': -74.449542, 'elevation': 111.0, 'pid': 144483358, 'data': {'precipitationsSnowfallAccumulationFlag': None, 'precipitationsLiquidAccumulationFlag': None, 'precipitationsPhMethod': None, 'precipitationsVisSnowDepth': 0, 'precipitationsSnowfallAccumulation': 0, 'precipitationsPh': None, 'precipitationsMeasuredAt': '2018-03-14T17:06:00', 'precipitationsSolarMeasuredAt': '2018-03-14T11:57:00', 'precipitationsComments': 'precipitation rain sub day rollup', 'precipitationsDaysAccumulated': 1, 'precipitationsUserid': 8294323, 'precipitationsLiquidAccumulation': 0, 'precipitationsVisTotalLiquidEquivalent': 0, 'precipitationsOccurrenceType': 'no occurrence', 'precipitationsVisRainDepth': 0, 'precipitationsSolarNoonAt': '2018-03-14T17:06:00'}}, {'protocol': 'air_temp_dailies', 'measuredDate': '2018-03-14', 'createDate': '2020-01-23T15:59:43', 'updateDate': '2020-01-23T15:59:43', 'publishDate': '2020-02-03T18:59:33', 'organizationId': 16292468, 'organizationName': 'Morristown-Beard School', 'siteId': 36139, 'siteName': 'MBS - Roof of Beard Hall', 'countryName': 'United States', 'countryCode': 'USA', 'latitude': 40.803491, 'longitude': -74.449542, 'elevation': 111.0, 'pid': 149451410, 'data': {'airtempdailiesSolarMeasuredAt': '2018-03-14T12:06:00', 'airtempdailiesSolarNoonAt': '2018-03-14T17:06:00', 'airtempdailiesCurrentTemp': 1, 'airtempdailiesMeasuredAt': '2018-03-14T17:15:06', 'airtempdailiesMaximumTemp': 2.1, 'airtempdailiesMinimumTemp': -3.2, 'airtempdailiesComments': 'air temp subday rollup', 'airtempdailiesUserid': 0}}, {'protocol': 'humidity_noons', 'measuredDate': '2018-03-14', 'createDate': '2020-01-23T07:16:10', 'updateDate': '2020-01-23T07:16:10', 'publishDate': '2020-01-23T07:16:14', 'organizationId': 16292468, 'organizationName': 'Morristown-Beard School', 'siteId': 36139, 'siteName': 'MBS - Roof of Beard Hall', 'countryName': 'United States', 'countryCode': 'USA', 'latitude': 40.803491, 'longitude': -74.449542, 'elevation': 111.0, 'pid': 142343476, 'data': {'humiditynoonsMeasuredAt': '2018-03-14T17:15:06', 'humiditynoonsComments': 'Weatherbug', 'humiditynoonsUserid': 8294323, 'humiditynoonsDewpoint': -5.8, 'humiditynoonsHumidityMethod': 'digital hygrometer', 'humiditynoonsSolarNoonAt': '2018-03-14T17:06:00', 'humiditynoonsRelativeHumidityPercent': 60.7, 'humiditynoonsSolarMeasuredAt': '2018-03-14T12:06:00'}}, {'protocol': 'air_temp_dailies', 'measuredDate': '2018-03-15', 'createDate': '2020-01-23T15:59:43', 'updateDate': '2020-01-23T15:59:43', 'publishDate': '2020-02-03T18:59:33', 'organizationId': 16292468, 'organizationName': 'Morristown-Beard School', 'siteId': 36139, 'siteName': 'MBS - Roof of Beard Hall', 'countryName': 'United States', 'countryCode': 'USA', 'latitude': 40.803491, 'longitude': -74.449542, 'elevation': 111.0, 'pid': 149451411, 'data': {'airtempdailiesSolarMeasuredAt': '2018-03-15T12:06:00', 'airtempdailiesSolarNoonAt': '2018-03-15T17:06:00', 'airtempdailiesCurrentTemp': 3.8, 'airtempdailiesMeasuredAt': '2018-03-15T17:14:46', 'airtempdailiesMaximumTemp': 3.4, 'airtempdailiesMinimumTemp': -2.2, 'airtempdailiesComments': 'air temp subday rollup', 'airtempdailiesUserid': 0}}, {'protocol': 'humidity_noons', 'measuredDate': '2018-03-15', 'createDate': '2020-01-23T07:16:10', 'updateDate': '2020-01-23T07:16:10', 'publishDate': '2020-01-23T07:16:14', 'organizationId': 16292468, 'organizationName': 'Morristown-Beard School', 'siteId': 36139, 'siteName': 'MBS - Roof of Beard Hall', 'countryName': 'United States', 'countryCode': 'USA', 'latitude': 40.803491, 'longitude': -74.449542, 'elevation': 111.0, 'pid': 142343477, 'data': {'humiditynoonsMeasuredAt': '2018-03-15T17:14:46', 'humiditynoonsComments': 'Weatherbug', 'humiditynoonsUserid': 8294323, 'humiditynoonsDewpoint': -7.2, 'humiditynoonsHumidityMethod': 'digital hygrometer', 'humiditynoonsSolarNoonAt': '2018-03-15T17:06:00', 'humiditynoonsRelativeHumidityPercent': 44.6, 'humiditynoonsSolarMeasuredAt': '2018-03-15T12:06:00'}}, {'protocol': 'precipitations', 'measuredDate': '2018-03-15', 'createDate': '2020-01-23T09:48:45', 'updateDate': '2020-01-23T09:48:45', 'publishDate': '2020-02-03T23:51:39', 'organizationId': 16292468, 'organizationName': 'Morristown-Beard School', 'siteId': 36139, 'siteName': 'MBS - Roof of Beard Hall', 'countryName': 'United States', 'countryCode': 'USA', 'latitude': 40.803491, 'longitude': -74.449542, 'elevation': 111.0, 'pid': 144483359, 'data': {'precipitationsSnowfallAccumulationFlag': None, 'precipitationsLiquidAccumulationFlag': None, 'precipitationsPhMethod': None, 'precipitationsVisSnowDepth': 0, 'precipitationsSnowfallAccumulation': 0, 'precipitationsPh': None, 'precipitationsMeasuredAt': '2018-03-15T17:06:00', 'precipitationsSolarMeasuredAt': '2018-03-15T11:57:00', 'precipitationsComments': 'precipitation rain sub day rollup', 'precipitationsDaysAccumulated': 1, 'precipitationsUserid': 8294323, 'precipitationsLiquidAccumulation': 0, 'precipitationsVisTotalLiquidEquivalent': 0, 'precipitationsOccurrenceType': 'no occurrence', 'precipitationsVisRainDepth': 0, 'precipitationsSolarNoonAt': '2018-03-15T17:06:00'}}, {'protocol': 'sky_conditions', 'measuredDate': '2018-03-15', 'createDate': '2020-01-26T07:41:16', 'updateDate': '2020-01-26T07:41:16', 'publishDate': '2020-03-04T21:47:47', 'organizationId': 10323248, 'organizationName': 'Mountain View School (GLIDPXRW)', 'siteId': 36963, 'siteName': 'Grade 6 Aerosols- Calitoo', 'countryName': 'United States', 'countryCode': 'USA', 'latitude': 40.7808, 'longitude': -74.602264, 'elevation': 183.0, 'pid': 162082230, 'data': {'skyconditionsSand': None, 'skyconditionsDownwardCaption': None, 'skyconditionsFog': None, 'skyconditionsNimbostratus': None, 'skyconditionsOpacityLow': 'opaque', 'skyconditionsCloudCoverHigh': None, 'skyconditionsWestCaption': None, 'skyconditionsDownwardPhotoUrl': None, 'skyconditionsVolcanicAsh': None, 'skyconditionsLeavesOnTrees': False, 'skyconditionsMeasuredAt': '2018-03-15T16:34:00', 'skyconditionsCirrostratus': None, 'skyconditionsContrailCoverDeprecated': None, 'skyconditionsRainingSnowing': False, 'skyconditionsCirrocumulus': None, 'skyconditionsCumulus': True, 'skyconditionsCirrus': None, 'skyconditionsHaze': None, 'skyconditionsNorthCaption': None, 'skyconditionsCumulonimbus': None, 'skyconditionsSolarMeasuredAt': '2018-03-15T11:24:00', 'skyconditionsSkyClarity': 'clear', 'skyconditionsMuddy': False, 'skyconditionsUpwardPhotoUrl': None, 'skyconditionsIsGlobeTrained': True, 'skyconditionsShortLivedContrails': None, 'skyconditionsSmoke': None, 'skyconditionsWestPhotoUrl': None, 'skyconditionsObservationId': '101-36963-10321815-201803151634', 'skyconditionsSouthCaption': None, 'skyconditionsCloudCoverMid': None, 'skyconditionsUserid': 10321815, 'skyconditionsStratocumulus': None, 'skyconditionsEastCaption': None, 'skyconditionsBlowingSnow': None, 'skyconditionsSouthPhotoUrl': None, 'skyconditionsIsCitizenScience': False, 'skyconditionsCloudCoverLow': 'scattered', 'skyconditionsNorthPhotoUrl': None, 'skyconditionsSpreadingContrails': None, 'skyconditionsUpwardCaption': None, 'skyconditionsStratus': None, 'skyconditionsDust': None, 'skyconditionsComments': None, 'skyconditionsDataSource': 'GLOBE Data Entry Web Forms', 'skyconditionsSkyColor': 'light blue', 'skyconditionsOpacityHigh': None, 'skyconditionsSkyConditionId': 2949655, 'skyconditionsNonSpreadingContrails': None, 'skyconditionsDryGround': True, 'skyconditionsHeavySnow': None, 'skyconditionsCloudCover': 'scattered', 'skyconditionsAltostratus': None, 'skyconditionsSnowIce': True, 'skyconditionsAltocumulus': None, 'skyconditionsOpacityMid': None, 'skyconditionsEastPhotoUrl': None, 'skyconditionsStandingWater': False, 'skyconditionsSpray': None, 'skyconditionsHeavyRain': None}}, {'protocol': 'humidity_noons', 'measuredDate': '2018-03-12', 'createDate': '2020-01-23T07:16:10', 'updateDate': '2020-01-23T07:16:10', 'publishDate': '2020-01-23T07:16:14', 'organizationId': 17698201, 'organizationName': 'Holland Brook School', 'siteId': 47034, 'siteName': 'Holland Brook Weather Station', 'countryName': 'United States', 'countryCode': 'USA', 'latitude': 40.591045, 'longitude': -74.753254, 'elevation': 15.3, 'pid': 142344662, 'data': {'humiditynoonsMeasuredAt': '2018-03-12T17:00:00', 'humiditynoonsComments': '(Phase 4 Email Data Entry)', 'humiditynoonsUserid': 8294323, 'humiditynoonsDewpoint': -0.8, 'humiditynoonsHumidityMethod': 'digital hygrometer', 'humiditynoonsSolarNoonAt': '2018-03-12T17:08:00', 'humiditynoonsRelativeHumidityPercent': 71, 'humiditynoonsSolarMeasuredAt': '2018-03-12T11:49:00'}}, {'protocol': 'humidity_noons', 'measuredDate': '2018-03-13', 'createDate': '2020-01-23T07:16:10', 'updateDate': '2020-01-23T07:16:10', 'publishDate': '2020-01-23T07:16:14', 'organizationId': 17698201, 'organizationName': 'Holland Brook School', 'siteId': 47034, 'siteName': 'Holland Brook Weather Station', 'countryName': 'United States', 'countryCode': 'USA', 'latitude': 40.591045, 'longitude': -74.753254, 'elevation': 15.3, 'pid': 142344663, 'data': {'humiditynoonsMeasuredAt': '2018-03-13T17:00:00', 'humiditynoonsComments': '(Phase 4 Email Data Entry)', 'humiditynoonsUserid': 8294323, 'humiditynoonsDewpoint': -5.4, 'humiditynoonsHumidityMethod': 'digital hygrometer', 'humiditynoonsSolarNoonAt': '2018-03-13T17:08:00', 'humiditynoonsRelativeHumidityPercent': 53, 'humiditynoonsSolarMeasuredAt': '2018-03-13T11:49:00'}}, {'protocol': 'humidity_noons', 'measuredDate': '2018-03-14', 'createDate': '2020-01-23T07:16:10', 'updateDate': '2020-01-23T07:16:10', 'publishDate': '2020-01-23T07:16:14', 'organizationId': 17698201, 'organizationName': 'Holland Brook School', 'siteId': 47034, 'siteName': 'Holland Brook Weather Station', 'countryName': 'United States', 'countryCode': 'USA', 'latitude': 40.591045, 'longitude': -74.753254, 'elevation': 15.3, 'pid': 142344664, 'data': {'humiditynoonsMeasuredAt': '2018-03-14T17:00:00', 'humiditynoonsComments': '(Phase 4 Email Data Entry)', 'humiditynoonsUserid': 8294323, 'humiditynoonsDewpoint': -4.6, 'humiditynoonsHumidityMethod': 'digital hygrometer', 'humiditynoonsSolarNoonAt': '2018-03-14T17:08:00', 'humiditynoonsRelativeHumidityPercent': 58, 'humiditynoonsSolarMeasuredAt': '2018-03-14T11:49:00'}}, {'protocol': 'humidity_noons', 'measuredDate': '2018-03-15', 'createDate': '2020-01-23T07:16:10', 'updateDate': '2020-01-23T07:16:10', 'publishDate': '2020-01-23T07:16:14', 'organizationId': 17698201, 'organizationName': 'Holland Brook School', 'siteId': 47034, 'siteName': 'Holland Brook Weather Station', 'countryName': 'United States', 'countryCode': 'USA', 'latitude': 40.591045, 'longitude': -74.753254, 'elevation': 15.3, 'pid': 142344665, 'data': {'humiditynoonsMeasuredAt': '2018-03-15T17:00:00', 'humiditynoonsComments': '(Phase 4 Email Data Entry)', 'humiditynoonsUserid': 8294323, 'humiditynoonsDewpoint': -1, 'humiditynoonsHumidityMethod': 'digital hygrometer', 'humiditynoonsSolarNoonAt': '2018-03-15T17:07:00', 'humiditynoonsRelativeHumidityPercent': 67, 'humiditynoonsSolarMeasuredAt': '2018-03-15T11:50:00'}}, {'protocol': 'sky_conditions', 'measuredDate': '2018-03-12', 'createDate': '2020-01-26T07:41:16', 'updateDate': '2020-01-26T07:41:16', 'publishDate': '2020-03-04T21:47:47', 'organizationId': 17043304, 'organizationName': 'United States of America Citizen Science', 'siteId': 56400, 'siteName': '18TWK615563', 'countryName': None, 'countryCode': None, 'latitude': 40.2549, 'longitude': -74.276827, 'elevation': 54.7, 'pid': 162080912, 'data': {'skyconditionsSand': None, 'skyconditionsDownwardCaption': None, 'skyconditionsFog': None, 'skyconditionsNimbostratus': None, 'skyconditionsOpacityLow': None, 'skyconditionsCloudCoverHigh': None, 'skyconditionsWestCaption': None, 'skyconditionsDownwardPhotoUrl': None, 'skyconditionsVolcanicAsh': None, 'skyconditionsMeasurementLatitude': 40.254899, 'skyconditionsLeavesOnTrees': False, 'skyconditionsMeasuredAt': '2018-03-12T17:07:00', 'skyconditionsCirrostratus': None, 'skyconditionsContrailCoverDeprecated': None, 'skyconditionsRainingSnowing': False, 'skyconditionsCirrocumulus': None, 'skyconditionsCumulus': None, 'skyconditionsCirrus': None, 'skyconditionsHaze': None, 'skyconditionsNorthCaption': None, 'skyconditionsCumulonimbus': None, 'skyconditionsSolarMeasuredAt': '2018-03-12T11:58:00', 'skyconditionsSkyClarity': None, 'skyconditionsMuddy': True, 'skyconditionsUpwardPhotoUrl': None, 'skyconditionsIsGlobeTrained': False, 'skyconditionsShortLivedContrails': None, 'skyconditionsSmoke': None, 'skyconditionsWestPhotoUrl': None, 'skyconditionsObservationId': '116-56400-27993043-201803121707', 'skyconditionsSouthCaption': None, 'skyconditionsCloudCoverMid': 'overcast', 'skyconditionsUserid': 27993043, 'skyconditionsStratocumulus': None, 'skyconditionsEastCaption': None, 'skyconditionsBlowingSnow': None, 'skyconditionsSouthPhotoUrl': None, 'skyconditionsMeasurementLongitude': -74.276827, 'skyconditionsIsCitizenScience': True, 'skyconditionsCloudCoverLow': None, 'skyconditionsNorthPhotoUrl': None, 'skyconditionsSpreadingContrails': None, 'skyconditionsUpwardCaption': None, 'skyconditionsStratus': None, 'skyconditionsDust': None, 'skyconditionsComments': None, 'skyconditionsDataSource': 'GLOBE Observer App', 'skyconditionsSkyColor': None, 'skyconditionsOpacityHigh': None, 'skyconditionsSkyConditionId': 2926172, 'skyconditionsNonSpreadingContrails': None, 'skyconditionsDryGround': False, 'skyconditionsHeavySnow': None, 'skyconditionsCloudCover': 'overcast', 'skyconditionsMeasurementElevation': 54.7, 'skyconditionsAltostratus': True, 'skyconditionsSnowIce': True, 'skyconditionsAltocumulus': None, 'skyconditionsOpacityMid': None, 'skyconditionsEastPhotoUrl': None, 'skyconditionsStandingWater': True, 'skyconditionsSpray': None, 'skyconditionsHeavyRain': None}}, {'protocol': 'sky_conditions', 'measuredDate': '2018-03-13', 'createDate': '2020-01-26T07:41:16', 'updateDate': '2020-01-26T07:41:16', 'publishDate': '2020-03-04T21:47:47', 'organizationId': 17043304, 'organizationName': 'United States of America Citizen Science', 'siteId': 56400, 'siteName': '18TWK615563', 'countryName': None, 'countryCode': None, 'latitude': 40.2549, 'longitude': -74.276827, 'elevation': 54.7, 'pid': 162081324, 'data': {'skyconditionsSand': None, 'skyconditionsDownwardCaption': None, 'skyconditionsFog': None, 'skyconditionsNimbostratus': None, 'skyconditionsOpacityLow': None, 'skyconditionsCloudCoverHigh': None, 'skyconditionsWestCaption': None, 'skyconditionsDownwardPhotoUrl': None, 'skyconditionsVolcanicAsh': None, 'skyconditionsMeasurementLatitude': 40.254899, 'skyconditionsLeavesOnTrees': False, 'skyconditionsMeasuredAt': '2018-03-13T17:29:00', 'skyconditionsCirrostratus': None, 'skyconditionsContrailCoverDeprecated': None, 'skyconditionsRainingSnowing': False, 'skyconditionsCirrocumulus': None, 'skyconditionsCumulus': None, 'skyconditionsCirrus': None, 'skyconditionsHaze': None, 'skyconditionsNorthCaption': None, 'skyconditionsCumulonimbus': None, 'skyconditionsSolarMeasuredAt': '2018-03-13T12:20:00', 'skyconditionsSkyClarity': None, 'skyconditionsMuddy': True, 'skyconditionsUpwardPhotoUrl': None, 'skyconditionsIsGlobeTrained': False, 'skyconditionsShortLivedContrails': None, 'skyconditionsSmoke': None, 'skyconditionsWestPhotoUrl': None, 'skyconditionsObservationId': '116-56400-27993043-201803131729', 'skyconditionsSouthCaption': None, 'skyconditionsCloudCoverMid': 'overcast', 'skyconditionsUserid': 27993043, 'skyconditionsStratocumulus': None, 'skyconditionsEastCaption': None, 'skyconditionsBlowingSnow': None, 'skyconditionsSouthPhotoUrl': None, 'skyconditionsMeasurementLongitude': -74.276827, 'skyconditionsIsCitizenScience': True, 'skyconditionsCloudCoverLow': None, 'skyconditionsNorthPhotoUrl': None, 'skyconditionsSpreadingContrails': None, 'skyconditionsUpwardCaption': None, 'skyconditionsStratus': None, 'skyconditionsDust': None, 'skyconditionsComments': None, 'skyconditionsDataSource': 'GLOBE Observer App', 'skyconditionsSkyColor': None, 'skyconditionsOpacityHigh': None, 'skyconditionsSkyConditionId': 2926678, 'skyconditionsNonSpreadingContrails': None, 'skyconditionsDryGround': False, 'skyconditionsHeavySnow': None, 'skyconditionsCloudCover': 'overcast', 'skyconditionsMeasurementElevation': 54.7, 'skyconditionsAltostratus': None, 'skyconditionsSnowIce': True, 'skyconditionsAltocumulus': True, 'skyconditionsOpacityMid': 'opaque', 'skyconditionsEastPhotoUrl': None, 'skyconditionsStandingWater': True, 'skyconditionsSpray': None, 'skyconditionsHeavyRain': None}}, {'protocol': 'sky_conditions', 'measuredDate': '2018-03-14', 'createDate': '2020-01-26T07:41:16', 'updateDate': '2020-01-26T07:41:16', 'publishDate': '2020-03-04T21:47:47', 'organizationId': 17043304, 'organizationName': 'United States of America Citizen Science', 'siteId': 56400, 'siteName': '18TWK615563', 'countryName': None, 'countryCode': None, 'latitude': 40.2549, 'longitude': -74.276827, 'elevation': 54.7, 'pid': 162081743, 'data': {'skyconditionsSand': None, 'skyconditionsDownwardCaption': None, 'skyconditionsFog': None, 'skyconditionsNimbostratus': None, 'skyconditionsOpacityLow': None, 'skyconditionsCloudCoverHigh': 'scattered', 'skyconditionsWestCaption': None, 'skyconditionsDownwardPhotoUrl': None, 'skyconditionsVolcanicAsh': None, 'skyconditionsMeasurementLatitude': 40.254899, 'skyconditionsLeavesOnTrees': False, 'skyconditionsMeasuredAt': '2018-03-14T16:57:00', 'skyconditionsCirrostratus': None, 'skyconditionsContrailCoverDeprecated': None, 'skyconditionsRainingSnowing': False, 'skyconditionsCirrocumulus': None, 'skyconditionsCumulus': None, 'skyconditionsCirrus': True, 'skyconditionsHaze': None, 'skyconditionsNorthCaption': None, 'skyconditionsCumulonimbus': None, 'skyconditionsSolarMeasuredAt': '2018-03-14T11:48:00', 'skyconditionsSkyClarity': None, 'skyconditionsMuddy': True, 'skyconditionsUpwardPhotoUrl': None, 'skyconditionsIsGlobeTrained': False, 'skyconditionsShortLivedContrails': None, 'skyconditionsSmoke': None, 'skyconditionsWestPhotoUrl': None, 'skyconditionsObservationId': '116-56400-27993043-201803141657', 'skyconditionsSouthCaption': None, 'skyconditionsCloudCoverMid': 'broken', 'skyconditionsUserid': 27993043, 'skyconditionsStratocumulus': None, 'skyconditionsEastCaption': None, 'skyconditionsBlowingSnow': None, 'skyconditionsSouthPhotoUrl': None, 'skyconditionsMeasurementLongitude': -74.276827, 'skyconditionsIsCitizenScience': True, 'skyconditionsCloudCoverLow': None, 'skyconditionsNorthPhotoUrl': None, 'skyconditionsSpreadingContrails': None, 'skyconditionsUpwardCaption': None, 'skyconditionsStratus': None, 'skyconditionsDust': None, 'skyconditionsComments': None, 'skyconditionsDataSource': 'GLOBE Observer App', 'skyconditionsSkyColor': None, 'skyconditionsOpacityHigh': 'translucent', 'skyconditionsSkyConditionId': 2927404, 'skyconditionsNonSpreadingContrails': None, 'skyconditionsDryGround': False, 'skyconditionsHeavySnow': None, 'skyconditionsCloudCover': 'broken', 'skyconditionsMeasurementElevation': 54.7, 'skyconditionsAltostratus': None, 'skyconditionsSnowIce': True, 'skyconditionsAltocumulus': True, 'skyconditionsOpacityMid': 'translucent', 'skyconditionsEastPhotoUrl': None, 'skyconditionsStandingWater': True, 'skyconditionsSpray': None, 'skyconditionsHeavyRain': None}}, {'protocol': 'sky_conditions', 'measuredDate': '2018-03-15', 'createDate': '2020-01-26T07:41:16', 'updateDate': '2020-01-26T07:41:16', 'publishDate': '2020-03-04T21:47:47', 'organizationId': 17043304, 'organizationName': 'United States of America Citizen Science', 'siteId': 56400, 'siteName': '18TWK615563', 'countryName': None, 'countryCode': None, 'latitude': 40.2549, 'longitude': -74.276827, 'elevation': 54.7, 'pid': 162082304, 'data': {'skyconditionsSand': None, 'skyconditionsDownwardCaption': None, 'skyconditionsFog': None, 'skyconditionsNimbostratus': None, 'skyconditionsOpacityLow': None, 'skyconditionsCloudCoverHigh': 'clear', 'skyconditionsWestCaption': None, 'skyconditionsDownwardPhotoUrl': None, 'skyconditionsVolcanicAsh': None, 'skyconditionsMeasurementLatitude': 40.254899, 'skyconditionsLeavesOnTrees': False, 'skyconditionsMeasuredAt': '2018-03-15T16:54:00', 'skyconditionsCirrostratus': None, 'skyconditionsContrailCoverDeprecated': None, 'skyconditionsRainingSnowing': False, 'skyconditionsCirrocumulus': None, 'skyconditionsCumulus': None, 'skyconditionsCirrus': True, 'skyconditionsHaze': None, 'skyconditionsNorthCaption': None, 'skyconditionsCumulonimbus': None, 'skyconditionsSolarMeasuredAt': '2018-03-15T11:46:00', 'skyconditionsSkyClarity': 'clear', 'skyconditionsMuddy': True, 'skyconditionsUpwardPhotoUrl': None, 'skyconditionsIsGlobeTrained': False, 'skyconditionsShortLivedContrails': None, 'skyconditionsSmoke': None, 'skyconditionsWestPhotoUrl': None, 'skyconditionsObservationId': '116-56400-27993043-201803151654', 'skyconditionsSouthCaption': None, 'skyconditionsCloudCoverMid': None, 'skyconditionsUserid': 27993043, 'skyconditionsStratocumulus': None, 'skyconditionsEastCaption': None, 'skyconditionsBlowingSnow': None, 'skyconditionsSouthPhotoUrl': None, 'skyconditionsMeasurementLongitude': -74.276827, 'skyconditionsIsCitizenScience': True, 'skyconditionsCloudCoverLow': None, 'skyconditionsNorthPhotoUrl': None, 'skyconditionsSpreadingContrails': None, 'skyconditionsUpwardCaption': None, 'skyconditionsStratus': None, 'skyconditionsDust': None, 'skyconditionsComments': None, 'skyconditionsDataSource': 'GLOBE Observer App', 'skyconditionsSkyColor': 'blue', 'skyconditionsOpacityHigh': 'translucent', 'skyconditionsSkyConditionId': 2928330, 'skyconditionsNonSpreadingContrails': None, 'skyconditionsDryGround': False, 'skyconditionsHeavySnow': None, 'skyconditionsCloudCover': 'clear', 'skyconditionsMeasurementElevation': 54.7, 'skyconditionsAltostratus': None, 'skyconditionsSnowIce': True, 'skyconditionsAltocumulus': None, 'skyconditionsOpacityMid': None, 'skyconditionsEastPhotoUrl': None, 'skyconditionsStandingWater': True, 'skyconditionsSpray': None, 'skyconditionsHeavyRain': None}}, {'protocol': 'sky_conditions', 'measuredDate': '2018-03-12', 'createDate': '2020-01-26T07:41:16', 'updateDate': '2020-01-26T07:41:16', 'publishDate': '2020-03-04T21:47:47', 'organizationId': 36228271, 'organizationName': 'Freeport High School', 'siteId': 100102, 'siteName': 'Freeport High School_Grassy Area', 'countryName': 'United States', 'countryCode': 'USA', 'latitude': 40.65572, 'longitude': -73.60239, 'elevation': 3.9, 'pid': 162080924, 'data': {'skyconditionsSand': None, 'skyconditionsDownwardCaption': None, 'skyconditionsFog': None, 'skyconditionsNimbostratus': None, 'skyconditionsOpacityLow': None, 'skyconditionsCloudCoverHigh': None, 'skyconditionsWestCaption': None, 'skyconditionsDownwardPhotoUrl': None, 'skyconditionsVolcanicAsh': None, 'skyconditionsLeavesOnTrees': False, 'skyconditionsMeasuredAt': '2018-03-12T15:45:00', 'skyconditionsCirrostratus': None, 'skyconditionsContrailCoverDeprecated': None, 'skyconditionsRainingSnowing': False, 'skyconditionsCirrocumulus': None, 'skyconditionsCumulus': None, 'skyconditionsCirrus': None, 'skyconditionsHaze': None, 'skyconditionsNorthCaption': None, 'skyconditionsCumulonimbus': None, 'skyconditionsSolarMeasuredAt': '2018-03-12T10:38:00', 'skyconditionsSkyClarity': 'clear', 'skyconditionsMuddy': False, 'skyconditionsUpwardPhotoUrl': None, 'skyconditionsIsGlobeTrained': True, 'skyconditionsShortLivedContrails': None, 'skyconditionsSmoke': None, 'skyconditionsWestPhotoUrl': None, 'skyconditionsObservationId': '109-100102-10591835-201803121545', 'skyconditionsSouthCaption': None, 'skyconditionsCloudCoverMid': 'clear', 'skyconditionsUserid': 10591835, 'skyconditionsStratocumulus': None, 'skyconditionsEastCaption': None, 'skyconditionsBlowingSnow': None, 'skyconditionsSouthPhotoUrl': None, 'skyconditionsIsCitizenScience': False, 'skyconditionsCloudCoverLow': None, 'skyconditionsNorthPhotoUrl': None, 'skyconditionsSpreadingContrails': None, 'skyconditionsUpwardCaption': None, 'skyconditionsStratus': None, 'skyconditionsDust': None, 'skyconditionsComments': None, 'skyconditionsDataSource': 'GLOBE Data Entry Web Forms', 'skyconditionsSkyColor': 'light blue', 'skyconditionsOpacityHigh': None, 'skyconditionsSkyConditionId': 2938139, 'skyconditionsNonSpreadingContrails': None, 'skyconditionsDryGround': True, 'skyconditionsHeavySnow': None, 'skyconditionsCloudCover': 'clear', 'skyconditionsAltostratus': True, 'skyconditionsSnowIce': False, 'skyconditionsAltocumulus': None, 'skyconditionsOpacityMid': 'opaque', 'skyconditionsEastPhotoUrl': None, 'skyconditionsStandingWater': False, 'skyconditionsSpray': None, 'skyconditionsHeavyRain': None}}, {'protocol': 'sky_conditions', 'measuredDate': '2018-03-12', 'createDate': '2020-01-26T07:41:16', 'updateDate': '2020-01-26T07:41:16', 'publishDate': '2020-03-04T21:47:47', 'organizationId': 36228271, 'organizationName': 'Freeport High School', 'siteId': 100103, 'siteName': 'Freeport High School_Concrete Area', 'countryName': 'United States', 'countryCode': 'USA', 'latitude': 40.65583, 'longitude': -73.602666, 'elevation': 3.7, 'pid': 162080925, 'data': {'skyconditionsSand': None, 'skyconditionsDownwardCaption': None, 'skyconditionsFog': None, 'skyconditionsNimbostratus': None, 'skyconditionsOpacityLow': None, 'skyconditionsCloudCoverHigh': 'clear', 'skyconditionsWestCaption': None, 'skyconditionsDownwardPhotoUrl': None, 'skyconditionsVolcanicAsh': None, 'skyconditionsLeavesOnTrees': False, 'skyconditionsMeasuredAt': '2018-03-12T15:45:00', 'skyconditionsCirrostratus': True, 'skyconditionsContrailCoverDeprecated': None, 'skyconditionsRainingSnowing': False, 'skyconditionsCirrocumulus': None, 'skyconditionsCumulus': None, 'skyconditionsCirrus': False, 'skyconditionsHaze': None, 'skyconditionsNorthCaption': None, 'skyconditionsCumulonimbus': None, 'skyconditionsSolarMeasuredAt': '2018-03-12T10:38:00', 'skyconditionsSkyClarity': 'clear', 'skyconditionsMuddy': False, 'skyconditionsUpwardPhotoUrl': None, 'skyconditionsIsGlobeTrained': True, 'skyconditionsShortLivedContrails': 1, 'skyconditionsSmoke': None, 'skyconditionsWestPhotoUrl': None, 'skyconditionsObservationId': '109-100103-10591835-201803121545', 'skyconditionsSouthCaption': None, 'skyconditionsCloudCoverMid': None, 'skyconditionsUserid': 10591835, 'skyconditionsStratocumulus': None, 'skyconditionsEastCaption': None, 'skyconditionsBlowingSnow': None, 'skyconditionsSouthPhotoUrl': None, 'skyconditionsIsCitizenScience': False, 'skyconditionsCloudCoverLow': None, 'skyconditionsNorthPhotoUrl': None, 'skyconditionsSpreadingContrails': 0, 'skyconditionsUpwardCaption': None, 'skyconditionsStratus': None, 'skyconditionsDust': None, 'skyconditionsComments': None, 'skyconditionsDataSource': 'GLOBE Data Entry Web Forms', 'skyconditionsSkyColor': 'blue', 'skyconditionsOpacityHigh': 'transparent', 'skyconditionsSkyConditionId': 2938103, 'skyconditionsNonSpreadingContrails': 0, 'skyconditionsDryGround': True, 'skyconditionsHeavySnow': None, 'skyconditionsCloudCover': 'clear', 'skyconditionsAltostratus': True, 'skyconditionsSnowIce': False, 'skyconditionsAltocumulus': False, 'skyconditionsOpacityMid': None, 'skyconditionsEastPhotoUrl': None, 'skyconditionsStandingWater': False, 'skyconditionsSpray': None, 'skyconditionsHeavyRain': None}}, {'protocol': 'sky_conditions', 'measuredDate': '2018-03-13', 'createDate': '2020-01-26T07:41:16', 'updateDate': '2020-01-26T07:41:16', 'publishDate': '2020-03-04T21:47:47', 'organizationId': 17043304, 'organizationName': 'United States of America Citizen Science', 'siteId': 106911, 'siteName': '18TWL775075', 'countryName': None, 'countryCode': None, 'latitude': 40.714775, 'longitude': -74.082445, 'elevation': 19.4, 'pid': 162081458, 'data': {'skyconditionsSand': None, 'skyconditionsDownwardCaption': '', 'skyconditionsFog': True, 'skyconditionsNimbostratus': None, 'skyconditionsOpacityLow': None, 'skyconditionsCloudCoverHigh': None, 'skyconditionsWestCaption': None, 'skyconditionsDownwardPhotoUrl': 'https://data.globe.gov/system/photos/2018/03/13/564119/original.jpg', 'skyconditionsVolcanicAsh': None, 'skyconditionsMeasurementLatitude': 40.714775, 'skyconditionsLeavesOnTrees': True, 'skyconditionsMeasuredAt': '2018-03-13T17:00:00', 'skyconditionsCirrostratus': None, 'skyconditionsContrailCoverDeprecated': None, 'skyconditionsRainingSnowing': True, 'skyconditionsCirrocumulus': None, 'skyconditionsCumulus': None, 'skyconditionsCirrus': None, 'skyconditionsHaze': None, 'skyconditionsNorthCaption': '', 'skyconditionsCumulonimbus': None, 'skyconditionsSolarMeasuredAt': '2018-03-13T11:52:00', 'skyconditionsSkyClarity': None, 'skyconditionsMuddy': True, 'skyconditionsUpwardPhotoUrl': 'https://data.globe.gov/system/photos/2018/03/13/564118/original.jpg', 'skyconditionsIsGlobeTrained': False, 'skyconditionsShortLivedContrails': None, 'skyconditionsSmoke': None, 'skyconditionsWestPhotoUrl': None, 'skyconditionsObservationId': '116-106911-38073019-201803131700', 'skyconditionsSouthCaption': None, 'skyconditionsCloudCoverMid': None, 'skyconditionsUserid': 38073019, 'skyconditionsStratocumulus': None, 'skyconditionsEastCaption': None, 'skyconditionsBlowingSnow': None, 'skyconditionsSouthPhotoUrl': None, 'skyconditionsMeasurementLongitude': -74.082445, 'skyconditionsIsCitizenScience': True, 'skyconditionsCloudCoverLow': None, 'skyconditionsNorthPhotoUrl': 'https://data.globe.gov/system/photos/2018/03/13/564117/original.jpg', 'skyconditionsSpreadingContrails': None, 'skyconditionsUpwardCaption': '', 'skyconditionsStratus': None, 'skyconditionsDust': None, 'skyconditionsComments': None, 'skyconditionsDataSource': 'GLOBE Observer App', 'skyconditionsSkyColor': None, 'skyconditionsOpacityHigh': None, 'skyconditionsSkyConditionId': 2926661, 'skyconditionsNonSpreadingContrails': None, 'skyconditionsDryGround': False, 'skyconditionsHeavySnow': None, 'skyconditionsCloudCover': 'obscured', 'skyconditionsMeasurementElevation': 19.4, 'skyconditionsAltostratus': None, 'skyconditionsSnowIce': False, 'skyconditionsAltocumulus': None, 'skyconditionsOpacityMid': None, 'skyconditionsEastPhotoUrl': None, 'skyconditionsStandingWater': False, 'skyconditionsSpray': None, 'skyconditionsHeavyRain': None}}, {'protocol': 'sky_conditions', 'measuredDate': '2018-03-15', 'createDate': '2020-01-26T07:41:16', 'updateDate': '2020-01-26T07:41:16', 'publishDate': '2020-03-04T21:47:47', 'organizationId': 17043304, 'organizationName': 'United States of America Citizen Science', 'siteId': 107400, 'siteName': '18TXL241095', 'countryName': None, 'countryCode': None, 'latitude': 40.727084, 'longitude': -73.530472, 'elevation': 27.0, 'pid': 162082723, 'data': {'skyconditionsSand': None, 'skyconditionsDownwardCaption': '', 'skyconditionsFog': None, 'skyconditionsNimbostratus': None, 'skyconditionsOpacityLow': None, 'skyconditionsCloudCoverHigh': 'clear', 'skyconditionsWestCaption': '', 'skyconditionsDownwardPhotoUrl': 'https://data.globe.gov/system/photos/2018/03/15/566687/original.jpg', 'skyconditionsVolcanicAsh': None, 'skyconditionsMeasurementLatitude': 40.727084, 'skyconditionsLeavesOnTrees': False, 'skyconditionsMeasuredAt': '2018-03-15T17:30:00', 'skyconditionsCirrostratus': True, 'skyconditionsContrailCoverDeprecated': None, 'skyconditionsRainingSnowing': False, 'skyconditionsCirrocumulus': None, 'skyconditionsCumulus': True, 'skyconditionsCirrus': None, 'skyconditionsHaze': None, 'skyconditionsNorthCaption': '', 'skyconditionsCumulonimbus': None, 'skyconditionsSolarMeasuredAt': '2018-03-15T12:25:00', 'skyconditionsSkyClarity': 'clear', 'skyconditionsMuddy': False, 'skyconditionsUpwardPhotoUrl': 'https://data.globe.gov/system/photos/2018/03/15/566686/original.jpg', 'skyconditionsIsGlobeTrained': False, 'skyconditionsShortLivedContrails': None, 'skyconditionsSmoke': None, 'skyconditionsWestPhotoUrl': 'https://data.globe.gov/system/photos/2018/03/15/566685/original.jpg', 'skyconditionsObservationId': '116-107400-38440834-201803151730', 'skyconditionsSouthCaption': '', 'skyconditionsCloudCoverMid': None, 'skyconditionsUserid': 38440834, 'skyconditionsStratocumulus': None, 'skyconditionsEastCaption': '', 'skyconditionsBlowingSnow': None, 'skyconditionsSouthPhotoUrl': 'https://data.globe.gov/system/photos/2018/03/15/566683/original.jpg', 'skyconditionsMeasurementLongitude': -73.530472, 'skyconditionsIsCitizenScience': True, 'skyconditionsCloudCoverLow': 'clear', 'skyconditionsNorthPhotoUrl': 'https://data.globe.gov/system/photos/2018/03/15/566682/original.jpg', 'skyconditionsSpreadingContrails': None, 'skyconditionsUpwardCaption': '', 'skyconditionsStratus': None, 'skyconditionsDust': None, 'skyconditionsComments': None, 'skyconditionsDataSource': 'GLOBE Observer App', 'skyconditionsSkyColor': 'light blue', 'skyconditionsOpacityHigh': 'transparent', 'skyconditionsSkyConditionId': 2928386, 'skyconditionsNonSpreadingContrails': None, 'skyconditionsDryGround': False, 'skyconditionsHeavySnow': None, 'skyconditionsCloudCover': 'clear', 'skyconditionsMeasurementElevation': 27, 'skyconditionsAltostratus': None, 'skyconditionsSnowIce': True, 'skyconditionsAltocumulus': None, 'skyconditionsOpacityMid': None, 'skyconditionsEastPhotoUrl': 'https://data.globe.gov/system/photos/2018/03/15/566684/original.jpg', 'skyconditionsStandingWater': False, 'skyconditionsSpray': None, 'skyconditionsHeavyRain': None}}, {'protocol': 'sky_conditions', 'measuredDate': '2018-03-15', 'createDate': '2020-01-26T07:41:16', 'updateDate': '2020-01-26T07:41:16', 'publishDate': '2020-03-04T21:47:47', 'organizationId': 17043304, 'organizationName': 'United States of America Citizen Science', 'siteId': 107451, 'siteName': '18TXL242095', 'countryName': None, 'countryCode': None, 'latitude': 40.727069, 'longitude': -73.529288, 'elevation': 24.9, 'pid': 162082770, 'data': {'skyconditionsSand': None, 'skyconditionsDownwardCaption': '', 'skyconditionsFog': None, 'skyconditionsNimbostratus': None, 'skyconditionsOpacityLow': 'opaque', 'skyconditionsCloudCoverHigh': None, 'skyconditionsWestCaption': '', 'skyconditionsDownwardPhotoUrl': 'https://data.globe.gov/system/photos/2018/03/15/566999/original.jpg', 'skyconditionsVolcanicAsh': None, 'skyconditionsMeasurementLatitude': 40.727069, 'skyconditionsLeavesOnTrees': False, 'skyconditionsMeasuredAt': '2018-03-15T19:30:00', 'skyconditionsCirrostratus': None, 'skyconditionsContrailCoverDeprecated': None, 'skyconditionsRainingSnowing': False, 'skyconditionsCirrocumulus': None, 'skyconditionsCumulus': True, 'skyconditionsCirrus': None, 'skyconditionsHaze': None, 'skyconditionsNorthCaption': '', 'skyconditionsCumulonimbus': None, 'skyconditionsSolarMeasuredAt': '2018-03-15T14:25:00', 'skyconditionsSkyClarity': 'clear', 'skyconditionsMuddy': False, 'skyconditionsUpwardPhotoUrl': 'https://data.globe.gov/system/photos/2018/03/15/566998/original.jpg', 'skyconditionsIsGlobeTrained': False, 'skyconditionsShortLivedContrails': None, 'skyconditionsSmoke': None, 'skyconditionsWestPhotoUrl': 'https://data.globe.gov/system/photos/2018/03/15/566996/original.jpg', 'skyconditionsObservationId': '116-107451-38440834-201803151930', 'skyconditionsSouthCaption': '', 'skyconditionsCloudCoverMid': None, 'skyconditionsUserid': 38440834, 'skyconditionsStratocumulus': None, 'skyconditionsEastCaption': '', 'skyconditionsBlowingSnow': None, 'skyconditionsSouthPhotoUrl': 'https://data.globe.gov/system/photos/2018/03/15/566994/original.jpg', 'skyconditionsMeasurementLongitude': -73.529288, 'skyconditionsIsCitizenScience': True, 'skyconditionsCloudCoverLow': 'scattered', 'skyconditionsNorthPhotoUrl': 'https://data.globe.gov/system/photos/2018/03/15/566993/original.jpg', 'skyconditionsSpreadingContrails': None, 'skyconditionsUpwardCaption': '', 'skyconditionsStratus': None, 'skyconditionsDust': None, 'skyconditionsComments': None, 'skyconditionsDataSource': 'GLOBE Observer App', 'skyconditionsSkyColor': 'light blue', 'skyconditionsOpacityHigh': None, 'skyconditionsSkyConditionId': 2928586, 'skyconditionsNonSpreadingContrails': None, 'skyconditionsDryGround': False, 'skyconditionsHeavySnow': None, 'skyconditionsCloudCover': 'scattered', 'skyconditionsMeasurementElevation': 24.9, 'skyconditionsAltostratus': None, 'skyconditionsSnowIce': True, 'skyconditionsAltocumulus': None, 'skyconditionsOpacityMid': None, 'skyconditionsEastPhotoUrl': 'https://data.globe.gov/system/photos/2018/03/15/566995/original.jpg', 'skyconditionsStandingWater': False, 'skyconditionsSpray': None, 'skyconditionsHeavyRain': None}}, {'protocol': 'sky_conditions', 'measuredDate': '2018-03-15', 'createDate': '2020-01-26T07:41:16', 'updateDate': '2020-01-26T07:41:16', 'publishDate': '2020-03-04T21:47:47', 'organizationId': 17043304, 'organizationName': 'United States of America Citizen Science', 'siteId': 107452, 'siteName': '18TWL168338', 'countryName': None, 'countryCode': None, 'latitude': 40.955173, 'longitude': -74.800377, 'elevation': 179.3, 'pid': 162082771, 'data': {'skyconditionsSand': None, 'skyconditionsDownwardCaption': '', 'skyconditionsFog': None, 'skyconditionsNimbostratus': None, 'skyconditionsOpacityLow': None, 'skyconditionsCloudCoverHigh': 'overcast', 'skyconditionsWestCaption': '', 'skyconditionsDownwardPhotoUrl': 'https://data.globe.gov/system/photos/2018/03/15/567017/original.jpg', 'skyconditionsVolcanicAsh': None, 'skyconditionsMeasurementLatitude': 40.955173, 'skyconditionsLeavesOnTrees': False, 'skyconditionsMeasuredAt': '2018-03-15T19:50:00', 'skyconditionsCirrostratus': True, 'skyconditionsContrailCoverDeprecated': None, 'skyconditionsRainingSnowing': False, 'skyconditionsCirrocumulus': None, 'skyconditionsCumulus': None, 'skyconditionsCirrus': None, 'skyconditionsHaze': None, 'skyconditionsNorthCaption': '', 'skyconditionsCumulonimbus': None, 'skyconditionsSolarMeasuredAt': '2018-03-15T14:40:00', 'skyconditionsSkyClarity': None, 'skyconditionsMuddy': True, 'skyconditionsUpwardPhotoUrl': 'https://data.globe.gov/system/photos/2018/03/15/567015/original.jpg', 'skyconditionsIsGlobeTrained': False, 'skyconditionsShortLivedContrails': None, 'skyconditionsSmoke': None, 'skyconditionsWestPhotoUrl': 'https://data.globe.gov/system/photos/2018/03/15/567014/original.jpg', 'skyconditionsObservationId': '116-107452-38465835-201803151950', 'skyconditionsSouthCaption': '', 'skyconditionsCloudCoverMid': None, 'skyconditionsUserid': 38465835, 'skyconditionsStratocumulus': None, 'skyconditionsEastCaption': '', 'skyconditionsBlowingSnow': None, 'skyconditionsSouthPhotoUrl': 'https://data.globe.gov/system/photos/2018/03/15/567012/original.jpg', 'skyconditionsMeasurementLongitude': -74.800377, 'skyconditionsIsCitizenScience': True, 'skyconditionsCloudCoverLow': None, 'skyconditionsNorthPhotoUrl': 'https://data.globe.gov/system/photos/2018/03/15/567011/original.jpg', 'skyconditionsSpreadingContrails': None, 'skyconditionsUpwardCaption': '', 'skyconditionsStratus': None, 'skyconditionsDust': None, 'skyconditionsComments': None, 'skyconditionsDataSource': 'GLOBE Observer App', 'skyconditionsSkyColor': None, 'skyconditionsOpacityHigh': 'opaque', 'skyconditionsSkyConditionId': 2928590, 'skyconditionsNonSpreadingContrails': None, 'skyconditionsDryGround': False, 'skyconditionsHeavySnow': None, 'skyconditionsCloudCover': 'overcast', 'skyconditionsMeasurementElevation': 179.3, 'skyconditionsAltostratus': None, 'skyconditionsSnowIce': True, 'skyconditionsAltocumulus': None, 'skyconditionsOpacityMid': None, 'skyconditionsEastPhotoUrl': 'https://data.globe.gov/system/photos/2018/03/15/567013/original.jpg', 'skyconditionsStandingWater': True, 'skyconditionsSpray': None, 'skyconditionsHeavyRain': None}}, {'protocol': 'sky_conditions', 'measuredDate': '2018-03-15', 'createDate': '2020-01-26T07:41:16', 'updateDate': '2020-01-26T07:41:16', 'publishDate': '2020-03-04T21:47:47', 'organizationId': 17043304, 'organizationName': 'United States of America Citizen Science', 'siteId': 107847, 'siteName': '18TWL961235', 'countryName': None, 'countryCode': None, 'latitude': 40.856924, 'longitude': -73.859807, 'elevation': 26.5, 'pid': 162082841, 'data': {'skyconditionsSand': None, 'skyconditionsDownwardCaption': '', 'skyconditionsFog': None, 'skyconditionsNimbostratus': None, 'skyconditionsOpacityLow': 'translucent', 'skyconditionsCloudCoverHigh': 'clear', 'skyconditionsWestCaption': '', 'skyconditionsDownwardPhotoUrl': 'rejected', 'skyconditionsVolcanicAsh': None, 'skyconditionsMeasurementLatitude': 40.856924, 'skyconditionsLeavesOnTrees': False, 'skyconditionsMeasuredAt': '2018-03-15T17:57:00', 'skyconditionsCirrostratus': None, 'skyconditionsContrailCoverDeprecated': None, 'skyconditionsRainingSnowing': False, 'skyconditionsCirrocumulus': None, 'skyconditionsCumulus': True, 'skyconditionsCirrus': True, 'skyconditionsHaze': None, 'skyconditionsNorthCaption': '', 'skyconditionsCumulonimbus': None, 'skyconditionsSolarMeasuredAt': '2018-03-15T12:50:00', 'skyconditionsSkyClarity': 'clear', 'skyconditionsMuddy': False, 'skyconditionsUpwardPhotoUrl': None, 'skyconditionsIsGlobeTrained': False, 'skyconditionsShortLivedContrails': None, 'skyconditionsSmoke': None, 'skyconditionsWestPhotoUrl': 'https://data.globe.gov/system/photos/2018/03/15/568795/original.jpg', 'skyconditionsObservationId': '116-107847-38384248-201803151757', 'skyconditionsSouthCaption': '', 'skyconditionsCloudCoverMid': None, 'skyconditionsUserid': 38384248, 'skyconditionsStratocumulus': None, 'skyconditionsEastCaption': '', 'skyconditionsBlowingSnow': None, 'skyconditionsSouthPhotoUrl': 'https://data.globe.gov/system/photos/2018/03/15/568789/original.jpg', 'skyconditionsMeasurementLongitude': -73.859807, 'skyconditionsIsCitizenScience': True, 'skyconditionsCloudCoverLow': 'isolated', 'skyconditionsNorthPhotoUrl': 'https://data.globe.gov/system/photos/2018/03/15/568788/original.jpg', 'skyconditionsSpreadingContrails': None, 'skyconditionsUpwardCaption': None, 'skyconditionsStratus': None, 'skyconditionsDust': None, 'skyconditionsComments': None, 'skyconditionsDataSource': 'GLOBE Observer App', 'skyconditionsSkyColor': 'light blue', 'skyconditionsOpacityHigh': 'translucent', 'skyconditionsSkyConditionId': 2929521, 'skyconditionsNonSpreadingContrails': None, 'skyconditionsDryGround': False, 'skyconditionsHeavySnow': None, 'skyconditionsCloudCover': 'isolated', 'skyconditionsMeasurementElevation': 26.5, 'skyconditionsAltostratus': None, 'skyconditionsSnowIce': False, 'skyconditionsAltocumulus': None, 'skyconditionsOpacityMid': None, 'skyconditionsEastPhotoUrl': 'https://data.globe.gov/system/photos/2018/03/15/568791/original.jpg', 'skyconditionsStandingWater': False, 'skyconditionsSpray': None, 'skyconditionsHeavyRain': None}}]}\n"
     ]
    }
   ],
   "source": [
    "baseURL = \"https://api.globe.gov/search/v1/measurement/protocol/measureddate/point/distance/?protocols=air_temp_dailies&protocols=humidity_noons&protocols=precipitations&protocols=sky_conditions\"\n",
    "\n",
    "for j in range(1,4):\n",
    "    travel_start = weather_params[\"travel_details\"][j][\"traveldates_start\"]\n",
    "    travel_end = weather_params[\"travel_details\"][j][\"traveldates_end\"]  \n",
    "    start_date = f\"2018-{travel_start}\"   ##format for query\n",
    "    end_date = f\"2018-{travel_end}\"   ##format for query\n",
    "    city = weather_params[\"travel_details\"][j][\"city\"]\n",
    "    location = gn.geocode(city) \n",
    "    time.sleep(5)\n",
    "    lat = location.latitude\n",
    "    lon = location.longitude\n",
    "## insert parameters into API query \n",
    "    query = f\"{baseURL}&startdate={start_date}&enddate={end_date}&lat={lat}&lon={lon}&distanceinkm=75&geojson=FALSE&sample=FALSE\"\n",
    "## run API query for each city at a time\n",
    "    response = requests.get(f'{query}').json()\n",
    "## save query response into variable to extract weather info\n",
    "    JSON_ = response[\"results\"]   ##LIST of dicts\n",
    "    j = j+1\n",
    "    print(f\"---------------{city}---------------\")\n",
    "    print(city, travel_start, travel_end, lat, lon, query, response)\n",
    "#     print(city, travel_start, travel_end, lat, lon, query, response['count'])\n"
   ]
  },
  {
   "cell_type": "markdown",
   "metadata": {},
   "source": [
    "Eventually need to define function that  iterate through weather_params dict, pull values for query and run query\n"
   ]
  },
  {
   "cell_type": "code",
   "execution_count": 8,
   "metadata": {},
   "outputs": [
    {
     "name": "stdout",
     "output_type": "stream",
     "text": [
      "Madrid 03-03 03-06 40.4165 -3.70256 https://api.globe.gov/search/v1/measurement/protocol/measureddate/point/distance/?protocols=air_temp_dailies&protocols=humidity_noons&protocols=precipitations&protocols=sky_conditions&startdate=2018-03-03&enddate=2018-03-06&lat=40.4165&lon=-3.70256&distanceinkm=100&geojson=FALSE&sample=FALSE\n",
      "Paris 03-07 03-11 48.85341 2.3488 https://api.globe.gov/search/v1/measurement/protocol/measureddate/point/distance/?protocols=air_temp_dailies&protocols=humidity_noons&protocols=precipitations&protocols=sky_conditions&startdate=2018-03-07&enddate=2018-03-11&lat=48.85341&lon=2.3488&distanceinkm=100&geojson=FALSE&sample=FALSE\n",
      "New York City 03-12 03-15 40.71427 -74.00597 https://api.globe.gov/search/v1/measurement/protocol/measureddate/point/distance/?protocols=air_temp_dailies&protocols=humidity_noons&protocols=precipitations&protocols=sky_conditions&startdate=2018-03-12&enddate=2018-03-15&lat=40.71427&lon=-74.00597&distanceinkm=100&geojson=FALSE&sample=FALSE\n"
     ]
    }
   ],
   "source": [
    "\n",
    "baseURL = \"https://api.globe.gov/search/v1/measurement/protocol/measureddate/point/distance/?protocols=air_temp_dailies&protocols=humidity_noons&protocols=precipitations&protocols=sky_conditions\"\n",
    "\n",
    "#initialize empty lists to append necessary weather data\n",
    "date = []\n",
    "max_temp = []\n",
    "min_temp = []\n",
    "precip = []\n",
    "humidity = []\n",
    "latitude = []\n",
    "longitude= []\n",
    "JSON_list = []\n",
    "\n",
    "# i = 0\n",
    "# j = 1\n",
    "\n",
    "## iterrate through weather_params dict to pull out query parameters\n",
    "## range(1,4) is because there are 3 cities in the dict and the keys are integers (need to start at 1)\n",
    "for j in range(1,4):\n",
    "    travel_start = weather_params[\"travel_details\"][j][\"traveldates_start\"]\n",
    "    travel_end = weather_params[\"travel_details\"][j][\"traveldates_end\"]  \n",
    "    start_date = f\"2018-{travel_start}\"\n",
    "    end_date = f\"2018-{travel_end}\"\n",
    "    city = weather_params[\"travel_details\"][j][\"city\"]\n",
    "    location = gn.geocode(city) \n",
    "    time.sleep(5)\n",
    "    lat = location.latitude\n",
    "    lon = location.longitude\n",
    "## insert parameters into API query \n",
    "    query = f\"{baseURL}&startdate={start_date}&enddate={end_date}&lat={lat}&lon={lon}&distanceinkm=100&geojson=FALSE&sample=FALSE\"\n",
    "## run API query for each city at a time\n",
    "    response = requests.get(f'{query}').json()\n",
    "## save query response into variable to extract weather info\n",
    "    JSON_ = response[\"results\"]   ##LIST of dicts\n",
    "    #     print(JSON_)\n",
    "    j = j + 1\n",
    "\n",
    "    for i in range(len(JSON_)): ## iterate through JSON_ list for each item[i], which are dicts\n",
    "\n",
    "        ## create conditional to pull data from response for city[i]    \n",
    "        if JSON_[i]['protocol'] == 'air_temp_dailies':\n",
    "                    ### Append JSON response values to lists for each output variable\n",
    "            date.append(JSON_[i]['measuredDate'])\n",
    "            max_temp.append(JSON_[i]['data']['airtempdailiesMaximumTemp'])\n",
    "            min_temp.append(JSON_[i]['data']['airtempdailiesMinimumTemp'])\n",
    "            latitude.append(JSON_[i]['latitude'])\n",
    "            longitude.append(JSON_[i]['longitude'])\n",
    "            i = i + 1\n",
    "        elif JSON_[i]['protocol'] == 'humidity_noons':\n",
    "            humidity.append(JSON_[i]['data']['humiditynoonsRelativeHumidityPercent'])\n",
    "#             j=j+1\n",
    "            i = i + 1\n",
    "        elif JSON_[i]['protocol'] == 'precipitations':\n",
    "            precip.append(JSON_[i]['data']['precipitationsOccurrenceType'])\n",
    "#             j=j+1\n",
    "            i = i + 1\n",
    "        else: \n",
    "            date.append(np.nan)\n",
    "            max_temp.append(np.nan)\n",
    "            min_temp.append(np.nan)            \n",
    "            latitude.append(np.nan)\n",
    "            longitude.append(np.nan)\n",
    "            humidity.append(np.nan)            \n",
    "            precip.append(np.nan)\n",
    "            i = i + 1\n",
    "    del JSON_\n",
    "        \n",
    "    print(city, travel_start, travel_end, lat, lon, query)"
   ]
  },
  {
   "cell_type": "code",
   "execution_count": 9,
   "metadata": {},
   "outputs": [
    {
     "name": "stdout",
     "output_type": "stream",
     "text": [
      "45 45 45 45 52\n",
      "date['2018-03-03', '2018-03-04', '2018-03-05', '2018-03-06', nan, nan, nan, '2018-03-12', '2018-03-13', '2018-03-14', '2018-03-15', nan, nan, nan, nan, '2018-03-12', '2018-03-13', '2018-03-14', '2018-03-15', '2018-03-12', '2018-03-13', '2018-03-14', '2018-03-15', nan, '2018-03-12', '2018-03-13', '2018-03-14', '2018-03-15', '2018-03-12', '2018-03-13', '2018-03-14', '2018-03-15', nan, nan, nan, nan, nan, nan, nan, nan, nan, nan, nan, nan, nan]\n",
      "max_temp[8.3, 9.3, 10.4, 6.3, nan, nan, nan, 5.9, 4.9, 1.9, 3.1, nan, nan, nan, nan, 6.9, 6.5, 4.5, 6, 8.1, 6.1, 4.6, 6, nan, 7.4, 5.3, 5.2, 7.9, 5.3, 3.9, 2.1, 3.4, nan, nan, nan, nan, nan, nan, nan, nan, nan, nan, nan, nan, nan]\n",
      "min_temp[3, 2.7, 1.9, 0.9, nan, nan, nan, -3.4, -1.4, -2.7, -3.2, nan, nan, nan, nan, -0.8, 0.4, -0.5, 0, -1.3, 0.1, -1, -0.8, nan, -0.9, -2.2, -1.1, -0.8, -3.6, -1.1, -3.2, -2.2, nan, nan, nan, nan, nan, nan, nan, nan, nan, nan, nan, nan, nan]\n",
      "precip['rain', 'rain', 'rain', 'rain', nan, nan, nan, 'no occurrence', 'no occurrence', 'no occurrence', 'no occurrence', nan, nan, nan, nan, 'no occurrence', 'rain', 'rain', 'no occurrence', 'no occurrence', 'rain', 'rain', 'no occurrence', nan, 'no occurrence', 'rain', 'no occurrence', 'no occurrence', 'no occurrence', 'rain', 'no occurrence', 'no occurrence', nan, nan, nan, nan, nan, nan, nan, nan, nan, nan, nan, nan, nan]\n",
      "humidity[100, 81, 100, 100, nan, nan, nan, 56.9, 100, 62.9, 49.1, 58, nan, 49, nan, 58, nan, nan, 59.4, 100, 51.4, 38.6, 64.9, 100, 51.9, 41.7, nan, 70, 63, 53, 42, 62.1, 78.8, 60.7, 44.6, nan, 71, 53, 58, 67, nan, nan, nan, nan, nan, nan, nan, nan, nan, nan, nan, nan]\n",
      "latitude[40.5836, 40.5836, 40.5836, 40.5836, nan, nan, nan, 41.36518, 41.36518, 41.36518, 41.36518, nan, nan, nan, nan, 40.71407, 40.71407, 40.71407, 40.71407, 40.7712, 40.7712, 40.7712, 40.7712, nan, 40.7808, 40.7808, 40.7808, 40.7808, 40.803491, 40.803491, 40.803491, 40.803491, nan, nan, nan, nan, nan, nan, nan, nan, nan, nan, nan, nan, nan]\n",
      "longitude[-4.0085, -4.0085, -4.0085, -4.0085, nan, nan, nan, -73.75677, -73.75677, -73.75677, -73.75677, nan, nan, nan, nan, -73.06673, -73.06673, -73.06673, -73.06673, -73.7045, -73.7045, -73.7045, -73.7045, nan, -74.602264, -74.602264, -74.602264, -74.602264, -74.449542, -74.449542, -74.449542, -74.449542, nan, nan, nan, nan, nan, nan, nan, nan, nan, nan, nan, nan, nan]\n"
     ]
    }
   ],
   "source": [
    "print(len(date),len(max_temp),len(min_temp),len(precip),len(humidity))\n",
    "# print(len(max_temp))\n",
    "# print(len(min_temp))\n",
    "# print(len(precip))\n",
    "# print(len(humidity))\n",
    "print(f\"date{date}\")\n",
    "print(f\"max_temp{max_temp}\")\n",
    "print(f\"min_temp{min_temp}\")\n",
    "print(f\"precip{precip}\")\n",
    "print(f\"humidity{humidity}\")\n",
    "print(f\"latitude{latitude}\")\n",
    "print(f\"longitude{longitude}\")"
   ]
  },
  {
   "cell_type": "markdown",
   "metadata": {},
   "source": [
    "NOTE: code to test how to extract values from JSON response"
   ]
  },
  {
   "cell_type": "code",
   "execution_count": null,
   "metadata": {},
   "outputs": [],
   "source": [
    "# print(len(JSON_list))\n",
    "# print(type(JSON_list[0]))\n",
    "# pp.pprint(JSON_list[0])\n",
    "pp.pprint(JSON_list)\n",
    "\n",
    "## Figure out length of list holding list of JSON response\n",
    "print(len(JSON_list))   ## length should be number of destinations\n",
    "print(f\"JSON LIST: {type(JSON_list)}\")\n",
    "print(f\"JSON LIST FIRST ITEM: {type(JSON_list[0])}\")\n",
    "\n",
    "## figure out length of list holding dicts of API response weather protocols; weather protocols =3 so ##days*3\n",
    "print(len(JSON_list[0]))     ## length will change according to # days for each city\n",
    "##each protocol response is in its own dict, so 1 day = 3 weather dict items\n",
    "print(f\"JSON LIST ITEM ONE, FIRST DICT: {type(JSON_list[0][0])}\")\n",
    "# pp.pprint(JSON_list[2])"
   ]
  },
  {
   "cell_type": "code",
   "execution_count": null,
   "metadata": {},
   "outputs": [],
   "source": [
    "# ## create a variable to hold JSON_list items (i.e, list of each city's historical weather for the date range)\n",
    "# madrid_list = JSON_list[0]\n",
    "# # city_list\n",
    "\n",
    "# ## create variables to hold each day's first 3 weather results (humidity, precip, airtemp)\n",
    "# madridw_1= madrid_list[0]    ### or JSON_list[0][0]\n",
    "# madridw_2 = madrid_list[1]\n",
    "# madridw_3 = madrid_list[2]\n",
    "\n",
    "# ### create variables to hold each city's second 3 weather results (humidity, precip, airtemp)\n",
    "# madridw_4= madrid_list[0]\n",
    "# madridw_5 = madrid_list[1]\n",
    "# madridw_6 = madrid_list[2] \n",
    "\n",
    "# ###etc. etc. over each day in the date range\n",
    "\n",
    "# # pp.pprint(madridw_1)\n",
    "# # pp.pprint(JSON_list[0][0])\n",
    "# # print(madrid_list)\n",
    "# print(madrid_list[2])\n",
    "# print(len(madrid_list))\n"
   ]
  },
  {
   "cell_type": "code",
   "execution_count": null,
   "metadata": {},
   "outputs": [],
   "source": [
    "## initialize dict to hold all output\n",
    "weather={}\n",
    "\n",
    "\n",
    "#initialize empty lists to append necessary weather data\n",
    "date = []\n",
    "max_temp = []\n",
    "min_temp = []\n",
    "precip = []\n",
    "humidity = []\n",
    "lat = []\n",
    "lon= []\n",
    "\n",
    "\n",
    "## Iterate over madrid_list - first list item of JSON_list (i.e., city1)\n",
    "i = 0\n",
    "j = 0\n",
    "\n",
    "# cityweather_list = JSON_list[i]\n",
    "\n",
    "## iterate through JSON_list \n",
    "for i in range(len(JSON_list)):   ###LIST: len=3 for each city\n",
    "    cityweather_list = JSON_list[i]\n",
    "    \n",
    "    ##iterate through cityweather_list of dict\n",
    "    for j in range(len(cityweather_list)):     ###LIST: len=n for each day in date range\n",
    "        \n",
    "            ## create conditional to pull data from different protocol dicts of cityweather_list\n",
    "        if cityweather_list[j]['protocol'] == 'air_temp_dailies':\n",
    "                ### Append JSON response values to lists for each output variable\n",
    "            date.append(cityweather_list[j]['measuredDate'])\n",
    "            max_temp.append(cityweather_list[j]['data']['airtempdailiesMaximumTemp'])\n",
    "            min_temp.append(cityweather_list[j]['data']['airtempdailiesMinimumTemp'])\n",
    "            lat.append(cityweather_list[j]['latitude'])\n",
    "            lon.append(cityweather_list[j]['longitude'])\n",
    "            j=j+1\n",
    "        elif cityweather_list[j]['protocol'] == 'humidity_noons':\n",
    "            humidity.append(cityweather_list[j]['data']['humiditynoonsRelativeHumidityPercent'])\n",
    "            j=j+1\n",
    "        elif cityweather_list[j]['protocol'] == 'precipitations':\n",
    "            precip.append(cityweather_list[j]['data']['precipitationsOccurrenceType'])\n",
    "            j=j+1\n",
    "        else: \n",
    "            date.append(np.nan)\n",
    "            max_temp.append(np.nan)\n",
    "            min_temp.append(np.nan)            \n",
    "            lat.append(np.nan)\n",
    "            lon.append(np.nan)\n",
    "            humidity.append(np.nan)\n",
    "            precip.append(np.nan)\n",
    "        i=i+1\n",
    "    \n",
    "# # for i in range(len(JSON_list)):   ###LIST: len=3 for each city\n",
    "# cityweather_list = JSON_list[i]\n",
    "# for j in range(len(cityweather_list)):     ###LIST: len=n for each day in date range\n",
    "#         ## create conditional to pull data from different weather dicts of results\n",
    "#     if cityweather_list[j]['protocol'] == 'air_temp_dailies':\n",
    "#             ### Append JSON response values to lists for each output variable\n",
    "#         date.append(cityweather_list[j]['measuredDate'])\n",
    "#         max_temp.append(cityweather_list[j]['data']['airtempdailiesMaximumTemp'])\n",
    "#         min_temp.append(cityweather_list[j]['data']['airtempdailiesMinimumTemp'])\n",
    "#         lat.append(cityweather_list[j]['latitude'])\n",
    "#         lon.append(cityweather_list[j]['longitude'])\n",
    "#         j=j+1\n",
    "#     elif cityweather_list[j]['protocol'] == 'humidity_noons':\n",
    "#         humidity.append(cityweather_list[j]['data']['humiditynoonsRelativeHumidityPercent'])\n",
    "#         j=j+1\n",
    "#     elif cityweather_list[j]['protocol'] == 'precipitations':\n",
    "#         precip.append(cityweather_list[j]['data']['precipitationsOccurrenceType'])\n",
    "#         j=j+1\n",
    "#     else: \n",
    "#         date.append(np.nan)\n",
    "#         max_temp.append(np.nan)\n",
    "#         min_temp.append(np.nan)            \n",
    "#         lat.append(np.nan)\n",
    "#         lon.append(np.nan)\n",
    "#         humidity.append(np.nan)\n",
    "#         precip.append(np.nan)\n",
    "#         j=j+1\n",
    "# j=0\n",
    "# i=i+1\n",
    "    \n",
    "    \n",
    "    \n",
    "\n",
    "print(len(date))\n",
    "print(len(max_temp))\n",
    "print(len(min_temp))\n",
    "print(len(precip))\n",
    "print(len(humidity))\n",
    "print(date)\n",
    "print(max_temp)\n",
    "print(max_temp)\n",
    "print(min_temp)\n",
    "print(precip)\n",
    "print(humidity)\n",
    "print(lat)\n",
    "print(lon)\n"
   ]
  },
  {
   "cell_type": "code",
   "execution_count": null,
   "metadata": {},
   "outputs": [],
   "source": [
    "## Drop NaN values from lists\n",
    "test = [x for x in date if ~np.isnan(x)]\n",
    "# date = \n",
    "# max_temp = \n",
    "# min_temp = \n",
    "# precip =\n",
    "# humidity = \n",
    "# lat = \n",
    "# lon= \n",
    "\n"
   ]
  },
  {
   "cell_type": "code",
   "execution_count": null,
   "metadata": {},
   "outputs": [],
   "source": [
    "##Convert lists into dict (or DF) for output.. ideally append onto weather_params dict at beginning\n"
   ]
  },
  {
   "cell_type": "code",
   "execution_count": null,
   "metadata": {},
   "outputs": [],
   "source": []
  },
  {
   "cell_type": "code",
   "execution_count": null,
   "metadata": {},
   "outputs": [],
   "source": [
    "#convert data to DataFrame\n",
    "# weather_dict = {\"City\": city,\"Latitude\": lats, \"Longitude\": lons, \"Start date\": travel_start,\n",
    "                \n",
    "#                            \"Max Temp\": max_temp,\n",
    "#                            \"Min Temp\": min_temp,\n",
    "#                            \"Precipitation\": precip_type,\n",
    "#                            \"Precipitation Amt\": precip,\n",
    "#                            \"Humidity\": humidity\n",
    "#                }\n",
    " "
   ]
  },
  {
   "cell_type": "code",
   "execution_count": null,
   "metadata": {},
   "outputs": [],
   "source": [
    "#### NOTES: could copy the WeatherPy hw and make annual graphs of weather trend for each city/destination\n",
    "#### line graph of Annual precipitation for Madrid, London, Paris; \n",
    "#### error bar graph (max, min, mean) with annual temperatures of Madrid London Paris;\n",
    "#### bar graph of Annual humidity for Madrid, London Paris"
   ]
  },
  {
   "cell_type": "code",
   "execution_count": null,
   "metadata": {},
   "outputs": [],
   "source": []
  }
 ],
 "metadata": {
  "kernelspec": {
   "display_name": "Python 3",
   "language": "python",
   "name": "python3"
  },
  "language_info": {
   "codemirror_mode": {
    "name": "ipython",
    "version": 3
   },
   "file_extension": ".py",
   "mimetype": "text/x-python",
   "name": "python",
   "nbconvert_exporter": "python",
   "pygments_lexer": "ipython3",
   "version": "3.7.3"
  }
 },
 "nbformat": 4,
 "nbformat_minor": 2
}
