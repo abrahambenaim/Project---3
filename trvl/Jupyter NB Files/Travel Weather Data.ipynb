{
 "cells": [
  {
   "cell_type": "code",
   "execution_count": 1,
   "metadata": {},
   "outputs": [
    {
     "name": "stdout",
     "output_type": "stream",
     "text": [
      "Requirement already satisfied: geonamescache in /anaconda3/lib/python3.7/site-packages (1.1.0)\r\n"
     ]
    }
   ],
   "source": [
    "# !pip install dateparser\n",
    "# !pip install geopy\n",
    "# !pip install geonamescache\n",
    "import numpy as np\n",
    "import pandas as pd\n",
    "from flask import Flask, jsonify\n",
    "import requests\n",
    "import pprint as pp\n",
    "import time\n",
    "\n",
    "from dateparser.search import search_dates\n",
    "import datetime as dt\n",
    "\n",
    "# Weather API\n",
    "import openweathermapy.core as owm\n",
    "from api_keys import api_key\n",
    "\n",
    "# Incorporated citipy to determine city based on latitude and longitude\n",
    "from geopy import geocoders  \n",
    "gn = geocoders.GeoNames(username='moalarcon')\n",
    "import geonamescache\n",
    "from geonamescache.mappers import country\n",
    "\n",
    "# Python SQL toolkit and Object Relational Mapper\n",
    "import sqlalchemy\n",
    "from sqlalchemy.ext.automap import automap_base\n",
    "from sqlalchemy.orm import Session\n",
    "from sqlalchemy import create_engine, func, inspect"
   ]
  },
  {
   "cell_type": "markdown",
   "metadata": {},
   "source": [
    "# CHAMPS Travel Routes API call"
   ]
  },
  {
   "cell_type": "markdown",
   "metadata": {},
   "source": [
    "# API call to GLOBE.gov for historical global weather"
   ]
  },
  {
   "cell_type": "markdown",
   "metadata": {},
   "source": [
    "## Format Kayak response for GLOBE API call parameters"
   ]
  },
  {
   "cell_type": "markdown",
   "metadata": {},
   "source": [
    "##### NOTE: CODE DOESNT WORK\n",
    "Need to debug how to parse the string response from Kayak Scraping because the format of output messes up the parsing command. For the purposes of moving on, ignoring next cell and hard coding Kayak response.\n"
   ]
  },
  {
   "cell_type": "code",
   "execution_count": null,
   "metadata": {},
   "outputs": [],
   "source": [
    "# #### SAMPLE RESPONSE FROM KAYAK: string type\n",
    "# answer = 'Start from MiamiTue Mar 3,\\xa04:45 PM10h 35mMadridStay 3 nightsSat Mar 7,\\xa06:05 PM2h 05mParisStay 5 nightsThu Mar 12,\\xa06:05 PM8h 25mNew YorkStay 4 nightsMon Mar 16,\\xa03:37 PM3h 21mEnd in Miami'\n",
    "\n",
    "# ## from kayak output parse: start, 3 destinations and end (includes city and dates)\n",
    "# ans_parse = answer.split(\",\")\n",
    "# ans_parse\n",
    "\n",
    "# start = ans_parse[0]\n",
    "# dest1 = ans_parse[1]\n",
    "# dest2 = ans_parse[2]\n",
    "# dest3 = ans_parse[3]\n",
    "# end = ans_parse[4]\n",
    "\n",
    "# start, dest1, dest2, dest3, end\n",
    "\n",
    "# ## from variables above, parse city and dates into their own variables \n",
    "# ## (e.g., issue: non-standard formatting; see dest3)\n",
    "\n",
    "# start_city = f\"{start[2]}\"\n",
    "# start_date = f\"{start[3]} {start[4]}\"\n",
    "# start_city\n",
    "# start_date\n",
    "\n",
    "# dest1 = dest1.split()\n",
    "# dest1_city= f\"{dest1[2]}\" \n",
    "# dest1_date= f\"{dest1[5]} {dest1[6]}\"\n",
    "\n",
    "\n",
    "# dest2 = dest2.split()\n",
    "# dest2_city= f\"{dest2[2]}\" \n",
    "# dest2_date= f\"{dest2[5]} {dest2[6]}\"\n",
    "\n",
    "# dest3 = dest3.split()\n",
    "# dest3_city= f\"{dest3[2]} {dest3[3]}\" \n",
    "# dest3_date= f\"{dest3[6]} {dest3[7]}\"\n"
   ]
  },
  {
   "cell_type": "markdown",
   "metadata": {},
   "source": [
    "NOTE: (amongst other things) would need to convert dates from Kayak scraping of dates from strings to datetime object to get format \"MM-DD\"\n",
    "    e.g.: start_date = \"Mar 3\" to \"03-03\" AND end_date = \"Mar 16\" to \"03-16\"\n",
    "Code runs into error \"ValueError: time data 'Mar 3' does not match format '%b-%d'\" because day is not zero-padded\n",
    "    startdate = datetime.strptime(start_date,'%m-%d')\n",
    "    enddate = datetime.strptime(end_date,'%m-%d')\n"
   ]
  },
  {
   "cell_type": "markdown",
   "metadata": {},
   "source": [
    "### Set up API call parameters"
   ]
  },
  {
   "cell_type": "markdown",
   "metadata": {},
   "source": [
    "NOTE: Using manual input parameters because parsing kayak response isn't working"
   ]
  },
  {
   "cell_type": "code",
   "execution_count": 22,
   "metadata": {},
   "outputs": [],
   "source": [
    "## Combine CITIES and DATES for start, end and destinations into nested dictionary\n",
    "\n",
    "weather_params = {\"travel_details\" : \n",
    "                  {1: {\"city\": \"Madrid\", \"traveldates_start\": \"03-03\", \"traveldates_end\": \"03-06\"}, \n",
    "                  2: {\"city\": \"Paris\", \"traveldates_start\": \"03-07\", \"traveldates_end\": \"03-11\"}, \n",
    "                  3: {\"city\": \"New York City\", \"traveldates_start\": \"03-12\", \"traveldates_end\": \"03-15\"}}}\n",
    "\n",
    "cities = [\"Madrid\", \"Paris\", \"New York City\"]"
   ]
  },
  {
   "cell_type": "code",
   "execution_count": 23,
   "metadata": {},
   "outputs": [
    {
     "name": "stdout",
     "output_type": "stream",
     "text": [
      "---------------Madrid---------------\n",
      "Madrid 03-03 03-06 40.4165 -3.70256 https://api.globe.gov/search/v1/measurement/protocol/measureddate/point/distance/?protocols=air_temp_dailies&protocols=humidity_noons&protocols=precipitations&protocols=sky_conditions&startdate=2018-03-03&enddate=2018-03-06&lat=40.4165&lon=-3.70256&distanceinkm=75&geojson=FALSE&sample=FALSE {'count': 12, 'message': 'success', 'results': [{'protocol': 'air_temp_dailies', 'measuredDate': '2018-03-03', 'createDate': '2020-01-23T15:59:43', 'updateDate': '2020-01-23T15:59:43', 'publishDate': '2020-02-03T18:59:33', 'organizationId': 312849, 'organizationName': 'IES Cañada Real', 'siteId': 3931, 'siteName': 'IES CAÑADA REAL:ATM-01', 'countryName': 'Spain', 'countryCode': 'ESP', 'latitude': 40.5836, 'longitude': -4.0085, 'elevation': 725.4, 'pid': 149447103, 'data': {'airtempdailiesSolarMeasuredAt': '2018-03-03T11:59:00', 'airtempdailiesSolarNoonAt': '2018-03-03T12:27:00', 'airtempdailiesCurrentTemp': 8.3, 'airtempdailiesMeasuredAt': '2018-03-03T12:30:00', 'airtempdailiesMaximumTemp': 8.3, 'airtempdailiesMinimumTemp': 3, 'airtempdailiesComments': 'air temp subday rollup', 'airtempdailiesUserid': 0}}, {'protocol': 'humidity_noons', 'measuredDate': '2018-03-03', 'createDate': '2020-01-23T07:16:10', 'updateDate': '2020-01-23T07:16:10', 'publishDate': '2020-01-23T07:16:14', 'organizationId': 312849, 'organizationName': 'IES Cañada Real', 'siteId': 3931, 'siteName': 'IES CAÑADA REAL:ATM-01', 'countryName': 'Spain', 'countryCode': 'ESP', 'latitude': 40.5836, 'longitude': -4.0085, 'elevation': 725.4, 'pid': 142344343, 'data': {'humiditynoonsMeasuredAt': '2018-03-03T12:30:00', 'humiditynoonsComments': '(Phase 4 Email Data Entry)', 'humiditynoonsUserid': 2899953, 'humiditynoonsDewpoint': 8.3, 'humiditynoonsHumidityMethod': 'digital hygrometer', 'humiditynoonsSolarNoonAt': '2018-03-03T12:27:00', 'humiditynoonsRelativeHumidityPercent': 100, 'humiditynoonsSolarMeasuredAt': '2018-03-03T11:59:00'}}, {'protocol': 'precipitations', 'measuredDate': '2018-03-03', 'createDate': '2020-01-23T09:48:45', 'updateDate': '2020-01-23T09:48:45', 'publishDate': '2020-02-03T23:51:39', 'organizationId': 312849, 'organizationName': 'IES Cañada Real', 'siteId': 3931, 'siteName': 'IES CAÑADA REAL:ATM-01', 'countryName': 'Spain', 'countryCode': 'ESP', 'latitude': 40.5836, 'longitude': -4.0085, 'elevation': 725.4, 'pid': 144484313, 'data': {'precipitationsSnowfallAccumulationFlag': None, 'precipitationsLiquidAccumulationFlag': None, 'precipitationsPhMethod': None, 'precipitationsVisSnowDepth': None, 'precipitationsSnowfallAccumulation': None, 'precipitationsPh': None, 'precipitationsMeasuredAt': '2018-03-03T12:27:00', 'precipitationsSolarMeasuredAt': '2018-03-03T11:56:00', 'precipitationsComments': 'precipitation rain sub day rollup', 'precipitationsDaysAccumulated': 1, 'precipitationsUserid': 2899953, 'precipitationsLiquidAccumulation': 9.89, 'precipitationsVisTotalLiquidEquivalent': 9.89, 'precipitationsOccurrenceType': 'rain', 'precipitationsVisRainDepth': 9.89, 'precipitationsSolarNoonAt': '2018-03-03T12:27:00'}}, {'protocol': 'air_temp_dailies', 'measuredDate': '2018-03-04', 'createDate': '2020-01-23T15:59:43', 'updateDate': '2020-01-23T15:59:43', 'publishDate': '2020-02-03T18:59:33', 'organizationId': 312849, 'organizationName': 'IES Cañada Real', 'siteId': 3931, 'siteName': 'IES CAÑADA REAL:ATM-01', 'countryName': 'Spain', 'countryCode': 'ESP', 'latitude': 40.5836, 'longitude': -4.0085, 'elevation': 725.4, 'pid': 149447104, 'data': {'airtempdailiesSolarMeasuredAt': '2018-03-04T12:00:00', 'airtempdailiesSolarNoonAt': '2018-03-04T12:27:00', 'airtempdailiesCurrentTemp': 9.8, 'airtempdailiesMeasuredAt': '2018-03-04T12:30:00', 'airtempdailiesMaximumTemp': 9.3, 'airtempdailiesMinimumTemp': 2.7, 'airtempdailiesComments': 'air temp subday rollup', 'airtempdailiesUserid': 0}}, {'protocol': 'humidity_noons', 'measuredDate': '2018-03-04', 'createDate': '2020-01-23T07:16:10', 'updateDate': '2020-01-23T07:16:10', 'publishDate': '2020-01-23T07:16:14', 'organizationId': 312849, 'organizationName': 'IES Cañada Real', 'siteId': 3931, 'siteName': 'IES CAÑADA REAL:ATM-01', 'countryName': 'Spain', 'countryCode': 'ESP', 'latitude': 40.5836, 'longitude': -4.0085, 'elevation': 725.4, 'pid': 142344344, 'data': {'humiditynoonsMeasuredAt': '2018-03-04T12:30:00', 'humiditynoonsComments': '(Phase 4 Email Data Entry)', 'humiditynoonsUserid': 2899953, 'humiditynoonsDewpoint': 6.7, 'humiditynoonsHumidityMethod': 'digital hygrometer', 'humiditynoonsSolarNoonAt': '2018-03-04T12:27:00', 'humiditynoonsRelativeHumidityPercent': 81, 'humiditynoonsSolarMeasuredAt': '2018-03-04T12:00:00'}}, {'protocol': 'precipitations', 'measuredDate': '2018-03-04', 'createDate': '2020-01-23T09:48:45', 'updateDate': '2020-01-23T09:48:45', 'publishDate': '2020-02-03T23:51:39', 'organizationId': 312849, 'organizationName': 'IES Cañada Real', 'siteId': 3931, 'siteName': 'IES CAÑADA REAL:ATM-01', 'countryName': 'Spain', 'countryCode': 'ESP', 'latitude': 40.5836, 'longitude': -4.0085, 'elevation': 725.4, 'pid': 144484314, 'data': {'precipitationsSnowfallAccumulationFlag': None, 'precipitationsLiquidAccumulationFlag': None, 'precipitationsPhMethod': None, 'precipitationsVisSnowDepth': None, 'precipitationsSnowfallAccumulation': None, 'precipitationsPh': None, 'precipitationsMeasuredAt': '2018-03-04T12:27:00', 'precipitationsSolarMeasuredAt': '2018-03-04T11:57:00', 'precipitationsComments': 'precipitation rain sub day rollup', 'precipitationsDaysAccumulated': 1, 'precipitationsUserid': 2899953, 'precipitationsLiquidAccumulation': 18, 'precipitationsVisTotalLiquidEquivalent': 18, 'precipitationsOccurrenceType': 'rain', 'precipitationsVisRainDepth': 18, 'precipitationsSolarNoonAt': '2018-03-04T12:27:00'}}, {'protocol': 'humidity_noons', 'measuredDate': '2018-03-05', 'createDate': '2020-01-23T07:16:10', 'updateDate': '2020-01-23T07:16:10', 'publishDate': '2020-01-23T07:16:14', 'organizationId': 312849, 'organizationName': 'IES Cañada Real', 'siteId': 3931, 'siteName': 'IES CAÑADA REAL:ATM-01', 'countryName': 'Spain', 'countryCode': 'ESP', 'latitude': 40.5836, 'longitude': -4.0085, 'elevation': 725.4, 'pid': 142344345, 'data': {'humiditynoonsMeasuredAt': '2018-03-05T12:30:00', 'humiditynoonsComments': '(Phase 4 Email Data Entry)', 'humiditynoonsUserid': 2899953, 'humiditynoonsDewpoint': 3.5, 'humiditynoonsHumidityMethod': 'digital hygrometer', 'humiditynoonsSolarNoonAt': '2018-03-05T12:27:00', 'humiditynoonsRelativeHumidityPercent': 100, 'humiditynoonsSolarMeasuredAt': '2018-03-05T12:00:00'}}, {'protocol': 'precipitations', 'measuredDate': '2018-03-05', 'createDate': '2020-01-23T09:48:45', 'updateDate': '2020-01-23T09:48:45', 'publishDate': '2020-02-03T23:51:39', 'organizationId': 312849, 'organizationName': 'IES Cañada Real', 'siteId': 3931, 'siteName': 'IES CAÑADA REAL:ATM-01', 'countryName': 'Spain', 'countryCode': 'ESP', 'latitude': 40.5836, 'longitude': -4.0085, 'elevation': 725.4, 'pid': 144484315, 'data': {'precipitationsSnowfallAccumulationFlag': None, 'precipitationsLiquidAccumulationFlag': None, 'precipitationsPhMethod': None, 'precipitationsVisSnowDepth': None, 'precipitationsSnowfallAccumulation': None, 'precipitationsPh': None, 'precipitationsMeasuredAt': '2018-03-05T12:27:00', 'precipitationsSolarMeasuredAt': '2018-03-05T11:57:00', 'precipitationsComments': 'precipitation rain sub day rollup', 'precipitationsDaysAccumulated': 1, 'precipitationsUserid': 2899953, 'precipitationsLiquidAccumulation': 12.4, 'precipitationsVisTotalLiquidEquivalent': 12.4, 'precipitationsOccurrenceType': 'rain', 'precipitationsVisRainDepth': 12.4, 'precipitationsSolarNoonAt': '2018-03-05T12:27:00'}}, {'protocol': 'air_temp_dailies', 'measuredDate': '2018-03-05', 'createDate': '2020-01-23T15:59:43', 'updateDate': '2020-01-23T15:59:43', 'publishDate': '2020-02-03T18:59:33', 'organizationId': 312849, 'organizationName': 'IES Cañada Real', 'siteId': 3931, 'siteName': 'IES CAÑADA REAL:ATM-01', 'countryName': 'Spain', 'countryCode': 'ESP', 'latitude': 40.5836, 'longitude': -4.0085, 'elevation': 725.4, 'pid': 149447105, 'data': {'airtempdailiesSolarMeasuredAt': '2018-03-05T12:00:00', 'airtempdailiesSolarNoonAt': '2018-03-05T12:27:00', 'airtempdailiesCurrentTemp': 3.5, 'airtempdailiesMeasuredAt': '2018-03-05T12:30:00', 'airtempdailiesMaximumTemp': 10.4, 'airtempdailiesMinimumTemp': 1.9, 'airtempdailiesComments': 'air temp subday rollup', 'airtempdailiesUserid': 0}}, {'protocol': 'air_temp_dailies', 'measuredDate': '2018-03-06', 'createDate': '2020-01-23T15:59:43', 'updateDate': '2020-01-23T15:59:43', 'publishDate': '2020-02-03T18:59:33', 'organizationId': 312849, 'organizationName': 'IES Cañada Real', 'siteId': 3931, 'siteName': 'IES CAÑADA REAL:ATM-01', 'countryName': 'Spain', 'countryCode': 'ESP', 'latitude': 40.5836, 'longitude': -4.0085, 'elevation': 725.4, 'pid': 149447106, 'data': {'airtempdailiesSolarMeasuredAt': '2018-03-06T12:00:00', 'airtempdailiesSolarNoonAt': '2018-03-06T12:27:00', 'airtempdailiesCurrentTemp': 5.5, 'airtempdailiesMeasuredAt': '2018-03-06T12:30:00', 'airtempdailiesMaximumTemp': 6.3, 'airtempdailiesMinimumTemp': 0.9, 'airtempdailiesComments': 'air temp subday rollup', 'airtempdailiesUserid': 0}}, {'protocol': 'precipitations', 'measuredDate': '2018-03-06', 'createDate': '2020-01-23T09:48:45', 'updateDate': '2020-01-23T09:48:45', 'publishDate': '2020-02-03T23:51:39', 'organizationId': 312849, 'organizationName': 'IES Cañada Real', 'siteId': 3931, 'siteName': 'IES CAÑADA REAL:ATM-01', 'countryName': 'Spain', 'countryCode': 'ESP', 'latitude': 40.5836, 'longitude': -4.0085, 'elevation': 725.4, 'pid': 144484316, 'data': {'precipitationsSnowfallAccumulationFlag': None, 'precipitationsLiquidAccumulationFlag': None, 'precipitationsPhMethod': None, 'precipitationsVisSnowDepth': None, 'precipitationsSnowfallAccumulation': None, 'precipitationsPh': None, 'precipitationsMeasuredAt': '2018-03-06T12:27:00', 'precipitationsSolarMeasuredAt': '2018-03-06T11:57:00', 'precipitationsComments': 'precipitation rain sub day rollup', 'precipitationsDaysAccumulated': 1, 'precipitationsUserid': 2899953, 'precipitationsLiquidAccumulation': 2.53, 'precipitationsVisTotalLiquidEquivalent': 2.53, 'precipitationsOccurrenceType': 'rain', 'precipitationsVisRainDepth': 2.53, 'precipitationsSolarNoonAt': '2018-03-06T12:27:00'}}, {'protocol': 'humidity_noons', 'measuredDate': '2018-03-06', 'createDate': '2020-01-23T07:16:10', 'updateDate': '2020-01-23T07:16:10', 'publishDate': '2020-01-23T07:16:14', 'organizationId': 312849, 'organizationName': 'IES Cañada Real', 'siteId': 3931, 'siteName': 'IES CAÑADA REAL:ATM-01', 'countryName': 'Spain', 'countryCode': 'ESP', 'latitude': 40.5836, 'longitude': -4.0085, 'elevation': 725.4, 'pid': 142344346, 'data': {'humiditynoonsMeasuredAt': '2018-03-06T12:30:00', 'humiditynoonsComments': '(Phase 4 Email Data Entry)', 'humiditynoonsUserid': 2899953, 'humiditynoonsDewpoint': 5.5, 'humiditynoonsHumidityMethod': 'digital hygrometer', 'humiditynoonsSolarNoonAt': '2018-03-06T12:27:00', 'humiditynoonsRelativeHumidityPercent': 100, 'humiditynoonsSolarMeasuredAt': '2018-03-06T12:00:00'}}]}\n"
     ]
    },
    {
     "name": "stdout",
     "output_type": "stream",
     "text": [
      "---------------Paris---------------\n",
      "Paris 03-07 03-11 48.85341 2.3488 https://api.globe.gov/search/v1/measurement/protocol/measureddate/point/distance/?protocols=air_temp_dailies&protocols=humidity_noons&protocols=precipitations&protocols=sky_conditions&startdate=2018-03-07&enddate=2018-03-11&lat=48.85341&lon=2.3488&distanceinkm=75&geojson=FALSE&sample=FALSE {'count': 0, 'message': 'success', 'results': []}\n"
     ]
    },
    {
     "ename": "GeocoderTimedOut",
     "evalue": "Service timed out",
     "output_type": "error",
     "traceback": [
      "\u001b[0;31m---------------------------------------------------------------------------\u001b[0m",
      "\u001b[0;31mtimeout\u001b[0m                                   Traceback (most recent call last)",
      "\u001b[0;32m//anaconda3/lib/python3.7/site-packages/geopy/geocoders/base.py\u001b[0m in \u001b[0;36m_call_geocoder\u001b[0;34m(self, url, timeout, raw, requester, deserializer, **kwargs)\u001b[0m\n\u001b[1;32m    354\u001b[0m         \u001b[0;32mtry\u001b[0m\u001b[0;34m:\u001b[0m\u001b[0;34m\u001b[0m\u001b[0;34m\u001b[0m\u001b[0m\n\u001b[0;32m--> 355\u001b[0;31m             \u001b[0mpage\u001b[0m \u001b[0;34m=\u001b[0m \u001b[0mrequester\u001b[0m\u001b[0;34m(\u001b[0m\u001b[0mreq\u001b[0m\u001b[0;34m,\u001b[0m \u001b[0mtimeout\u001b[0m\u001b[0;34m=\u001b[0m\u001b[0mtimeout\u001b[0m\u001b[0;34m,\u001b[0m \u001b[0;34m**\u001b[0m\u001b[0mkwargs\u001b[0m\u001b[0;34m)\u001b[0m\u001b[0;34m\u001b[0m\u001b[0;34m\u001b[0m\u001b[0m\n\u001b[0m\u001b[1;32m    356\u001b[0m         \u001b[0;32mexcept\u001b[0m \u001b[0mException\u001b[0m \u001b[0;32mas\u001b[0m \u001b[0merror\u001b[0m\u001b[0;34m:\u001b[0m\u001b[0;34m\u001b[0m\u001b[0;34m\u001b[0m\u001b[0m\n",
      "\u001b[0;32m//anaconda3/lib/python3.7/urllib/request.py\u001b[0m in \u001b[0;36mopen\u001b[0;34m(self, fullurl, data, timeout)\u001b[0m\n\u001b[1;32m    524\u001b[0m \u001b[0;34m\u001b[0m\u001b[0m\n\u001b[0;32m--> 525\u001b[0;31m         \u001b[0mresponse\u001b[0m \u001b[0;34m=\u001b[0m \u001b[0mself\u001b[0m\u001b[0;34m.\u001b[0m\u001b[0m_open\u001b[0m\u001b[0;34m(\u001b[0m\u001b[0mreq\u001b[0m\u001b[0;34m,\u001b[0m \u001b[0mdata\u001b[0m\u001b[0;34m)\u001b[0m\u001b[0;34m\u001b[0m\u001b[0;34m\u001b[0m\u001b[0m\n\u001b[0m\u001b[1;32m    526\u001b[0m \u001b[0;34m\u001b[0m\u001b[0m\n",
      "\u001b[0;32m//anaconda3/lib/python3.7/urllib/request.py\u001b[0m in \u001b[0;36m_open\u001b[0;34m(self, req, data)\u001b[0m\n\u001b[1;32m    542\u001b[0m         result = self._call_chain(self.handle_open, protocol, protocol +\n\u001b[0;32m--> 543\u001b[0;31m                                   '_open', req)\n\u001b[0m\u001b[1;32m    544\u001b[0m         \u001b[0;32mif\u001b[0m \u001b[0mresult\u001b[0m\u001b[0;34m:\u001b[0m\u001b[0;34m\u001b[0m\u001b[0;34m\u001b[0m\u001b[0m\n",
      "\u001b[0;32m//anaconda3/lib/python3.7/urllib/request.py\u001b[0m in \u001b[0;36m_call_chain\u001b[0;34m(self, chain, kind, meth_name, *args)\u001b[0m\n\u001b[1;32m    502\u001b[0m             \u001b[0mfunc\u001b[0m \u001b[0;34m=\u001b[0m \u001b[0mgetattr\u001b[0m\u001b[0;34m(\u001b[0m\u001b[0mhandler\u001b[0m\u001b[0;34m,\u001b[0m \u001b[0mmeth_name\u001b[0m\u001b[0;34m)\u001b[0m\u001b[0;34m\u001b[0m\u001b[0;34m\u001b[0m\u001b[0m\n\u001b[0;32m--> 503\u001b[0;31m             \u001b[0mresult\u001b[0m \u001b[0;34m=\u001b[0m \u001b[0mfunc\u001b[0m\u001b[0;34m(\u001b[0m\u001b[0;34m*\u001b[0m\u001b[0margs\u001b[0m\u001b[0;34m)\u001b[0m\u001b[0;34m\u001b[0m\u001b[0;34m\u001b[0m\u001b[0m\n\u001b[0m\u001b[1;32m    504\u001b[0m             \u001b[0;32mif\u001b[0m \u001b[0mresult\u001b[0m \u001b[0;32mis\u001b[0m \u001b[0;32mnot\u001b[0m \u001b[0;32mNone\u001b[0m\u001b[0;34m:\u001b[0m\u001b[0;34m\u001b[0m\u001b[0;34m\u001b[0m\u001b[0m\n",
      "\u001b[0;32m//anaconda3/lib/python3.7/urllib/request.py\u001b[0m in \u001b[0;36mhttp_open\u001b[0;34m(self, req)\u001b[0m\n\u001b[1;32m   1344\u001b[0m     \u001b[0;32mdef\u001b[0m \u001b[0mhttp_open\u001b[0m\u001b[0;34m(\u001b[0m\u001b[0mself\u001b[0m\u001b[0;34m,\u001b[0m \u001b[0mreq\u001b[0m\u001b[0;34m)\u001b[0m\u001b[0;34m:\u001b[0m\u001b[0;34m\u001b[0m\u001b[0;34m\u001b[0m\u001b[0m\n\u001b[0;32m-> 1345\u001b[0;31m         \u001b[0;32mreturn\u001b[0m \u001b[0mself\u001b[0m\u001b[0;34m.\u001b[0m\u001b[0mdo_open\u001b[0m\u001b[0;34m(\u001b[0m\u001b[0mhttp\u001b[0m\u001b[0;34m.\u001b[0m\u001b[0mclient\u001b[0m\u001b[0;34m.\u001b[0m\u001b[0mHTTPConnection\u001b[0m\u001b[0;34m,\u001b[0m \u001b[0mreq\u001b[0m\u001b[0;34m)\u001b[0m\u001b[0;34m\u001b[0m\u001b[0;34m\u001b[0m\u001b[0m\n\u001b[0m\u001b[1;32m   1346\u001b[0m \u001b[0;34m\u001b[0m\u001b[0m\n",
      "\u001b[0;32m//anaconda3/lib/python3.7/urllib/request.py\u001b[0m in \u001b[0;36mdo_open\u001b[0;34m(self, http_class, req, **http_conn_args)\u001b[0m\n\u001b[1;32m   1319\u001b[0m                 \u001b[0;32mraise\u001b[0m \u001b[0mURLError\u001b[0m\u001b[0;34m(\u001b[0m\u001b[0merr\u001b[0m\u001b[0;34m)\u001b[0m\u001b[0;34m\u001b[0m\u001b[0;34m\u001b[0m\u001b[0m\n\u001b[0;32m-> 1320\u001b[0;31m             \u001b[0mr\u001b[0m \u001b[0;34m=\u001b[0m \u001b[0mh\u001b[0m\u001b[0;34m.\u001b[0m\u001b[0mgetresponse\u001b[0m\u001b[0;34m(\u001b[0m\u001b[0;34m)\u001b[0m\u001b[0;34m\u001b[0m\u001b[0;34m\u001b[0m\u001b[0m\n\u001b[0m\u001b[1;32m   1321\u001b[0m         \u001b[0;32mexcept\u001b[0m\u001b[0;34m:\u001b[0m\u001b[0;34m\u001b[0m\u001b[0;34m\u001b[0m\u001b[0m\n",
      "\u001b[0;32m//anaconda3/lib/python3.7/http/client.py\u001b[0m in \u001b[0;36mgetresponse\u001b[0;34m(self)\u001b[0m\n\u001b[1;32m   1320\u001b[0m             \u001b[0;32mtry\u001b[0m\u001b[0;34m:\u001b[0m\u001b[0;34m\u001b[0m\u001b[0;34m\u001b[0m\u001b[0m\n\u001b[0;32m-> 1321\u001b[0;31m                 \u001b[0mresponse\u001b[0m\u001b[0;34m.\u001b[0m\u001b[0mbegin\u001b[0m\u001b[0;34m(\u001b[0m\u001b[0;34m)\u001b[0m\u001b[0;34m\u001b[0m\u001b[0;34m\u001b[0m\u001b[0m\n\u001b[0m\u001b[1;32m   1322\u001b[0m             \u001b[0;32mexcept\u001b[0m \u001b[0mConnectionError\u001b[0m\u001b[0;34m:\u001b[0m\u001b[0;34m\u001b[0m\u001b[0;34m\u001b[0m\u001b[0m\n",
      "\u001b[0;32m//anaconda3/lib/python3.7/http/client.py\u001b[0m in \u001b[0;36mbegin\u001b[0;34m(self)\u001b[0m\n\u001b[1;32m    295\u001b[0m         \u001b[0;32mwhile\u001b[0m \u001b[0;32mTrue\u001b[0m\u001b[0;34m:\u001b[0m\u001b[0;34m\u001b[0m\u001b[0;34m\u001b[0m\u001b[0m\n\u001b[0;32m--> 296\u001b[0;31m             \u001b[0mversion\u001b[0m\u001b[0;34m,\u001b[0m \u001b[0mstatus\u001b[0m\u001b[0;34m,\u001b[0m \u001b[0mreason\u001b[0m \u001b[0;34m=\u001b[0m \u001b[0mself\u001b[0m\u001b[0;34m.\u001b[0m\u001b[0m_read_status\u001b[0m\u001b[0;34m(\u001b[0m\u001b[0;34m)\u001b[0m\u001b[0;34m\u001b[0m\u001b[0;34m\u001b[0m\u001b[0m\n\u001b[0m\u001b[1;32m    297\u001b[0m             \u001b[0;32mif\u001b[0m \u001b[0mstatus\u001b[0m \u001b[0;34m!=\u001b[0m \u001b[0mCONTINUE\u001b[0m\u001b[0;34m:\u001b[0m\u001b[0;34m\u001b[0m\u001b[0;34m\u001b[0m\u001b[0m\n",
      "\u001b[0;32m//anaconda3/lib/python3.7/http/client.py\u001b[0m in \u001b[0;36m_read_status\u001b[0;34m(self)\u001b[0m\n\u001b[1;32m    256\u001b[0m     \u001b[0;32mdef\u001b[0m \u001b[0m_read_status\u001b[0m\u001b[0;34m(\u001b[0m\u001b[0mself\u001b[0m\u001b[0;34m)\u001b[0m\u001b[0;34m:\u001b[0m\u001b[0;34m\u001b[0m\u001b[0;34m\u001b[0m\u001b[0m\n\u001b[0;32m--> 257\u001b[0;31m         \u001b[0mline\u001b[0m \u001b[0;34m=\u001b[0m \u001b[0mstr\u001b[0m\u001b[0;34m(\u001b[0m\u001b[0mself\u001b[0m\u001b[0;34m.\u001b[0m\u001b[0mfp\u001b[0m\u001b[0;34m.\u001b[0m\u001b[0mreadline\u001b[0m\u001b[0;34m(\u001b[0m\u001b[0m_MAXLINE\u001b[0m \u001b[0;34m+\u001b[0m \u001b[0;36m1\u001b[0m\u001b[0;34m)\u001b[0m\u001b[0;34m,\u001b[0m \u001b[0;34m\"iso-8859-1\"\u001b[0m\u001b[0;34m)\u001b[0m\u001b[0;34m\u001b[0m\u001b[0;34m\u001b[0m\u001b[0m\n\u001b[0m\u001b[1;32m    258\u001b[0m         \u001b[0;32mif\u001b[0m \u001b[0mlen\u001b[0m\u001b[0;34m(\u001b[0m\u001b[0mline\u001b[0m\u001b[0;34m)\u001b[0m \u001b[0;34m>\u001b[0m \u001b[0m_MAXLINE\u001b[0m\u001b[0;34m:\u001b[0m\u001b[0;34m\u001b[0m\u001b[0;34m\u001b[0m\u001b[0m\n",
      "\u001b[0;32m//anaconda3/lib/python3.7/socket.py\u001b[0m in \u001b[0;36mreadinto\u001b[0;34m(self, b)\u001b[0m\n\u001b[1;32m    588\u001b[0m             \u001b[0;32mtry\u001b[0m\u001b[0;34m:\u001b[0m\u001b[0;34m\u001b[0m\u001b[0;34m\u001b[0m\u001b[0m\n\u001b[0;32m--> 589\u001b[0;31m                 \u001b[0;32mreturn\u001b[0m \u001b[0mself\u001b[0m\u001b[0;34m.\u001b[0m\u001b[0m_sock\u001b[0m\u001b[0;34m.\u001b[0m\u001b[0mrecv_into\u001b[0m\u001b[0;34m(\u001b[0m\u001b[0mb\u001b[0m\u001b[0;34m)\u001b[0m\u001b[0;34m\u001b[0m\u001b[0;34m\u001b[0m\u001b[0m\n\u001b[0m\u001b[1;32m    590\u001b[0m             \u001b[0;32mexcept\u001b[0m \u001b[0mtimeout\u001b[0m\u001b[0;34m:\u001b[0m\u001b[0;34m\u001b[0m\u001b[0;34m\u001b[0m\u001b[0m\n",
      "\u001b[0;31mtimeout\u001b[0m: timed out",
      "\nDuring handling of the above exception, another exception occurred:\n",
      "\u001b[0;31mGeocoderTimedOut\u001b[0m                          Traceback (most recent call last)",
      "\u001b[0;32m<ipython-input-23-820f61e2dd92>\u001b[0m in \u001b[0;36m<module>\u001b[0;34m\u001b[0m\n\u001b[1;32m      7\u001b[0m     \u001b[0mend_date\u001b[0m \u001b[0;34m=\u001b[0m \u001b[0;34mf\"2018-{travel_end}\"\u001b[0m   \u001b[0;31m##format for query\u001b[0m\u001b[0;34m\u001b[0m\u001b[0;34m\u001b[0m\u001b[0m\n\u001b[1;32m      8\u001b[0m     \u001b[0mcity\u001b[0m \u001b[0;34m=\u001b[0m \u001b[0mweather_params\u001b[0m\u001b[0;34m[\u001b[0m\u001b[0;34m\"travel_details\"\u001b[0m\u001b[0;34m]\u001b[0m\u001b[0;34m[\u001b[0m\u001b[0mj\u001b[0m\u001b[0;34m]\u001b[0m\u001b[0;34m[\u001b[0m\u001b[0;34m\"city\"\u001b[0m\u001b[0;34m]\u001b[0m\u001b[0;34m\u001b[0m\u001b[0;34m\u001b[0m\u001b[0m\n\u001b[0;32m----> 9\u001b[0;31m     \u001b[0mlocation\u001b[0m \u001b[0;34m=\u001b[0m \u001b[0mgn\u001b[0m\u001b[0;34m.\u001b[0m\u001b[0mgeocode\u001b[0m\u001b[0;34m(\u001b[0m\u001b[0mcity\u001b[0m\u001b[0;34m)\u001b[0m\u001b[0;34m\u001b[0m\u001b[0;34m\u001b[0m\u001b[0m\n\u001b[0m\u001b[1;32m     10\u001b[0m     \u001b[0mtime\u001b[0m\u001b[0;34m.\u001b[0m\u001b[0msleep\u001b[0m\u001b[0;34m(\u001b[0m\u001b[0;36m5\u001b[0m\u001b[0;34m)\u001b[0m\u001b[0;34m\u001b[0m\u001b[0;34m\u001b[0m\u001b[0m\n\u001b[1;32m     11\u001b[0m     \u001b[0mlat\u001b[0m \u001b[0;34m=\u001b[0m \u001b[0mlocation\u001b[0m\u001b[0;34m.\u001b[0m\u001b[0mlatitude\u001b[0m\u001b[0;34m\u001b[0m\u001b[0;34m\u001b[0m\u001b[0m\n",
      "\u001b[0;32m//anaconda3/lib/python3.7/site-packages/geopy/geocoders/geonames.py\u001b[0m in \u001b[0;36mgeocode\u001b[0;34m(self, query, exactly_one, timeout, country, country_bias)\u001b[0m\n\u001b[1;32m    189\u001b[0m         \u001b[0mlogger\u001b[0m\u001b[0;34m.\u001b[0m\u001b[0mdebug\u001b[0m\u001b[0;34m(\u001b[0m\u001b[0;34m\"%s.geocode: %s\"\u001b[0m\u001b[0;34m,\u001b[0m \u001b[0mself\u001b[0m\u001b[0;34m.\u001b[0m\u001b[0m__class__\u001b[0m\u001b[0;34m.\u001b[0m\u001b[0m__name__\u001b[0m\u001b[0;34m,\u001b[0m \u001b[0murl\u001b[0m\u001b[0;34m)\u001b[0m\u001b[0;34m\u001b[0m\u001b[0;34m\u001b[0m\u001b[0m\n\u001b[1;32m    190\u001b[0m         return self._parse_json(\n\u001b[0;32m--> 191\u001b[0;31m             \u001b[0mself\u001b[0m\u001b[0;34m.\u001b[0m\u001b[0m_call_geocoder\u001b[0m\u001b[0;34m(\u001b[0m\u001b[0murl\u001b[0m\u001b[0;34m,\u001b[0m \u001b[0mtimeout\u001b[0m\u001b[0;34m=\u001b[0m\u001b[0mtimeout\u001b[0m\u001b[0;34m)\u001b[0m\u001b[0;34m,\u001b[0m\u001b[0;34m\u001b[0m\u001b[0;34m\u001b[0m\u001b[0m\n\u001b[0m\u001b[1;32m    192\u001b[0m             \u001b[0mexactly_one\u001b[0m\u001b[0;34m,\u001b[0m\u001b[0;34m\u001b[0m\u001b[0;34m\u001b[0m\u001b[0m\n\u001b[1;32m    193\u001b[0m         )\n",
      "\u001b[0;32m//anaconda3/lib/python3.7/site-packages/geopy/geocoders/base.py\u001b[0m in \u001b[0;36m_call_geocoder\u001b[0;34m(self, url, timeout, raw, requester, deserializer, **kwargs)\u001b[0m\n\u001b[1;32m    380\u001b[0m                     \u001b[0;32mraise\u001b[0m \u001b[0mGeocoderUnavailable\u001b[0m\u001b[0;34m(\u001b[0m\u001b[0;34m'Service not available'\u001b[0m\u001b[0;34m)\u001b[0m\u001b[0;34m\u001b[0m\u001b[0;34m\u001b[0m\u001b[0m\n\u001b[1;32m    381\u001b[0m             \u001b[0;32melif\u001b[0m \u001b[0misinstance\u001b[0m\u001b[0;34m(\u001b[0m\u001b[0merror\u001b[0m\u001b[0;34m,\u001b[0m \u001b[0mSocketTimeout\u001b[0m\u001b[0;34m)\u001b[0m\u001b[0;34m:\u001b[0m\u001b[0;34m\u001b[0m\u001b[0;34m\u001b[0m\u001b[0m\n\u001b[0;32m--> 382\u001b[0;31m                 \u001b[0;32mraise\u001b[0m \u001b[0mGeocoderTimedOut\u001b[0m\u001b[0;34m(\u001b[0m\u001b[0;34m'Service timed out'\u001b[0m\u001b[0;34m)\u001b[0m\u001b[0;34m\u001b[0m\u001b[0;34m\u001b[0m\u001b[0m\n\u001b[0m\u001b[1;32m    383\u001b[0m             \u001b[0;32melif\u001b[0m \u001b[0misinstance\u001b[0m\u001b[0;34m(\u001b[0m\u001b[0merror\u001b[0m\u001b[0;34m,\u001b[0m \u001b[0mSSLError\u001b[0m\u001b[0;34m)\u001b[0m\u001b[0;34m:\u001b[0m\u001b[0;34m\u001b[0m\u001b[0;34m\u001b[0m\u001b[0m\n\u001b[1;32m    384\u001b[0m                 \u001b[0;32mif\u001b[0m \u001b[0;34m\"timed out\"\u001b[0m \u001b[0;32min\u001b[0m \u001b[0mmessage\u001b[0m\u001b[0;34m:\u001b[0m\u001b[0;34m\u001b[0m\u001b[0;34m\u001b[0m\u001b[0m\n",
      "\u001b[0;31mGeocoderTimedOut\u001b[0m: Service timed out"
     ]
    }
   ],
   "source": [
    "baseURL = \"https://api.globe.gov/search/v1/measurement/protocol/measureddate/point/distance/?protocols=air_temp_dailies&protocols=humidity_noons&protocols=precipitations&protocols=sky_conditions\"\n",
    "\n",
    "for j in range(1,4):\n",
    "    travel_start = weather_params[\"travel_details\"][j][\"traveldates_start\"]\n",
    "    travel_end = weather_params[\"travel_details\"][j][\"traveldates_end\"]  \n",
    "    start_date = f\"2018-{travel_start}\"   ##format for query\n",
    "    end_date = f\"2018-{travel_end}\"   ##format for query\n",
    "    city = weather_params[\"travel_details\"][j][\"city\"]\n",
    "    location = gn.geocode(city) \n",
    "    time.sleep(5)\n",
    "    lat = location.latitude\n",
    "    lon = location.longitude\n",
    "#     print(city, travel_start, travel_end, lat, lon)\n",
    "    query = f\"{baseURL}&startdate={start_date}&enddate={end_date}&lat={lat}&lon={lon}&distanceinkm=75&geojson=FALSE&sample=FALSE\"\n",
    "    response = requests.get(f'{query}').json()\n",
    "    JSON_ = response[\"results\"]   ##LIST of dicts\n",
    "    j = j+1\n",
    "    \n",
    "    print(f\"---------------{city}---------------\")\n",
    "    print(city, travel_start, travel_end, lat, lon, query, response)"
   ]
  },
  {
   "cell_type": "code",
   "execution_count": 11,
   "metadata": {},
   "outputs": [
    {
     "ename": "AttributeError",
     "evalue": "'str' object has no attribute 'geocode'",
     "output_type": "error",
     "traceback": [
      "\u001b[0;31m---------------------------------------------------------------------------\u001b[0m",
      "\u001b[0;31mAttributeError\u001b[0m                            Traceback (most recent call last)",
      "\u001b[0;32m<ipython-input-11-8de2661d3160>\u001b[0m in \u001b[0;36m<module>\u001b[0;34m\u001b[0m\n\u001b[1;32m      6\u001b[0m \u001b[0;34m\u001b[0m\u001b[0m\n\u001b[1;32m      7\u001b[0m \u001b[0;32mfor\u001b[0m \u001b[0mcity\u001b[0m \u001b[0;32min\u001b[0m \u001b[0mcities\u001b[0m\u001b[0;34m:\u001b[0m\u001b[0;34m\u001b[0m\u001b[0;34m\u001b[0m\u001b[0m\n\u001b[0;32m----> 8\u001b[0;31m     \u001b[0mcity\u001b[0m\u001b[0;34m.\u001b[0m\u001b[0mgeocode\u001b[0m\u001b[0;34m(\u001b[0m\u001b[0mcity\u001b[0m\u001b[0;34m,\u001b[0m \u001b[0mexactly_one\u001b[0m\u001b[0;34m=\u001b[0m\u001b[0;32mTrue\u001b[0m\u001b[0;34m,\u001b[0m \u001b[0mtimeout\u001b[0m\u001b[0;34m=\u001b[0m\u001b[0mDEFAULT_SENTINEL\u001b[0m\u001b[0;34m,\u001b[0m \u001b[0mcountry\u001b[0m\u001b[0;34m=\u001b[0m\u001b[0;32mNone\u001b[0m\u001b[0;34m,\u001b[0m \u001b[0mcountry_bias\u001b[0m\u001b[0;34m=\u001b[0m\u001b[0;32mNone\u001b[0m\u001b[0;34m)\u001b[0m\u001b[0;34m\u001b[0m\u001b[0;34m\u001b[0m\u001b[0m\n\u001b[0m\u001b[1;32m      9\u001b[0m     \u001b[0mgc\u001b[0m\u001b[0;34m.\u001b[0m\u001b[0mget_cities\u001b[0m\u001b[0;34m(\u001b[0m\u001b[0mcity\u001b[0m\u001b[0;34m)\u001b[0m\u001b[0;34m\u001b[0m\u001b[0;34m\u001b[0m\u001b[0m\n\u001b[1;32m     10\u001b[0m     \u001b[0mgc\u001b[0m\u001b[0;34m.\u001b[0m\u001b[0mget_countries\u001b[0m\u001b[0;34m(\u001b[0m\u001b[0mcity\u001b[0m\u001b[0;34m)\u001b[0m\u001b[0;34m\u001b[0m\u001b[0;34m\u001b[0m\u001b[0m\n",
      "\u001b[0;31mAttributeError\u001b[0m: 'str' object has no attribute 'geocode'"
     ]
    }
   ],
   "source": [
    "gc = geonamescache.GeonamesCache()\n",
    "countries = gc.get_countries()\n",
    "mapper = country(from_key='name', to_key='iso3')\n",
    "\n",
    "\n",
    "\n",
    "for city in cities:\n",
    "    city.geocode(city, exactly_one=True, timeout=DEFAULT_SENTINEL, country=None, country_bias=None)\n",
    "    gc.get_cities(city)\n",
    "    gc.get_countries(city)\n",
    "    print(city, travel_start, travel_end, lat, lon)\n"
   ]
  },
  {
   "cell_type": "markdown",
   "metadata": {},
   "source": [
    "Eventually need to define function that  iterate through weather_params dict, pull values for query and run query\n"
   ]
  },
  {
   "cell_type": "code",
   "execution_count": null,
   "metadata": {},
   "outputs": [],
   "source": [
    "# Initialize list for output of API call;\n",
    "\n",
    "baseURL = \"https://api.globe.gov/search/v1/measurement/protocol/measureddate/point/distance/?protocols=air_temp_dailies&protocols=humidity_noons&protocols=precipitations&protocols=sky_conditions\"\n",
    "\n",
    "#initialize empty lists to append necessary weather data\n",
    "date = []\n",
    "max_temp = []\n",
    "min_temp = []\n",
    "precip = []\n",
    "humidity = []\n",
    "latitude = []\n",
    "longitude= []\n",
    "JSON_list = []\n",
    "\n",
    "i=0\n",
    "\n",
    "## iterrate through weather_params dict to pull out query parameters\n",
    "for j in range(1,4):\n",
    "    travel_start = weather_params[\"travel_details\"][j][\"traveldates_start\"]\n",
    "    travel_end = weather_params[\"travel_details\"][j][\"traveldates_end\"]  \n",
    "    start_date = f\"2018-{travel_start}\"\n",
    "    end_date = f\"2018-{travel_end}\"\n",
    "    city = weather_params[\"travel_details\"][j][\"city\"]\n",
    "    location = gn.geocode(city) \n",
    "    time.sleep(5)\n",
    "    lat = location.latitude\n",
    "    lon = location.longitude\n",
    "    #API query URL\n",
    "    query = f\"{baseURL}&startdate={start_date}&enddate={end_date}&lat={lat}&lon={lon}&distanceinkm=100&geojson=FALSE&sample=FALSE\"\n",
    "    response = requests.get(f'{query}').json()\n",
    "    JSON_ = response[\"results\"]   ##LIST of dicts\n",
    "    #     print(JSON_)\n",
    "\n",
    "    for i in range(len(JSON_)):\n",
    "\n",
    "        ## create conditional to pull data from response    \n",
    "        if JSON_[i]['protocol'] == 'air_temp_dailies':\n",
    "                    ### Append JSON response values to lists for each output variable\n",
    "            date.append(JSON_[i]['measuredDate'])\n",
    "            max_temp.append(JSON_[i]['data']['airtempdailiesMaximumTemp'])\n",
    "            min_temp.append(JSON_[i]['data']['airtempdailiesMinimumTemp'])\n",
    "            latitude.append(JSON_[i]['latitude'])\n",
    "            longitude.append(JSON_[i]['longitude'])\n",
    "        elif JSON_[i]['protocol'] == 'humidity_noons':\n",
    "            humidity.append(JSON_[i]['data']['humiditynoonsRelativeHumidityPercent'])\n",
    "#             j=j+1\n",
    "            i=i+1\n",
    "        elif JSON_[i]['protocol'] == 'precipitations':\n",
    "            precip.append(JSON_[i]['data']['precipitationsOccurrenceType'])\n",
    "#             j=j+1\n",
    "            i=i+1\n",
    "        else: \n",
    "            date.append(np.nan)\n",
    "            max_temp.append(np.nan)\n",
    "            min_temp.append(np.nan)            \n",
    "            latitude.append(np.nan)\n",
    "            longitude.append(np.nan)\n",
    "            humidity.append(np.nan)            \n",
    "            precip.append(np.nan)\n",
    "            i=i+1\n",
    "    del JSON_\n",
    "        \n",
    "    print(city, travel_start, travel_end, lat, lon, query)"
   ]
  },
  {
   "cell_type": "code",
   "execution_count": null,
   "metadata": {},
   "outputs": [],
   "source": [
    "print(len(date),len(max_temp),len(min_temp),len(precip),len(humidity))\n",
    "# print(len(max_temp))\n",
    "# print(len(min_temp))\n",
    "# print(len(precip))\n",
    "# print(len(humidity))\n",
    "print(f\"date{date}\")\n",
    "print(f\"max_temp{max_temp}\")\n",
    "print(f\"min_temp{min_temp}\")\n",
    "print(f\"precip{precip}\")\n",
    "print(f\"humidity{humidity}\")\n",
    "print(f\"latitude{latitude}\")\n",
    "print(f\"longitude{longitude}\")"
   ]
  },
  {
   "cell_type": "code",
   "execution_count": null,
   "metadata": {},
   "outputs": [],
   "source": [
    "# print(len(JSON_list))\n",
    "# print(type(JSON_list[0]))\n",
    "# pp.pprint(JSON_list[0])\n",
    "pp.pprint(JSON_list)\n",
    "\n",
    "## Figure out length of list holding list of JSON response\n",
    "print(len(JSON_list))   ## length should be number of destinations\n",
    "print(f\"JSON LIST: {type(JSON_list)}\")\n",
    "print(f\"JSON LIST FIRST ITEM: {type(JSON_list[0])}\")\n",
    "\n",
    "## figure out length of list holding dicts of API response weather protocols; weather protocols =3 so ##days*3\n",
    "print(len(JSON_list[0]))     ## length will change according to # days for each city\n",
    "##each protocol response is in its own dict, so 1 day = 3 weather dict items\n",
    "print(f\"JSON LIST ITEM ONE, FIRST DICT: {type(JSON_list[0][0])}\")\n",
    "# pp.pprint(JSON_list[2])"
   ]
  },
  {
   "cell_type": "markdown",
   "metadata": {},
   "source": [
    "NOTE: code to test how to extract values from JSON response"
   ]
  },
  {
   "cell_type": "code",
   "execution_count": null,
   "metadata": {},
   "outputs": [],
   "source": [
    "# ## create a variable to hold JSON_list items (i.e, list of each city's historical weather for the date range)\n",
    "# madrid_list = JSON_list[0]\n",
    "# # city_list\n",
    "\n",
    "# ## create variables to hold each day's first 3 weather results (humidity, precip, airtemp)\n",
    "# madridw_1= madrid_list[0]    ### or JSON_list[0][0]\n",
    "# madridw_2 = madrid_list[1]\n",
    "# madridw_3 = madrid_list[2]\n",
    "\n",
    "# ### create variables to hold each day's second 3 weather results (humidity, precip, airtemp)\n",
    "# madridw_4= madrid_list[0]\n",
    "# madridw_5 = madrid_list[1]\n",
    "# madridw_6 = madrid_list[2] \n",
    "\n",
    "# ###etc. etc. over each day in the date range\n",
    "\n",
    "# # pp.pprint(madridw_1)\n",
    "# # pp.pprint(JSON_list[0][0])\n",
    "# # print(madrid_list)\n",
    "# print(madrid_list[2])\n",
    "# print(len(madrid_list))\n"
   ]
  },
  {
   "cell_type": "code",
   "execution_count": null,
   "metadata": {},
   "outputs": [],
   "source": [
    "## initialize dict to hold all output\n",
    "weather={}\n",
    "\n",
    "\n",
    "#initialize empty lists to append necessary weather data\n",
    "date = []\n",
    "max_temp = []\n",
    "min_temp = []\n",
    "precip = []\n",
    "humidity = []\n",
    "lat = []\n",
    "lon= []\n",
    "\n",
    "\n",
    "## Iterate over madrid_list - first list item of JSON_list (i.e., city1)\n",
    "i = 0\n",
    "j = 0\n",
    "\n",
    "# cityweather_list = JSON_list[i]\n",
    "\n",
    "## iterate through JSON_list \n",
    "for i in range(len(JSON_list)):   ###LIST: len=3 for each city\n",
    "    cityweather_list = JSON_list[i]\n",
    "    \n",
    "    ##iterate through cityweather_list of dict\n",
    "    for j in range(len(cityweather_list)):     ###LIST: len=n for each day in date range\n",
    "        \n",
    "            ## create conditional to pull data from different protocol dicts of cityweather_list\n",
    "        if cityweather_list[j]['protocol'] == 'air_temp_dailies':\n",
    "                ### Append JSON response values to lists for each output variable\n",
    "            date.append(cityweather_list[j]['measuredDate'])\n",
    "            max_temp.append(cityweather_list[j]['data']['airtempdailiesMaximumTemp'])\n",
    "            min_temp.append(cityweather_list[j]['data']['airtempdailiesMinimumTemp'])\n",
    "            lat.append(cityweather_list[j]['latitude'])\n",
    "            lon.append(cityweather_list[j]['longitude'])\n",
    "            j=j+1\n",
    "        elif cityweather_list[j]['protocol'] == 'humidity_noons':\n",
    "            humidity.append(cityweather_list[j]['data']['humiditynoonsRelativeHumidityPercent'])\n",
    "            j=j+1\n",
    "        elif cityweather_list[j]['protocol'] == 'precipitations':\n",
    "            precip.append(cityweather_list[j]['data']['precipitationsOccurrenceType'])\n",
    "            j=j+1\n",
    "        else: \n",
    "            date.append(np.nan)\n",
    "            max_temp.append(np.nan)\n",
    "            min_temp.append(np.nan)            \n",
    "            lat.append(np.nan)\n",
    "            lon.append(np.nan)\n",
    "            humidity.append(np.nan)\n",
    "            precip.append(np.nan)\n",
    "        i=i+1\n",
    "    \n",
    "# # for i in range(len(JSON_list)):   ###LIST: len=3 for each city\n",
    "# cityweather_list = JSON_list[i]\n",
    "# for j in range(len(cityweather_list)):     ###LIST: len=n for each day in date range\n",
    "#         ## create conditional to pull data from different weather dicts of results\n",
    "#     if cityweather_list[j]['protocol'] == 'air_temp_dailies':\n",
    "#             ### Append JSON response values to lists for each output variable\n",
    "#         date.append(cityweather_list[j]['measuredDate'])\n",
    "#         max_temp.append(cityweather_list[j]['data']['airtempdailiesMaximumTemp'])\n",
    "#         min_temp.append(cityweather_list[j]['data']['airtempdailiesMinimumTemp'])\n",
    "#         lat.append(cityweather_list[j]['latitude'])\n",
    "#         lon.append(cityweather_list[j]['longitude'])\n",
    "#         j=j+1\n",
    "#     elif cityweather_list[j]['protocol'] == 'humidity_noons':\n",
    "#         humidity.append(cityweather_list[j]['data']['humiditynoonsRelativeHumidityPercent'])\n",
    "#         j=j+1\n",
    "#     elif cityweather_list[j]['protocol'] == 'precipitations':\n",
    "#         precip.append(cityweather_list[j]['data']['precipitationsOccurrenceType'])\n",
    "#         j=j+1\n",
    "#     else: \n",
    "#         date.append(np.nan)\n",
    "#         max_temp.append(np.nan)\n",
    "#         min_temp.append(np.nan)            \n",
    "#         lat.append(np.nan)\n",
    "#         lon.append(np.nan)\n",
    "#         humidity.append(np.nan)\n",
    "#         precip.append(np.nan)\n",
    "#         j=j+1\n",
    "# j=0\n",
    "# i=i+1\n",
    "    \n",
    "    \n",
    "    \n",
    "\n",
    "print(len(date))\n",
    "print(len(max_temp))\n",
    "print(len(min_temp))\n",
    "print(len(precip))\n",
    "print(len(humidity))\n",
    "print(date)\n",
    "print(max_temp)\n",
    "print(max_temp)\n",
    "print(min_temp)\n",
    "print(precip)\n",
    "print(humidity)\n",
    "print(lat)\n",
    "print(lon)\n"
   ]
  },
  {
   "cell_type": "code",
   "execution_count": null,
   "metadata": {},
   "outputs": [],
   "source": [
    "## Drop NaN values from lists\n",
    "test = [x for x in date if ~np.isnan(x)]\n",
    "# date = \n",
    "# max_temp = \n",
    "# min_temp = \n",
    "# precip =\n",
    "# humidity = \n",
    "# lat = \n",
    "# lon= \n",
    "\n"
   ]
  },
  {
   "cell_type": "code",
   "execution_count": null,
   "metadata": {},
   "outputs": [],
   "source": [
    "##Convert lists into dict (or DF) for output.. ideally append onto weather_params dict at beginning\n"
   ]
  },
  {
   "cell_type": "code",
   "execution_count": null,
   "metadata": {},
   "outputs": [],
   "source": []
  },
  {
   "cell_type": "code",
   "execution_count": null,
   "metadata": {},
   "outputs": [],
   "source": [
    "#convert data to DataFrame\n",
    "weather_dict = {\"City\": destinations,\n",
    "                           #\"Country\": country_codes,\n",
    "                           \"Latitude\": lats,\n",
    "                           \"Longitude\": lons,\n",
    "                           \"Dates\": date,\n",
    "                           \"Max Temp\": max_temp,\n",
    "                           \"Min Temp\": min_temp,\n",
    "                           \"Precipitation\": precip_type,\n",
    "                           \"Precipitation Amt\": precip,\n",
    "                           \"Humidity\": humidity\n",
    "               }\n",
    " "
   ]
  },
  {
   "cell_type": "code",
   "execution_count": null,
   "metadata": {},
   "outputs": [],
   "source": [
    "#### NOTES: could copy the WeatherPy hw and make annual graphs of weather trend for each city/destination\n",
    "#### line graph of Annual precipitation for Madrid, London, Paris; \n",
    "#### error bar graph (max, min, mean) with annual temperatures of Madrid London Paris;\n",
    "#### bar graph of Annual humidity for Madrid, London Paris"
   ]
  },
  {
   "cell_type": "code",
   "execution_count": null,
   "metadata": {},
   "outputs": [],
   "source": []
  }
 ],
 "metadata": {
  "kernelspec": {
   "display_name": "Python 3",
   "language": "python",
   "name": "python3"
  },
  "language_info": {
   "codemirror_mode": {
    "name": "ipython",
    "version": 3
   },
   "file_extension": ".py",
   "mimetype": "text/x-python",
   "name": "python",
   "nbconvert_exporter": "python",
   "pygments_lexer": "ipython3",
   "version": "3.7.3"
  }
 },
 "nbformat": 4,
 "nbformat_minor": 2
}
